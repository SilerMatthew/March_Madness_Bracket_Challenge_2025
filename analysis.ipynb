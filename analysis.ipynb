{
 "cells": [
  {
   "cell_type": "code",
   "execution_count": 449,
   "metadata": {},
   "outputs": [],
   "source": [
    "import pandas as pd \n",
    "import numpy as np \n",
    "import math \n",
    "from sklearn.linear_model import LinearRegression\n",
    "import sklearn.metrics\n",
    "from sklearn.preprocessing import StandardScaler"
   ]
  },
  {
   "cell_type": "markdown",
   "metadata": {},
   "source": [
    "# MEN'S ANALYSIS"
   ]
  },
  {
   "cell_type": "markdown",
   "metadata": {},
   "source": [
    "## Reading in the data"
   ]
  },
  {
   "cell_type": "code",
   "execution_count": 450,
   "metadata": {},
   "outputs": [],
   "source": [
    "# Men's regular season detailed stats\n",
    "MRegStats = pd.read_csv(\"Data/MRegularSeasonDetailedResults.csv\")\n",
    "\n",
    "# Men's regular season compact stats\n",
    "MCompStats = pd.read_csv(\"Data/MRegularSeasonCompactResults.csv\")\n",
    "\n",
    "# Men's NCAA tournament detailed stats\n",
    "MTournStats = pd.read_csv(\"Data/MNCAATourneyDetailedResults.csv\")\n",
    "\n",
    "# Men's NCAA tournament compact stats\n",
    "MCompTournStats = pd.read_csv(\"Data/MNCAATourneyCompactResults.csv\")\n",
    "\n",
    "# Men's Conference tournament stats\n",
    "MConfTournStats = pd.read_csv(\"Data/MConferenceTourneyGames.csv\")\n",
    "\n",
    "# Men's Team names\n",
    "MTeams = pd.read_csv(\"Data/MTeams.csv\")\n",
    "MTeamSpellings = pd.read_csv(\"Data/MTeamSpellings.csv\", encoding='unicode_escape')\n",
    "\n",
    "# Men's Massey Ordinals\n",
    "MOridinals = pd.read_csv(\"Data/MMasseyOrdinals.csv\")\n",
    "\n",
    "# Men's Tournament Seeds\n",
    "MSeeds = pd.read_csv(\"Data/MNCAATourneySeeds.csv\")\n",
    "\n",
    "# Men's Coaches\n",
    "MCoaches = pd.read_csv(\"Data/MTeamCoaches.csv\")\n",
    "\n",
    "# Men's Conferences\n",
    "MConferences = pd.read_csv(\"Data/MTeamConferences.csv\")\n",
    "\n",
    "# Cities\n",
    "Cities = pd.read_csv(\"Data/Cities.csv\")\n",
    "MGameCities = pd.read_csv(\"Data/MGameCities.csv\")"
   ]
  },
  {
   "cell_type": "code",
   "execution_count": 451,
   "metadata": {},
   "outputs": [],
   "source": [
    "# Basic Percentage Stats\n",
    "# FG Perc\n",
    "MRegStats[\"WFGPerc\"] = MRegStats[\"WFGM\"] / MRegStats[\"WFGA\"]\n",
    "MRegStats[\"LFGPerc\"] = MRegStats[\"LFGM\"] / MRegStats[\"LFGA\"]\n",
    "\n",
    "# 3PT Perc\n",
    "MRegStats[\"WFG3Perc\"] = MRegStats[\"WFGM3\"] / MRegStats[\"WFGA3\"]\n",
    "MRegStats[\"LFG3Perc\"] = MRegStats[\"LFGM3\"] / MRegStats[\"LFGA3\"]\n",
    "\n",
    "# 3PT Rate\n",
    "MRegStats[\"W3Rate\"] = MRegStats[\"WFGA3\"] / MRegStats[\"WFGA\"]\n",
    "MRegStats[\"L3Rate\"] = MRegStats[\"LFGA3\"] / MRegStats[\"LFGA\"]\n",
    "\n",
    "# FT Perc\n",
    "#MRegStats[\"WFTPerc\"] = MRegStats[\"WFTM\"] / MRegStats[\"WFTA\"]\n",
    "#MRegStats[\"LFTPerc\"] = MRegStats[\"LFTM\"] / MRegStats[\"LFTA\"]\n",
    "\n",
    "# 2PT Perc\n",
    "MRegStats[\"WFG2Perc\"] = (MRegStats[\"WFGM\"] - MRegStats[\"WFGM3\"]) / (MRegStats[\"WFGA\"] - MRegStats[\"WFGA3\"])\n",
    "MRegStats[\"LFG2Perc\"] = (MRegStats[\"LFGM\"] - MRegStats[\"LFGM3\"]) / (MRegStats[\"LFGA\"] - MRegStats[\"LFGA3\"])\n",
    "\n",
    "# 2PT Rate\n",
    "MRegStats[\"W2Rate\"] = (MRegStats[\"WFGA\"] - MRegStats[\"WFGA3\"]) / MRegStats[\"WFGA\"]\n",
    "MRegStats[\"L2Rate\"] = (MRegStats[\"LFGA\"] - MRegStats[\"LFGA3\"]) / MRegStats[\"LFGA\"]\n"
   ]
  },
  {
   "cell_type": "code",
   "execution_count": 452,
   "metadata": {},
   "outputs": [],
   "source": [
    "# Tempo\n",
    "# This is how the NET rankings calculate tempo so we will emulate it\n",
    "MRegStats[\"WTempo\"] = MRegStats[\"WFGA\"] - MRegStats[\"WOR\"] + MRegStats[\"WTO\"] + 0.475 * MRegStats[\"WFTA\"]\n",
    "MRegStats[\"LTempo\"] = MRegStats[\"LFGA\"] - MRegStats[\"LOR\"] + MRegStats[\"LTO\"] + 0.475 * MRegStats[\"LFTA\"]\n",
    "\n",
    "# Four Factors\n",
    "# eFG%\n",
    "MRegStats[\"WeFG\"] = (MRegStats[\"WFGM\"] + 0.5 * MRegStats[\"WFGM3\"]) / MRegStats[\"WFGA\"]\n",
    "MRegStats[\"LeFG\"] = (MRegStats[\"LFGM\"] + 0.5 * MRegStats[\"LFGM3\"]) / MRegStats[\"LFGA\"]\n",
    "\n",
    "# OR%\n",
    "MRegStats[\"WORPerc\"] = MRegStats[\"WOR\"] / (MRegStats[\"WOR\"] + MRegStats[\"LDR\"])\n",
    "MRegStats[\"LORPerc\"] = MRegStats[\"LOR\"] / (MRegStats[\"LOR\"] + MRegStats[\"WDR\"])\n",
    "\n",
    "# TO%\n",
    "MRegStats[\"WTOPerc\"] = (MRegStats[\"WTO\"] / MRegStats[\"WTempo\"]) * 100\n",
    "MRegStats[\"LTOPerc\"] = (MRegStats[\"LTO\"] / MRegStats[\"LTempo\"]) * 100\n",
    "\n",
    "# FTR\n",
    "MRegStats[\"WFTR\"] = MRegStats[\"WFTA\"] / MRegStats[\"WFGA\"]\n",
    "MRegStats[\"LFTR\"] = MRegStats[\"LFTA\"] / MRegStats[\"LFGA\"]"
   ]
  },
  {
   "cell_type": "code",
   "execution_count": 453,
   "metadata": {},
   "outputs": [],
   "source": [
    "# Net Rating Stats\n",
    "\n",
    "# \"uORTG\" is unadjusted Offensive Rating. This will be used to adjust later.\n",
    "MRegStats[\"WuORTG\"] = (MRegStats[\"WScore\"] / MRegStats[\"WTempo\"]) * 100\n",
    "MRegStats[\"LuORTG\"] = (MRegStats[\"LScore\"] / MRegStats[\"LTempo\"]) * 100\n",
    "\n",
    "# The same goes for defensive rating. \"uDRTG\" is the unadjusted defensive rating\n",
    "MRegStats[\"WuDRTG\"] = (MRegStats[\"LScore\"] / MRegStats[\"LTempo\"]) * 100\n",
    "MRegStats[\"LuDRTG\"] = (MRegStats[\"WScore\"] / MRegStats[\"WTempo\"]) * 100\n",
    "\n",
    "# And now Net Rating is just Offensive Rating - Defensive Rating\n",
    "MRegStats[\"WuNetRtg\"] = MRegStats[\"WuORTG\"] - MRegStats[\"WuDRTG\"]\n",
    "MRegStats[\"LuNetRtg\"] = MRegStats[\"LuORTG\"] - MRegStats[\"LuDRTG\"]\n"
   ]
  },
  {
   "cell_type": "markdown",
   "metadata": {},
   "source": [
    "Adjusting the data to be longer instead of wider. Twice as long but groupable by team now."
   ]
  },
  {
   "cell_type": "code",
   "execution_count": 454,
   "metadata": {},
   "outputs": [],
   "source": [
    "# Making two dataframes so that they can be added to each other when they change\n",
    "MWTeamStats = MRegStats.copy()\n",
    "MLTeamStats = MRegStats.copy()\n",
    "# Changing location of teams between wins and losses\n",
    "MLTeamStats[\"WLoc\"] = MLTeamStats[\"WLoc\"].map(lambda x: \"H\" if x == \"A\" else \"A\" if x == \"H\" else x)\n",
    "MLTeamStats[\"LLoc\"] = MLTeamStats[\"WLoc\"]\n",
    "MLTeamStats.drop(\"WLoc\",axis = 1, inplace = True)\n",
    "\n",
    "\n",
    "# Rename columns for MWTeamStats (Team perspective)\n",
    "MWTeamStats.rename(columns={col: col.replace(\"W\", \"Team_\", 1) for col in MWTeamStats.columns if col.startswith(\"W\")}, inplace=True)\n",
    "MWTeamStats.rename(columns={col: col.replace(\"L\", \"Opp_\", 1) for col in MWTeamStats.columns if col.startswith(\"L\")}, inplace=True)\n",
    "\n",
    "# Rename columns for MLTeamStats (Opponent perspective)\n",
    "MLTeamStats.rename(columns={col: col.replace(\"W\", \"Opp_\", 1) for col in MLTeamStats.columns if col.startswith(\"W\")}, inplace=True)\n",
    "MLTeamStats.rename(columns={col: col.replace(\"L\", \"Team_\", 1) for col in MLTeamStats.columns if col.startswith(\"L\")}, inplace=True)\n",
    "\n",
    "# Final Team Stats dataframe\n",
    "MTeamStats = pd.concat([MWTeamStats, MLTeamStats], ignore_index=True)"
   ]
  },
  {
   "cell_type": "markdown",
   "metadata": {},
   "source": [
    "Doing the same but for Tournament Stats"
   ]
  },
  {
   "cell_type": "code",
   "execution_count": 455,
   "metadata": {},
   "outputs": [],
   "source": [
    "MWTeamStats = MTournStats.copy()\n",
    "MLTeamStats = MTournStats.copy()\n",
    "# Changing location of teams between wins and losses\n",
    "MLTeamStats[\"WLoc\"] = MLTeamStats[\"WLoc\"].map(lambda x: \"H\" if x == \"A\" else \"A\" if x == \"H\" else x)\n",
    "MLTeamStats[\"LLoc\"] = MLTeamStats[\"WLoc\"]\n",
    "MLTeamStats.drop(\"WLoc\",axis = 1, inplace = True)\n",
    "\n",
    "\n",
    "# Rename columns for MWTeamStats (Team perspective)\n",
    "MWTeamStats.rename(columns={col: col.replace(\"W\", \"Team_\", 1) for col in MWTeamStats.columns if col.startswith(\"W\")}, inplace=True)\n",
    "MWTeamStats.rename(columns={col: col.replace(\"L\", \"Opp_\", 1) for col in MWTeamStats.columns if col.startswith(\"L\")}, inplace=True)\n",
    "\n",
    "# Rename columns for MLTeamStats (Opponent perspective)\n",
    "MLTeamStats.rename(columns={col: col.replace(\"W\", \"Opp_\", 1) for col in MLTeamStats.columns if col.startswith(\"W\")}, inplace=True)\n",
    "MLTeamStats.rename(columns={col: col.replace(\"L\", \"Team_\", 1) for col in MLTeamStats.columns if col.startswith(\"L\")}, inplace=True)\n",
    "\n",
    "# Final Team Stats dataframe\n",
    "MTournTeamStats = pd.concat([MWTeamStats, MLTeamStats], ignore_index=True)"
   ]
  },
  {
   "cell_type": "markdown",
   "metadata": {},
   "source": [
    "Additional Stats Added - Conference (Name and Record), Coach, Wins, City (later)"
   ]
  },
  {
   "cell_type": "code",
   "execution_count": 456,
   "metadata": {},
   "outputs": [
    {
     "data": {
      "application/vnd.microsoft.datawrangler.viewer.v0+json": {
       "columns": [
        {
         "name": "index",
         "rawType": "int64",
         "type": "integer"
        },
        {
         "name": "Season",
         "rawType": "int64",
         "type": "integer"
        },
        {
         "name": "DayNum",
         "rawType": "int64",
         "type": "integer"
        },
        {
         "name": "Team_TeamID",
         "rawType": "int64",
         "type": "integer"
        },
        {
         "name": "Team_Score",
         "rawType": "int64",
         "type": "integer"
        },
        {
         "name": "Opp_TeamID",
         "rawType": "int64",
         "type": "integer"
        },
        {
         "name": "Opp_Score",
         "rawType": "int64",
         "type": "integer"
        },
        {
         "name": "Team_Loc",
         "rawType": "object",
         "type": "string"
        },
        {
         "name": "NumOT",
         "rawType": "int64",
         "type": "integer"
        },
        {
         "name": "Team_FGM",
         "rawType": "int64",
         "type": "integer"
        },
        {
         "name": "Team_FGA",
         "rawType": "int64",
         "type": "integer"
        },
        {
         "name": "Team_FGM3",
         "rawType": "int64",
         "type": "integer"
        },
        {
         "name": "Team_FGA3",
         "rawType": "int64",
         "type": "integer"
        },
        {
         "name": "Team_FTM",
         "rawType": "int64",
         "type": "integer"
        },
        {
         "name": "Team_FTA",
         "rawType": "int64",
         "type": "integer"
        },
        {
         "name": "Team_OR",
         "rawType": "int64",
         "type": "integer"
        },
        {
         "name": "Team_DR",
         "rawType": "int64",
         "type": "integer"
        },
        {
         "name": "Team_Ast",
         "rawType": "int64",
         "type": "integer"
        },
        {
         "name": "Team_TO",
         "rawType": "int64",
         "type": "integer"
        },
        {
         "name": "Team_Stl",
         "rawType": "int64",
         "type": "integer"
        },
        {
         "name": "Team_Blk",
         "rawType": "int64",
         "type": "integer"
        },
        {
         "name": "Team_PF",
         "rawType": "int64",
         "type": "integer"
        },
        {
         "name": "Opp_FGM",
         "rawType": "int64",
         "type": "integer"
        },
        {
         "name": "Opp_FGA",
         "rawType": "int64",
         "type": "integer"
        },
        {
         "name": "Opp_FGM3",
         "rawType": "int64",
         "type": "integer"
        },
        {
         "name": "Opp_FGA3",
         "rawType": "int64",
         "type": "integer"
        },
        {
         "name": "Opp_FTM",
         "rawType": "int64",
         "type": "integer"
        },
        {
         "name": "Opp_FTA",
         "rawType": "int64",
         "type": "integer"
        },
        {
         "name": "Opp_OR",
         "rawType": "int64",
         "type": "integer"
        },
        {
         "name": "Opp_DR",
         "rawType": "int64",
         "type": "integer"
        },
        {
         "name": "Opp_Ast",
         "rawType": "int64",
         "type": "integer"
        },
        {
         "name": "Opp_TO",
         "rawType": "int64",
         "type": "integer"
        },
        {
         "name": "Opp_Stl",
         "rawType": "int64",
         "type": "integer"
        },
        {
         "name": "Opp_Blk",
         "rawType": "int64",
         "type": "integer"
        },
        {
         "name": "Opp_PF",
         "rawType": "int64",
         "type": "integer"
        },
        {
         "name": "Team_FGPerc",
         "rawType": "float64",
         "type": "float"
        },
        {
         "name": "Opp_FGPerc",
         "rawType": "float64",
         "type": "float"
        },
        {
         "name": "Team_FG3Perc",
         "rawType": "float64",
         "type": "float"
        },
        {
         "name": "Opp_FG3Perc",
         "rawType": "float64",
         "type": "float"
        },
        {
         "name": "Team_3Rate",
         "rawType": "float64",
         "type": "float"
        },
        {
         "name": "Opp_3Rate",
         "rawType": "float64",
         "type": "float"
        },
        {
         "name": "Team_FG2Perc",
         "rawType": "float64",
         "type": "float"
        },
        {
         "name": "Opp_FG2Perc",
         "rawType": "float64",
         "type": "float"
        },
        {
         "name": "Team_2Rate",
         "rawType": "float64",
         "type": "float"
        },
        {
         "name": "Opp_2Rate",
         "rawType": "float64",
         "type": "float"
        },
        {
         "name": "Team_Tempo",
         "rawType": "float64",
         "type": "float"
        },
        {
         "name": "Opp_Tempo",
         "rawType": "float64",
         "type": "float"
        },
        {
         "name": "Team_eFG",
         "rawType": "float64",
         "type": "float"
        },
        {
         "name": "Opp_eFG",
         "rawType": "float64",
         "type": "float"
        },
        {
         "name": "Team_ORPerc",
         "rawType": "float64",
         "type": "float"
        },
        {
         "name": "Opp_ORPerc",
         "rawType": "float64",
         "type": "float"
        },
        {
         "name": "Team_TOPerc",
         "rawType": "float64",
         "type": "float"
        },
        {
         "name": "Opp_TOPerc",
         "rawType": "float64",
         "type": "float"
        },
        {
         "name": "Team_FTR",
         "rawType": "float64",
         "type": "float"
        },
        {
         "name": "Opp_FTR",
         "rawType": "float64",
         "type": "float"
        },
        {
         "name": "Team_uORTG",
         "rawType": "float64",
         "type": "float"
        },
        {
         "name": "Opp_uORTG",
         "rawType": "float64",
         "type": "float"
        },
        {
         "name": "Team_uDRTG",
         "rawType": "float64",
         "type": "float"
        },
        {
         "name": "Opp_uDRTG",
         "rawType": "float64",
         "type": "float"
        },
        {
         "name": "Team_uNetRtg",
         "rawType": "float64",
         "type": "float"
        },
        {
         "name": "Opp_uNetRtg",
         "rawType": "float64",
         "type": "float"
        },
        {
         "name": "TeamID_x",
         "rawType": "int64",
         "type": "integer"
        },
        {
         "name": "Team_Conf",
         "rawType": "object",
         "type": "string"
        },
        {
         "name": "TeamID_y",
         "rawType": "int64",
         "type": "integer"
        },
        {
         "name": "Opp_Conf",
         "rawType": "object",
         "type": "string"
        },
        {
         "name": "ConfGame",
         "rawType": "int32",
         "type": "integer"
        }
       ],
       "conversionMethod": "pd.DataFrame",
       "ref": "f06d68fd-cf36-4869-aba1-d37bdef5e7b2",
       "rows": [
        [
         "0",
         "2003",
         "10",
         "1104",
         "68",
         "1328",
         "62",
         "N",
         "0",
         "27",
         "58",
         "3",
         "14",
         "11",
         "18",
         "14",
         "24",
         "13",
         "23",
         "7",
         "1",
         "22",
         "22",
         "53",
         "2",
         "10",
         "16",
         "22",
         "10",
         "22",
         "8",
         "18",
         "9",
         "2",
         "20",
         "0.46551724137931033",
         "0.41509433962264153",
         "0.21428571428571427",
         "0.2",
         "0.2413793103448276",
         "0.18867924528301888",
         "0.5454545454545454",
         "0.46511627906976744",
         "0.7586206896551724",
         "0.8113207547169812",
         "75.55",
         "71.45",
         "0.49137931034482757",
         "0.4339622641509434",
         "0.3888888888888889",
         "0.29411764705882354",
         "30.443414956982135",
         "25.192442267319805",
         "0.3103448275862069",
         "0.41509433962264153",
         "90.0066181336863",
         "86.77396780965711",
         "86.77396780965711",
         "90.0066181336863",
         "3.232650324029194",
         "-3.232650324029194",
         "1104",
         "sec",
         "1328",
         "big_twelve",
         "0"
        ],
        [
         "1",
         "2003",
         "98",
         "1400",
         "67",
         "1328",
         "61",
         "H",
         "0",
         "25",
         "64",
         "5",
         "14",
         "12",
         "20",
         "18",
         "24",
         "10",
         "10",
         "5",
         "4",
         "16",
         "22",
         "52",
         "7",
         "14",
         "10",
         "15",
         "9",
         "25",
         "5",
         "14",
         "5",
         "3",
         "20",
         "0.390625",
         "0.4230769230769231",
         "0.35714285714285715",
         "0.5",
         "0.21875",
         "0.2692307692307692",
         "0.4",
         "0.39473684210526316",
         "0.78125",
         "0.7307692307692307",
         "65.5",
         "64.125",
         "0.4296875",
         "0.49038461538461536",
         "0.4186046511627907",
         "0.2727272727272727",
         "15.267175572519085",
         "21.832358674463936",
         "0.3125",
         "0.28846153846153844",
         "102.29007633587786",
         "95.12670565302143",
         "95.12670565302143",
         "102.29007633587786",
         "7.163370682856424",
         "-7.163370682856424",
         "1400",
         "big_twelve",
         "1328",
         "big_twelve",
         "1"
        ],
        [
         "2",
         "2003",
         "124",
         "1400",
         "76",
         "1328",
         "71",
         "A",
         "0",
         "27",
         "50",
         "6",
         "11",
         "16",
         "25",
         "9",
         "28",
         "13",
         "13",
         "5",
         "0",
         "21",
         "25",
         "60",
         "8",
         "21",
         "13",
         "23",
         "15",
         "19",
         "16",
         "9",
         "8",
         "6",
         "23",
         "0.54",
         "0.4166666666666667",
         "0.5454545454545454",
         "0.38095238095238093",
         "0.22",
         "0.35",
         "0.5384615384615384",
         "0.4358974358974359",
         "0.78",
         "0.65",
         "65.875",
         "64.925",
         "0.6",
         "0.48333333333333334",
         "0.32142857142857145",
         "0.3488372093023256",
         "19.734345351043643",
         "13.862148633038121",
         "0.5",
         "0.38333333333333336",
         "115.37001897533207",
         "109.35695032730072",
         "109.35695032730072",
         "115.37001897533207",
         "6.01306864803135",
         "-6.01306864803135",
         "1400",
         "big_twelve",
         "1328",
         "big_twelve",
         "1"
        ],
        [
         "3",
         "2003",
         "111",
         "1242",
         "70",
         "1328",
         "77",
         "A",
         "0",
         "21",
         "61",
         "5",
         "14",
         "23",
         "33",
         "16",
         "27",
         "12",
         "12",
         "6",
         "3",
         "26",
         "25",
         "52",
         "9",
         "16",
         "18",
         "31",
         "8",
         "29",
         "9",
         "13",
         "6",
         "6",
         "26",
         "0.3442622950819672",
         "0.4807692307692308",
         "0.35714285714285715",
         "0.5625",
         "0.22950819672131148",
         "0.3076923076923077",
         "0.3404255319148936",
         "0.4444444444444444",
         "0.7704918032786885",
         "0.6923076923076923",
         "72.675",
         "71.725",
         "0.38524590163934425",
         "0.5673076923076923",
         "0.35555555555555557",
         "0.22857142857142856",
         "16.51186790505676",
         "18.12478215406065",
         "0.5409836065573771",
         "0.5961538461538461",
         "96.31922944616443",
         "107.35447891251309",
         "107.35447891251309",
         "96.31922944616443",
         "-11.03524946634866",
         "11.03524946634866",
         "1242",
         "big_twelve",
         "1328",
         "big_twelve",
         "1"
        ],
        [
         "4",
         "2003",
         "120",
         "1304",
         "51",
         "1328",
         "76",
         "A",
         "0",
         "21",
         "53",
         "1",
         "12",
         "8",
         "16",
         "10",
         "26",
         "7",
         "20",
         "5",
         "2",
         "17",
         "27",
         "62",
         "8",
         "19",
         "14",
         "17",
         "12",
         "28",
         "19",
         "12",
         "7",
         "7",
         "15",
         "0.39622641509433965",
         "0.43548387096774194",
         "0.08333333333333333",
         "0.42105263157894735",
         "0.22641509433962265",
         "0.3064516129032258",
         "0.4878048780487805",
         "0.4418604651162791",
         "0.7735849056603774",
         "0.6935483870967742",
         "70.6",
         "70.075",
         "0.4056603773584906",
         "0.5",
         "0.2631578947368421",
         "0.3157894736842105",
         "28.328611898016998",
         "17.12450945415626",
         "0.3018867924528302",
         "0.27419354838709675",
         "72.23796033994336",
         "108.45522654298965",
         "108.45522654298965",
         "72.23796033994336",
         "-36.21726620304629",
         "36.21726620304629",
         "1304",
         "big_twelve",
         "1328",
         "big_twelve",
         "1"
        ]
       ],
       "shape": {
        "columns": 65,
        "rows": 5
       }
      },
      "text/html": [
       "<div>\n",
       "<style scoped>\n",
       "    .dataframe tbody tr th:only-of-type {\n",
       "        vertical-align: middle;\n",
       "    }\n",
       "\n",
       "    .dataframe tbody tr th {\n",
       "        vertical-align: top;\n",
       "    }\n",
       "\n",
       "    .dataframe thead th {\n",
       "        text-align: right;\n",
       "    }\n",
       "</style>\n",
       "<table border=\"1\" class=\"dataframe\">\n",
       "  <thead>\n",
       "    <tr style=\"text-align: right;\">\n",
       "      <th></th>\n",
       "      <th>Season</th>\n",
       "      <th>DayNum</th>\n",
       "      <th>Team_TeamID</th>\n",
       "      <th>Team_Score</th>\n",
       "      <th>Opp_TeamID</th>\n",
       "      <th>Opp_Score</th>\n",
       "      <th>Team_Loc</th>\n",
       "      <th>NumOT</th>\n",
       "      <th>Team_FGM</th>\n",
       "      <th>Team_FGA</th>\n",
       "      <th>...</th>\n",
       "      <th>Opp_uORTG</th>\n",
       "      <th>Team_uDRTG</th>\n",
       "      <th>Opp_uDRTG</th>\n",
       "      <th>Team_uNetRtg</th>\n",
       "      <th>Opp_uNetRtg</th>\n",
       "      <th>TeamID_x</th>\n",
       "      <th>Team_Conf</th>\n",
       "      <th>TeamID_y</th>\n",
       "      <th>Opp_Conf</th>\n",
       "      <th>ConfGame</th>\n",
       "    </tr>\n",
       "  </thead>\n",
       "  <tbody>\n",
       "    <tr>\n",
       "      <th>0</th>\n",
       "      <td>2003</td>\n",
       "      <td>10</td>\n",
       "      <td>1104</td>\n",
       "      <td>68</td>\n",
       "      <td>1328</td>\n",
       "      <td>62</td>\n",
       "      <td>N</td>\n",
       "      <td>0</td>\n",
       "      <td>27</td>\n",
       "      <td>58</td>\n",
       "      <td>...</td>\n",
       "      <td>86.773968</td>\n",
       "      <td>86.773968</td>\n",
       "      <td>90.006618</td>\n",
       "      <td>3.232650</td>\n",
       "      <td>-3.232650</td>\n",
       "      <td>1104</td>\n",
       "      <td>sec</td>\n",
       "      <td>1328</td>\n",
       "      <td>big_twelve</td>\n",
       "      <td>0</td>\n",
       "    </tr>\n",
       "    <tr>\n",
       "      <th>1</th>\n",
       "      <td>2003</td>\n",
       "      <td>98</td>\n",
       "      <td>1400</td>\n",
       "      <td>67</td>\n",
       "      <td>1328</td>\n",
       "      <td>61</td>\n",
       "      <td>H</td>\n",
       "      <td>0</td>\n",
       "      <td>25</td>\n",
       "      <td>64</td>\n",
       "      <td>...</td>\n",
       "      <td>95.126706</td>\n",
       "      <td>95.126706</td>\n",
       "      <td>102.290076</td>\n",
       "      <td>7.163371</td>\n",
       "      <td>-7.163371</td>\n",
       "      <td>1400</td>\n",
       "      <td>big_twelve</td>\n",
       "      <td>1328</td>\n",
       "      <td>big_twelve</td>\n",
       "      <td>1</td>\n",
       "    </tr>\n",
       "    <tr>\n",
       "      <th>2</th>\n",
       "      <td>2003</td>\n",
       "      <td>124</td>\n",
       "      <td>1400</td>\n",
       "      <td>76</td>\n",
       "      <td>1328</td>\n",
       "      <td>71</td>\n",
       "      <td>A</td>\n",
       "      <td>0</td>\n",
       "      <td>27</td>\n",
       "      <td>50</td>\n",
       "      <td>...</td>\n",
       "      <td>109.356950</td>\n",
       "      <td>109.356950</td>\n",
       "      <td>115.370019</td>\n",
       "      <td>6.013069</td>\n",
       "      <td>-6.013069</td>\n",
       "      <td>1400</td>\n",
       "      <td>big_twelve</td>\n",
       "      <td>1328</td>\n",
       "      <td>big_twelve</td>\n",
       "      <td>1</td>\n",
       "    </tr>\n",
       "    <tr>\n",
       "      <th>3</th>\n",
       "      <td>2003</td>\n",
       "      <td>111</td>\n",
       "      <td>1242</td>\n",
       "      <td>70</td>\n",
       "      <td>1328</td>\n",
       "      <td>77</td>\n",
       "      <td>A</td>\n",
       "      <td>0</td>\n",
       "      <td>21</td>\n",
       "      <td>61</td>\n",
       "      <td>...</td>\n",
       "      <td>107.354479</td>\n",
       "      <td>107.354479</td>\n",
       "      <td>96.319229</td>\n",
       "      <td>-11.035249</td>\n",
       "      <td>11.035249</td>\n",
       "      <td>1242</td>\n",
       "      <td>big_twelve</td>\n",
       "      <td>1328</td>\n",
       "      <td>big_twelve</td>\n",
       "      <td>1</td>\n",
       "    </tr>\n",
       "    <tr>\n",
       "      <th>4</th>\n",
       "      <td>2003</td>\n",
       "      <td>120</td>\n",
       "      <td>1304</td>\n",
       "      <td>51</td>\n",
       "      <td>1328</td>\n",
       "      <td>76</td>\n",
       "      <td>A</td>\n",
       "      <td>0</td>\n",
       "      <td>21</td>\n",
       "      <td>53</td>\n",
       "      <td>...</td>\n",
       "      <td>108.455227</td>\n",
       "      <td>108.455227</td>\n",
       "      <td>72.237960</td>\n",
       "      <td>-36.217266</td>\n",
       "      <td>36.217266</td>\n",
       "      <td>1304</td>\n",
       "      <td>big_twelve</td>\n",
       "      <td>1328</td>\n",
       "      <td>big_twelve</td>\n",
       "      <td>1</td>\n",
       "    </tr>\n",
       "  </tbody>\n",
       "</table>\n",
       "<p>5 rows × 65 columns</p>\n",
       "</div>"
      ],
      "text/plain": [
       "   Season  DayNum  Team_TeamID  Team_Score  Opp_TeamID  Opp_Score Team_Loc  \\\n",
       "0    2003      10         1104          68        1328         62        N   \n",
       "1    2003      98         1400          67        1328         61        H   \n",
       "2    2003     124         1400          76        1328         71        A   \n",
       "3    2003     111         1242          70        1328         77        A   \n",
       "4    2003     120         1304          51        1328         76        A   \n",
       "\n",
       "   NumOT  Team_FGM  Team_FGA  ...   Opp_uORTG  Team_uDRTG   Opp_uDRTG  \\\n",
       "0      0        27        58  ...   86.773968   86.773968   90.006618   \n",
       "1      0        25        64  ...   95.126706   95.126706  102.290076   \n",
       "2      0        27        50  ...  109.356950  109.356950  115.370019   \n",
       "3      0        21        61  ...  107.354479  107.354479   96.319229   \n",
       "4      0        21        53  ...  108.455227  108.455227   72.237960   \n",
       "\n",
       "   Team_uNetRtg  Opp_uNetRtg  TeamID_x   Team_Conf  TeamID_y    Opp_Conf  \\\n",
       "0      3.232650    -3.232650      1104         sec      1328  big_twelve   \n",
       "1      7.163371    -7.163371      1400  big_twelve      1328  big_twelve   \n",
       "2      6.013069    -6.013069      1400  big_twelve      1328  big_twelve   \n",
       "3    -11.035249    11.035249      1242  big_twelve      1328  big_twelve   \n",
       "4    -36.217266    36.217266      1304  big_twelve      1328  big_twelve   \n",
       "\n",
       "   ConfGame  \n",
       "0         0  \n",
       "1         1  \n",
       "2         1  \n",
       "3         1  \n",
       "4         1  \n",
       "\n",
       "[5 rows x 65 columns]"
      ]
     },
     "execution_count": 456,
     "metadata": {},
     "output_type": "execute_result"
    }
   ],
   "source": [
    "# Merge conference names for conference bias later in the analysis\n",
    "MTeamStats = MTeamStats.merge(MConferences,left_on = [\"Season\",\"Team_TeamID\"],right_on = [\"Season\",\"TeamID\"]).rename(columns = {\"ConfAbbrev\": \"Team_Conf\"})\n",
    "MTeamStats = MTeamStats.merge(MConferences, left_on = [\"Season\",\"Opp_TeamID\"], right_on = [\"Season\",\"TeamID\"]).rename(columns = {\"ConfAbbrev\": \"Opp_Conf\"})\n",
    "MTeamStats[\"ConfGame\"] = (MTeamStats[\"Team_Conf\"] == MTeamStats[\"Opp_Conf\"]).astype(int)\n",
    "\n",
    "MTeamStats.head()"
   ]
  },
  {
   "cell_type": "code",
   "execution_count": 457,
   "metadata": {},
   "outputs": [],
   "source": [
    "# Add a result to see if a team won or not; this will be used for win percentage later\n",
    "MTeamStats[\"Result\"] = (MTeamStats[\"Team_Score\"] > MTeamStats[\"Opp_Score\"]).astype(int)"
   ]
  },
  {
   "cell_type": "markdown",
   "metadata": {},
   "source": [
    "Instead of looking at just net rating, we want to adjust based on the offensive and defensive ratings as well. We normalize the offense and defensive ratings in order to get an adjustment for later."
   ]
  },
  {
   "cell_type": "code",
   "execution_count": 458,
   "metadata": {},
   "outputs": [],
   "source": [
    "# Select only numerical columns in the MTeamStats dataframe\n",
    "TeamStatsNumericCols = MTeamStats.select_dtypes(include = ['number']).columns.difference([\"Season\",\"Team_TeamID\",\"Opp_TeamID\"])\n",
    "\n",
    "# Use the numerical columns to then get the mean of all of the columns\n",
    "MTeamGroupedStats = MTeamStats.groupby([\"Season\",\"Team_TeamID\",\"Team_Conf\"])[TeamStatsNumericCols].mean().reset_index()\n",
    "\n",
    "# Group by conference to get conference adjustments\n",
    "MConfNetStats = MTeamStats.groupby([\"Season\",\"Team_Conf\"])[[\"Team_uORTG\",\"Team_uDRTG\",\"Team_uNetRtg\"]].mean().reset_index()\n",
    "MConfNetStats[\"Team_uORTGweight\"] = MConfNetStats[\"Team_uORTG\"] / MConfNetStats[\"Team_uORTG\"].mean()\n",
    "MConfNetStats[\"Team_uDRTGweight\"] = MConfNetStats[\"Team_uDRTG\"] / MConfNetStats[\"Team_uDRTG\"].mean()\n",
    "MConfNetStats[\"Team_uNetweight\"] = (MConfNetStats[\"Team_uORTG\"] - MConfNetStats[\"Team_uDRTG\"]) / (MConfNetStats[\"Team_uORTG\"] - MConfNetStats[\"Team_uDRTG\"]).mean()"
   ]
  },
  {
   "cell_type": "code",
   "execution_count": 459,
   "metadata": {},
   "outputs": [],
   "source": [
    "# Merging the conference weights back into the original dataframe\n",
    "MTeamGroupedStats = MTeamGroupedStats.merge(MConfNetStats[[\"Season\",\"Team_Conf\",\"Team_uORTGweight\",\"Team_uDRTGweight\",\"Team_uNetweight\"]],on = [\"Season\",\"Team_Conf\"])"
   ]
  },
  {
   "cell_type": "code",
   "execution_count": 478,
   "metadata": {},
   "outputs": [],
   "source": [
    "# Creating the conference-adjusted team weights\n",
    "MTeamGroupedStats[\"ConfAdjORTG\"] = MTeamGroupedStats[\"Team_uORTG\"] * MTeamGroupedStats[\"Team_uORTGweight\"]\n",
    "MTeamGroupedStats[\"ConfAdjDRTG\"] = MTeamGroupedStats[\"Team_uDRTG\"] * MTeamGroupedStats[\"Team_uDRTGweight\"]\n",
    "MTeamGroupedStats[\"ConfAdjustment\"] = (MTeamGroupedStats[\"ConfAdjORTG\"] - MTeamGroupedStats[\"ConfAdjDRTG\"]) #* MTeamGroupedStats[\"Team_uNetweight\"]\n",
    "MTeamGroupedStats[\"ConfAdjNetRtg\"] = MTeamGroupedStats[\"Team_uNetRtg\"] + MTeamGroupedStats[\"ConfAdjustment\"]"
   ]
  },
  {
   "cell_type": "code",
   "execution_count": 461,
   "metadata": {},
   "outputs": [
    {
     "data": {
      "text/plain": [
       "Team_TeamID\n",
       "1101    -6.302463\n",
       "1102     1.651105\n",
       "1103     7.152810\n",
       "1104    13.362988\n",
       "1105   -17.258504\n",
       "          ...    \n",
       "1476   -14.526650\n",
       "1477   -16.790496\n",
       "1478   -14.347080\n",
       "1479   -18.395853\n",
       "1480   -21.491918\n",
       "Name: ConfAdjustment, Length: 371, dtype: float64"
      ]
     },
     "execution_count": 461,
     "metadata": {},
     "output_type": "execute_result"
    }
   ],
   "source": [
    "MTeamGroupedStats.groupby([\"Team_TeamID\"])[\"ConfAdjustment\"].mean()"
   ]
  },
  {
   "cell_type": "code",
   "execution_count": 462,
   "metadata": {},
   "outputs": [],
   "source": [
    "# Lets add the conference bias onto all of the box scores now\n",
    "MTeamStats = MTeamStats.merge(MTeamGroupedStats.loc[:,[\"Season\",\"Team_TeamID\",\"ConfAdjustment\"]], on = [\"Season\",\"Team_TeamID\"])"
   ]
  },
  {
   "cell_type": "code",
   "execution_count": 463,
   "metadata": {},
   "outputs": [
    {
     "data": {
      "application/vnd.microsoft.datawrangler.viewer.v0+json": {
       "columns": [
        {
         "name": "index",
         "rawType": "int64",
         "type": "integer"
        },
        {
         "name": "Season",
         "rawType": "int64",
         "type": "integer"
        },
        {
         "name": "DayNum",
         "rawType": "int64",
         "type": "integer"
        },
        {
         "name": "Team_TeamID",
         "rawType": "int64",
         "type": "integer"
        },
        {
         "name": "Team_Score",
         "rawType": "int64",
         "type": "integer"
        },
        {
         "name": "Opp_TeamID",
         "rawType": "int64",
         "type": "integer"
        },
        {
         "name": "Opp_Score",
         "rawType": "int64",
         "type": "integer"
        },
        {
         "name": "Team_Loc",
         "rawType": "object",
         "type": "string"
        },
        {
         "name": "NumOT",
         "rawType": "int64",
         "type": "integer"
        },
        {
         "name": "Team_FGM",
         "rawType": "int64",
         "type": "integer"
        },
        {
         "name": "Team_FGA",
         "rawType": "int64",
         "type": "integer"
        },
        {
         "name": "Team_FGM3",
         "rawType": "int64",
         "type": "integer"
        },
        {
         "name": "Team_FGA3",
         "rawType": "int64",
         "type": "integer"
        },
        {
         "name": "Team_FTM",
         "rawType": "int64",
         "type": "integer"
        },
        {
         "name": "Team_FTA",
         "rawType": "int64",
         "type": "integer"
        },
        {
         "name": "Team_OR",
         "rawType": "int64",
         "type": "integer"
        },
        {
         "name": "Team_DR",
         "rawType": "int64",
         "type": "integer"
        },
        {
         "name": "Team_Ast",
         "rawType": "int64",
         "type": "integer"
        },
        {
         "name": "Team_TO",
         "rawType": "int64",
         "type": "integer"
        },
        {
         "name": "Team_Stl",
         "rawType": "int64",
         "type": "integer"
        },
        {
         "name": "Team_Blk",
         "rawType": "int64",
         "type": "integer"
        },
        {
         "name": "Team_PF",
         "rawType": "int64",
         "type": "integer"
        },
        {
         "name": "Opp_FGM",
         "rawType": "int64",
         "type": "integer"
        },
        {
         "name": "Opp_FGA",
         "rawType": "int64",
         "type": "integer"
        },
        {
         "name": "Opp_FGM3",
         "rawType": "int64",
         "type": "integer"
        },
        {
         "name": "Opp_FGA3",
         "rawType": "int64",
         "type": "integer"
        },
        {
         "name": "Opp_FTM",
         "rawType": "int64",
         "type": "integer"
        },
        {
         "name": "Opp_FTA",
         "rawType": "int64",
         "type": "integer"
        },
        {
         "name": "Opp_OR",
         "rawType": "int64",
         "type": "integer"
        },
        {
         "name": "Opp_DR",
         "rawType": "int64",
         "type": "integer"
        },
        {
         "name": "Opp_Ast",
         "rawType": "int64",
         "type": "integer"
        },
        {
         "name": "Opp_TO",
         "rawType": "int64",
         "type": "integer"
        },
        {
         "name": "Opp_Stl",
         "rawType": "int64",
         "type": "integer"
        },
        {
         "name": "Opp_Blk",
         "rawType": "int64",
         "type": "integer"
        },
        {
         "name": "Opp_PF",
         "rawType": "int64",
         "type": "integer"
        },
        {
         "name": "Team_FGPerc",
         "rawType": "float64",
         "type": "float"
        },
        {
         "name": "Opp_FGPerc",
         "rawType": "float64",
         "type": "float"
        },
        {
         "name": "Team_FG3Perc",
         "rawType": "float64",
         "type": "float"
        },
        {
         "name": "Opp_FG3Perc",
         "rawType": "float64",
         "type": "float"
        },
        {
         "name": "Team_3Rate",
         "rawType": "float64",
         "type": "float"
        },
        {
         "name": "Opp_3Rate",
         "rawType": "float64",
         "type": "float"
        },
        {
         "name": "Team_FG2Perc",
         "rawType": "float64",
         "type": "float"
        },
        {
         "name": "Opp_FG2Perc",
         "rawType": "float64",
         "type": "float"
        },
        {
         "name": "Team_2Rate",
         "rawType": "float64",
         "type": "float"
        },
        {
         "name": "Opp_2Rate",
         "rawType": "float64",
         "type": "float"
        },
        {
         "name": "Team_Tempo",
         "rawType": "float64",
         "type": "float"
        },
        {
         "name": "Opp_Tempo",
         "rawType": "float64",
         "type": "float"
        },
        {
         "name": "Team_eFG",
         "rawType": "float64",
         "type": "float"
        },
        {
         "name": "Opp_eFG",
         "rawType": "float64",
         "type": "float"
        },
        {
         "name": "Team_ORPerc",
         "rawType": "float64",
         "type": "float"
        },
        {
         "name": "Opp_ORPerc",
         "rawType": "float64",
         "type": "float"
        },
        {
         "name": "Team_TOPerc",
         "rawType": "float64",
         "type": "float"
        },
        {
         "name": "Opp_TOPerc",
         "rawType": "float64",
         "type": "float"
        },
        {
         "name": "Team_FTR",
         "rawType": "float64",
         "type": "float"
        },
        {
         "name": "Opp_FTR",
         "rawType": "float64",
         "type": "float"
        },
        {
         "name": "Team_uORTG",
         "rawType": "float64",
         "type": "float"
        },
        {
         "name": "Opp_uORTG",
         "rawType": "float64",
         "type": "float"
        },
        {
         "name": "Team_uDRTG",
         "rawType": "float64",
         "type": "float"
        },
        {
         "name": "Opp_uDRTG",
         "rawType": "float64",
         "type": "float"
        },
        {
         "name": "Team_uNetRtg",
         "rawType": "float64",
         "type": "float"
        },
        {
         "name": "Opp_uNetRtg",
         "rawType": "float64",
         "type": "float"
        },
        {
         "name": "TeamID_x",
         "rawType": "int64",
         "type": "integer"
        },
        {
         "name": "Team_Conf",
         "rawType": "object",
         "type": "string"
        },
        {
         "name": "TeamID_y",
         "rawType": "int64",
         "type": "integer"
        },
        {
         "name": "Opp_Conf",
         "rawType": "object",
         "type": "string"
        },
        {
         "name": "ConfGame",
         "rawType": "int32",
         "type": "integer"
        },
        {
         "name": "Result",
         "rawType": "int32",
         "type": "integer"
        },
        {
         "name": "ConfAdjustment",
         "rawType": "float64",
         "type": "float"
        },
        {
         "name": "ConfAdjNetRtg",
         "rawType": "float64",
         "type": "float"
        }
       ],
       "conversionMethod": "pd.DataFrame",
       "ref": "134e2ecd-101e-4f56-b8aa-0ca5784ee418",
       "rows": [
        [
         "0",
         "2003",
         "10",
         "1104",
         "68",
         "1328",
         "62",
         "N",
         "0",
         "27",
         "58",
         "3",
         "14",
         "11",
         "18",
         "14",
         "24",
         "13",
         "23",
         "7",
         "1",
         "22",
         "22",
         "53",
         "2",
         "10",
         "16",
         "22",
         "10",
         "22",
         "8",
         "18",
         "9",
         "2",
         "20",
         "0.46551724137931033",
         "0.41509433962264153",
         "0.21428571428571427",
         "0.2",
         "0.2413793103448276",
         "0.18867924528301888",
         "0.5454545454545454",
         "0.46511627906976744",
         "0.7586206896551724",
         "0.8113207547169812",
         "75.55",
         "71.45",
         "0.49137931034482757",
         "0.4339622641509434",
         "0.3888888888888889",
         "0.29411764705882354",
         "30.443414956982135",
         "25.192442267319805",
         "0.3103448275862069",
         "0.41509433962264153",
         "90.0066181336863",
         "86.77396780965711",
         "86.77396780965711",
         "90.0066181336863",
         "3.232650324029194",
         "-3.232650324029194",
         "1104",
         "sec",
         "1328",
         "big_twelve",
         "0",
         "1",
         "12.51021055196442",
         "15.742860875993614"
        ],
        [
         "1",
         "2003",
         "18",
         "1104",
         "82",
         "1106",
         "56",
         "H",
         "0",
         "24",
         "49",
         "10",
         "20",
         "24",
         "34",
         "12",
         "26",
         "13",
         "13",
         "7",
         "3",
         "14",
         "19",
         "55",
         "8",
         "21",
         "10",
         "12",
         "11",
         "18",
         "8",
         "15",
         "6",
         "2",
         "22",
         "0.4897959183673469",
         "0.34545454545454546",
         "0.5",
         "0.38095238095238093",
         "0.40816326530612246",
         "0.38181818181818183",
         "0.4827586206896552",
         "0.3235294117647059",
         "0.5918367346938775",
         "0.6181818181818182",
         "66.15",
         "64.7",
         "0.5918367346938775",
         "0.41818181818181815",
         "0.4",
         "0.2972972972972973",
         "19.65230536659108",
         "23.183925811437405",
         "0.6938775510204082",
         "0.21818181818181817",
         "123.96069538926682",
         "86.5533230293663",
         "86.5533230293663",
         "123.96069538926682",
         "37.40737235990052",
         "-37.40737235990052",
         "1104",
         "sec",
         "1106",
         "swac",
         "0",
         "1",
         "12.51021055196442",
         "49.91758291186494"
        ],
        [
         "2",
         "2003",
         "21",
         "1104",
         "80",
         "1292",
         "65",
         "H",
         "0",
         "27",
         "59",
         "8",
         "24",
         "18",
         "23",
         "10",
         "24",
         "16",
         "13",
         "10",
         "6",
         "13",
         "25",
         "66",
         "7",
         "23",
         "8",
         "10",
         "17",
         "25",
         "11",
         "21",
         "6",
         "2",
         "20",
         "0.4576271186440678",
         "0.3787878787878788",
         "0.3333333333333333",
         "0.30434782608695654",
         "0.4067796610169492",
         "0.3484848484848485",
         "0.5428571428571428",
         "0.4186046511627907",
         "0.5932203389830508",
         "0.6515151515151515",
         "72.925",
         "74.75",
         "0.5254237288135594",
         "0.4318181818181818",
         "0.2857142857142857",
         "0.4146341463414634",
         "17.826534110387385",
         "28.093645484949832",
         "0.3898305084745763",
         "0.15151515151515152",
         "109.70174837161468",
         "86.95652173913044",
         "86.95652173913044",
         "109.70174837161468",
         "22.745226632484247",
         "-22.745226632484247",
         "1104",
         "sec",
         "1292",
         "sun_belt",
         "0",
         "1",
         "12.51021055196442",
         "35.25543718444867"
        ],
        [
         "3",
         "2003",
         "25",
         "1104",
         "54",
         "1326",
         "48",
         "N",
         "0",
         "16",
         "57",
         "7",
         "25",
         "15",
         "21",
         "17",
         "26",
         "12",
         "13",
         "6",
         "6",
         "21",
         "16",
         "50",
         "2",
         "6",
         "14",
         "22",
         "10",
         "27",
         "12",
         "13",
         "3",
         "5",
         "19",
         "0.2807017543859649",
         "0.32",
         "0.28",
         "0.3333333333333333",
         "0.43859649122807015",
         "0.12",
         "0.28125",
         "0.3181818181818182",
         "0.5614035087719298",
         "0.88",
         "62.975",
         "63.45",
         "0.34210526315789475",
         "0.34",
         "0.38636363636363635",
         "0.2777777777777778",
         "20.643112346169115",
         "20.48857368006304",
         "0.3684210526315789",
         "0.44",
         "85.74831282254863",
         "75.65011820330969",
         "75.65011820330969",
         "85.74831282254863",
         "10.098194619238939",
         "-10.098194619238939",
         "1104",
         "sec",
         "1326",
         "big_ten",
         "0",
         "1",
         "12.51021055196442",
         "22.60840517120336"
        ],
        [
         "4",
         "2003",
         "29",
         "1104",
         "89",
         "1422",
         "61",
         "H",
         "0",
         "34",
         "70",
         "9",
         "22",
         "12",
         "15",
         "16",
         "30",
         "16",
         "10",
         "10",
         "4",
         "17",
         "23",
         "61",
         "7",
         "18",
         "8",
         "14",
         "11",
         "21",
         "11",
         "13",
         "2",
         "3",
         "15",
         "0.4857142857142857",
         "0.3770491803278688",
         "0.4090909090909091",
         "0.3888888888888889",
         "0.3142857142857143",
         "0.29508196721311475",
         "0.5208333333333334",
         "0.37209302325581395",
         "0.6857142857142857",
         "0.7049180327868853",
         "71.125",
         "69.65",
         "0.55",
         "0.4344262295081967",
         "0.43243243243243246",
         "0.2682926829268293",
         "14.059753954305801",
         "18.66475233309404",
         "0.21428571428571427",
         "0.22950819672131148",
         "125.13181019332163",
         "87.58076094759511",
         "87.58076094759511",
         "125.13181019332163",
         "37.55104924572652",
         "-37.55104924572652",
         "1104",
         "sec",
         "1422",
         "southern",
         "0",
         "1",
         "12.51021055196442",
         "50.06125979769094"
        ]
       ],
       "shape": {
        "columns": 68,
        "rows": 5
       }
      },
      "text/html": [
       "<div>\n",
       "<style scoped>\n",
       "    .dataframe tbody tr th:only-of-type {\n",
       "        vertical-align: middle;\n",
       "    }\n",
       "\n",
       "    .dataframe tbody tr th {\n",
       "        vertical-align: top;\n",
       "    }\n",
       "\n",
       "    .dataframe thead th {\n",
       "        text-align: right;\n",
       "    }\n",
       "</style>\n",
       "<table border=\"1\" class=\"dataframe\">\n",
       "  <thead>\n",
       "    <tr style=\"text-align: right;\">\n",
       "      <th></th>\n",
       "      <th>Season</th>\n",
       "      <th>DayNum</th>\n",
       "      <th>Team_TeamID</th>\n",
       "      <th>Team_Score</th>\n",
       "      <th>Opp_TeamID</th>\n",
       "      <th>Opp_Score</th>\n",
       "      <th>Team_Loc</th>\n",
       "      <th>NumOT</th>\n",
       "      <th>Team_FGM</th>\n",
       "      <th>Team_FGA</th>\n",
       "      <th>...</th>\n",
       "      <th>Team_uNetRtg</th>\n",
       "      <th>Opp_uNetRtg</th>\n",
       "      <th>TeamID_x</th>\n",
       "      <th>Team_Conf</th>\n",
       "      <th>TeamID_y</th>\n",
       "      <th>Opp_Conf</th>\n",
       "      <th>ConfGame</th>\n",
       "      <th>Result</th>\n",
       "      <th>ConfAdjustment</th>\n",
       "      <th>ConfAdjNetRtg</th>\n",
       "    </tr>\n",
       "  </thead>\n",
       "  <tbody>\n",
       "    <tr>\n",
       "      <th>0</th>\n",
       "      <td>2003</td>\n",
       "      <td>10</td>\n",
       "      <td>1104</td>\n",
       "      <td>68</td>\n",
       "      <td>1328</td>\n",
       "      <td>62</td>\n",
       "      <td>N</td>\n",
       "      <td>0</td>\n",
       "      <td>27</td>\n",
       "      <td>58</td>\n",
       "      <td>...</td>\n",
       "      <td>3.232650</td>\n",
       "      <td>-3.232650</td>\n",
       "      <td>1104</td>\n",
       "      <td>sec</td>\n",
       "      <td>1328</td>\n",
       "      <td>big_twelve</td>\n",
       "      <td>0</td>\n",
       "      <td>1</td>\n",
       "      <td>12.510211</td>\n",
       "      <td>15.742861</td>\n",
       "    </tr>\n",
       "    <tr>\n",
       "      <th>1</th>\n",
       "      <td>2003</td>\n",
       "      <td>18</td>\n",
       "      <td>1104</td>\n",
       "      <td>82</td>\n",
       "      <td>1106</td>\n",
       "      <td>56</td>\n",
       "      <td>H</td>\n",
       "      <td>0</td>\n",
       "      <td>24</td>\n",
       "      <td>49</td>\n",
       "      <td>...</td>\n",
       "      <td>37.407372</td>\n",
       "      <td>-37.407372</td>\n",
       "      <td>1104</td>\n",
       "      <td>sec</td>\n",
       "      <td>1106</td>\n",
       "      <td>swac</td>\n",
       "      <td>0</td>\n",
       "      <td>1</td>\n",
       "      <td>12.510211</td>\n",
       "      <td>49.917583</td>\n",
       "    </tr>\n",
       "    <tr>\n",
       "      <th>2</th>\n",
       "      <td>2003</td>\n",
       "      <td>21</td>\n",
       "      <td>1104</td>\n",
       "      <td>80</td>\n",
       "      <td>1292</td>\n",
       "      <td>65</td>\n",
       "      <td>H</td>\n",
       "      <td>0</td>\n",
       "      <td>27</td>\n",
       "      <td>59</td>\n",
       "      <td>...</td>\n",
       "      <td>22.745227</td>\n",
       "      <td>-22.745227</td>\n",
       "      <td>1104</td>\n",
       "      <td>sec</td>\n",
       "      <td>1292</td>\n",
       "      <td>sun_belt</td>\n",
       "      <td>0</td>\n",
       "      <td>1</td>\n",
       "      <td>12.510211</td>\n",
       "      <td>35.255437</td>\n",
       "    </tr>\n",
       "    <tr>\n",
       "      <th>3</th>\n",
       "      <td>2003</td>\n",
       "      <td>25</td>\n",
       "      <td>1104</td>\n",
       "      <td>54</td>\n",
       "      <td>1326</td>\n",
       "      <td>48</td>\n",
       "      <td>N</td>\n",
       "      <td>0</td>\n",
       "      <td>16</td>\n",
       "      <td>57</td>\n",
       "      <td>...</td>\n",
       "      <td>10.098195</td>\n",
       "      <td>-10.098195</td>\n",
       "      <td>1104</td>\n",
       "      <td>sec</td>\n",
       "      <td>1326</td>\n",
       "      <td>big_ten</td>\n",
       "      <td>0</td>\n",
       "      <td>1</td>\n",
       "      <td>12.510211</td>\n",
       "      <td>22.608405</td>\n",
       "    </tr>\n",
       "    <tr>\n",
       "      <th>4</th>\n",
       "      <td>2003</td>\n",
       "      <td>29</td>\n",
       "      <td>1104</td>\n",
       "      <td>89</td>\n",
       "      <td>1422</td>\n",
       "      <td>61</td>\n",
       "      <td>H</td>\n",
       "      <td>0</td>\n",
       "      <td>34</td>\n",
       "      <td>70</td>\n",
       "      <td>...</td>\n",
       "      <td>37.551049</td>\n",
       "      <td>-37.551049</td>\n",
       "      <td>1104</td>\n",
       "      <td>sec</td>\n",
       "      <td>1422</td>\n",
       "      <td>southern</td>\n",
       "      <td>0</td>\n",
       "      <td>1</td>\n",
       "      <td>12.510211</td>\n",
       "      <td>50.061260</td>\n",
       "    </tr>\n",
       "  </tbody>\n",
       "</table>\n",
       "<p>5 rows × 68 columns</p>\n",
       "</div>"
      ],
      "text/plain": [
       "   Season  DayNum  Team_TeamID  Team_Score  Opp_TeamID  Opp_Score Team_Loc  \\\n",
       "0    2003      10         1104          68        1328         62        N   \n",
       "1    2003      18         1104          82        1106         56        H   \n",
       "2    2003      21         1104          80        1292         65        H   \n",
       "3    2003      25         1104          54        1326         48        N   \n",
       "4    2003      29         1104          89        1422         61        H   \n",
       "\n",
       "   NumOT  Team_FGM  Team_FGA  ...  Team_uNetRtg  Opp_uNetRtg  TeamID_x  \\\n",
       "0      0        27        58  ...      3.232650    -3.232650      1104   \n",
       "1      0        24        49  ...     37.407372   -37.407372      1104   \n",
       "2      0        27        59  ...     22.745227   -22.745227      1104   \n",
       "3      0        16        57  ...     10.098195   -10.098195      1104   \n",
       "4      0        34        70  ...     37.551049   -37.551049      1104   \n",
       "\n",
       "   Team_Conf  TeamID_y    Opp_Conf  ConfGame  Result  ConfAdjustment  \\\n",
       "0        sec      1328  big_twelve         0       1       12.510211   \n",
       "1        sec      1106        swac         0       1       12.510211   \n",
       "2        sec      1292    sun_belt         0       1       12.510211   \n",
       "3        sec      1326     big_ten         0       1       12.510211   \n",
       "4        sec      1422    southern         0       1       12.510211   \n",
       "\n",
       "   ConfAdjNetRtg  \n",
       "0      15.742861  \n",
       "1      49.917583  \n",
       "2      35.255437  \n",
       "3      22.608405  \n",
       "4      50.061260  \n",
       "\n",
       "[5 rows x 68 columns]"
      ]
     },
     "execution_count": 463,
     "metadata": {},
     "output_type": "execute_result"
    }
   ],
   "source": [
    "MTeamStats[\"ConfAdjNetRtg\"] = MTeamStats[\"Team_uNetRtg\"] + MTeamStats[\"ConfAdjustment\"]\n",
    "MTeamStats.head()"
   ]
  },
  {
   "cell_type": "code",
   "execution_count": 467,
   "metadata": {},
   "outputs": [
    {
     "data": {
      "application/vnd.microsoft.datawrangler.viewer.v0+json": {
       "columns": [
        {
         "name": "index",
         "rawType": "int64",
         "type": "integer"
        },
        {
         "name": "Season",
         "rawType": "int64",
         "type": "integer"
        },
        {
         "name": "DayNum",
         "rawType": "int64",
         "type": "integer"
        },
        {
         "name": "Team_TeamID",
         "rawType": "int64",
         "type": "integer"
        },
        {
         "name": "Opp_TeamID",
         "rawType": "int64",
         "type": "integer"
        },
        {
         "name": "Team_Score",
         "rawType": "int64",
         "type": "integer"
        },
        {
         "name": "Opp_Score",
         "rawType": "int64",
         "type": "integer"
        },
        {
         "name": "ConfAdjNetRtg",
         "rawType": "float64",
         "type": "float"
        },
        {
         "name": "RollingNetRtg",
         "rawType": "float64",
         "type": "float"
        }
       ],
       "conversionMethod": "pd.DataFrame",
       "ref": "ab573dc4-16a1-4e77-8046-a6ef11e37143",
       "rows": [
        [
         "0",
         "2003",
         "19",
         "1102",
         "1257",
         "47",
         "65",
         "-24.64850387735008",
         "-24.64850387735008"
        ],
        [
         "1",
         "2003",
         "22",
         "1102",
         "1391",
         "72",
         "43",
         "60.31922129825223",
         "17.835358710451075"
        ],
        [
         "2",
         "2003",
         "25",
         "1102",
         "1117",
         "57",
         "52",
         "15.044674405166518",
         "16.905130608689557"
        ],
        [
         "3",
         "2003",
         "27",
         "1102",
         "1399",
         "47",
         "60",
         "-23.15893854451018",
         "6.889113320389622"
        ],
        [
         "4",
         "2003",
         "31",
         "1102",
         "1410",
         "65",
         "44",
         "53.068828052084896",
         "16.125056266728677"
        ]
       ],
       "shape": {
        "columns": 8,
        "rows": 5
       }
      },
      "text/html": [
       "<div>\n",
       "<style scoped>\n",
       "    .dataframe tbody tr th:only-of-type {\n",
       "        vertical-align: middle;\n",
       "    }\n",
       "\n",
       "    .dataframe tbody tr th {\n",
       "        vertical-align: top;\n",
       "    }\n",
       "\n",
       "    .dataframe thead th {\n",
       "        text-align: right;\n",
       "    }\n",
       "</style>\n",
       "<table border=\"1\" class=\"dataframe\">\n",
       "  <thead>\n",
       "    <tr style=\"text-align: right;\">\n",
       "      <th></th>\n",
       "      <th>Season</th>\n",
       "      <th>DayNum</th>\n",
       "      <th>Team_TeamID</th>\n",
       "      <th>Opp_TeamID</th>\n",
       "      <th>Team_Score</th>\n",
       "      <th>Opp_Score</th>\n",
       "      <th>ConfAdjNetRtg</th>\n",
       "      <th>RollingNetRtg</th>\n",
       "    </tr>\n",
       "  </thead>\n",
       "  <tbody>\n",
       "    <tr>\n",
       "      <th>0</th>\n",
       "      <td>2003</td>\n",
       "      <td>19</td>\n",
       "      <td>1102</td>\n",
       "      <td>1257</td>\n",
       "      <td>47</td>\n",
       "      <td>65</td>\n",
       "      <td>-24.648504</td>\n",
       "      <td>-24.648504</td>\n",
       "    </tr>\n",
       "    <tr>\n",
       "      <th>1</th>\n",
       "      <td>2003</td>\n",
       "      <td>22</td>\n",
       "      <td>1102</td>\n",
       "      <td>1391</td>\n",
       "      <td>72</td>\n",
       "      <td>43</td>\n",
       "      <td>60.319221</td>\n",
       "      <td>17.835359</td>\n",
       "    </tr>\n",
       "    <tr>\n",
       "      <th>2</th>\n",
       "      <td>2003</td>\n",
       "      <td>25</td>\n",
       "      <td>1102</td>\n",
       "      <td>1117</td>\n",
       "      <td>57</td>\n",
       "      <td>52</td>\n",
       "      <td>15.044674</td>\n",
       "      <td>16.905131</td>\n",
       "    </tr>\n",
       "    <tr>\n",
       "      <th>3</th>\n",
       "      <td>2003</td>\n",
       "      <td>27</td>\n",
       "      <td>1102</td>\n",
       "      <td>1399</td>\n",
       "      <td>47</td>\n",
       "      <td>60</td>\n",
       "      <td>-23.158939</td>\n",
       "      <td>6.889113</td>\n",
       "    </tr>\n",
       "    <tr>\n",
       "      <th>4</th>\n",
       "      <td>2003</td>\n",
       "      <td>31</td>\n",
       "      <td>1102</td>\n",
       "      <td>1410</td>\n",
       "      <td>65</td>\n",
       "      <td>44</td>\n",
       "      <td>53.068828</td>\n",
       "      <td>16.125056</td>\n",
       "    </tr>\n",
       "  </tbody>\n",
       "</table>\n",
       "</div>"
      ],
      "text/plain": [
       "   Season  DayNum  Team_TeamID  Opp_TeamID  Team_Score  Opp_Score  \\\n",
       "0    2003      19         1102        1257          47         65   \n",
       "1    2003      22         1102        1391          72         43   \n",
       "2    2003      25         1102        1117          57         52   \n",
       "3    2003      27         1102        1399          47         60   \n",
       "4    2003      31         1102        1410          65         44   \n",
       "\n",
       "   ConfAdjNetRtg  RollingNetRtg  \n",
       "0     -24.648504     -24.648504  \n",
       "1      60.319221      17.835359  \n",
       "2      15.044674      16.905131  \n",
       "3     -23.158939       6.889113  \n",
       "4      53.068828      16.125056  "
      ]
     },
     "execution_count": 467,
     "metadata": {},
     "output_type": "execute_result"
    }
   ],
   "source": [
    "# Thank you to ChatGPT for optimizing my code!\n",
    "# Create an empty list to store processed data\n",
    "test_list = []\n",
    "\n",
    "# Group by Season and Team_TeamID to avoid redundant filtering\n",
    "for (season, team_id), group in MTeamStats.loc[:,[\"Season\",\"DayNum\",\"Team_TeamID\",\"Opp_TeamID\",\"Team_Score\",\"Opp_Score\",\"ConfAdjNetRtg\"]].groupby([\"Season\", \"Team_TeamID\"]):\n",
    "    group = group.sort_values(by = [\"Season\",\"DayNum\"]).copy()  # Avoid SettingWithCopyWarning\n",
    "    group[\"RollingNetRtg\"] = group[\"ConfAdjNetRtg\"].expanding().mean()  # Compute rolling mean\n",
    "    test_list.append(group)  # Store processed group\n",
    "\n",
    "# Concatenate all processed groups at once (efficient)\n",
    "MRollStats = pd.concat(test_list, ignore_index=True)\n",
    "\n",
    "MRollStats.head()\n"
   ]
  },
  {
   "cell_type": "code",
   "execution_count": null,
   "metadata": {},
   "outputs": [
    {
     "data": {
      "application/vnd.microsoft.datawrangler.viewer.v0+json": {
       "columns": [
        {
         "name": "index",
         "rawType": "int64",
         "type": "integer"
        },
        {
         "name": "Season",
         "rawType": "int64",
         "type": "integer"
        },
        {
         "name": "DayNum",
         "rawType": "int64",
         "type": "integer"
        },
        {
         "name": "Team_TeamID",
         "rawType": "int64",
         "type": "integer"
        },
        {
         "name": "Opp_TeamID",
         "rawType": "int64",
         "type": "integer"
        },
        {
         "name": "Team_Score",
         "rawType": "int64",
         "type": "integer"
        },
        {
         "name": "Opp_Score",
         "rawType": "int64",
         "type": "integer"
        },
        {
         "name": "ConfAdjNetRtg",
         "rawType": "float64",
         "type": "float"
        },
        {
         "name": "Team_NetRtg",
         "rawType": "float64",
         "type": "float"
        },
        {
         "name": "Opp_NetRtg",
         "rawType": "float64",
         "type": "float"
        },
        {
         "name": "Result",
         "rawType": "int32",
         "type": "integer"
        }
       ],
       "conversionMethod": "pd.DataFrame",
       "ref": "f6999bc8-c3db-424c-818b-e3b11b90bdda",
       "rows": [
        [
         "0",
         "2003",
         "19",
         "1102",
         "1257",
         "47",
         "65",
         "-24.64850387735008",
         "-24.64850387735008",
         "51.30797754484436",
         "0"
        ],
        [
         "1",
         "2003",
         "22",
         "1102",
         "1391",
         "72",
         "43",
         "60.31922129825223",
         "17.835358710451075",
         "-61.449427566486534",
         "1"
        ],
        [
         "2",
         "2003",
         "25",
         "1102",
         "1117",
         "57",
         "52",
         "15.044674405166518",
         "16.905130608689557",
         "-4.34853621141491",
         "1"
        ],
        [
         "3",
         "2003",
         "27",
         "1102",
         "1399",
         "47",
         "60",
         "-23.15893854451018",
         "6.889113320389622",
         "14.051039685863529",
         "0"
        ],
        [
         "4",
         "2003",
         "31",
         "1102",
         "1410",
         "65",
         "44",
         "53.068828052084896",
         "16.125056266728677",
         "-43.697444210868944",
         "1"
        ]
       ],
       "shape": {
        "columns": 10,
        "rows": 5
       }
      },
      "text/html": [
       "<div>\n",
       "<style scoped>\n",
       "    .dataframe tbody tr th:only-of-type {\n",
       "        vertical-align: middle;\n",
       "    }\n",
       "\n",
       "    .dataframe tbody tr th {\n",
       "        vertical-align: top;\n",
       "    }\n",
       "\n",
       "    .dataframe thead th {\n",
       "        text-align: right;\n",
       "    }\n",
       "</style>\n",
       "<table border=\"1\" class=\"dataframe\">\n",
       "  <thead>\n",
       "    <tr style=\"text-align: right;\">\n",
       "      <th></th>\n",
       "      <th>Season</th>\n",
       "      <th>DayNum</th>\n",
       "      <th>Team_TeamID</th>\n",
       "      <th>Opp_TeamID</th>\n",
       "      <th>Team_Score</th>\n",
       "      <th>Opp_Score</th>\n",
       "      <th>ConfAdjNetRtg</th>\n",
       "      <th>Team_NetRtg</th>\n",
       "      <th>Opp_NetRtg</th>\n",
       "      <th>Result</th>\n",
       "    </tr>\n",
       "  </thead>\n",
       "  <tbody>\n",
       "    <tr>\n",
       "      <th>0</th>\n",
       "      <td>2003</td>\n",
       "      <td>19</td>\n",
       "      <td>1102</td>\n",
       "      <td>1257</td>\n",
       "      <td>47</td>\n",
       "      <td>65</td>\n",
       "      <td>-24.648504</td>\n",
       "      <td>-24.648504</td>\n",
       "      <td>51.307978</td>\n",
       "      <td>0</td>\n",
       "    </tr>\n",
       "    <tr>\n",
       "      <th>1</th>\n",
       "      <td>2003</td>\n",
       "      <td>22</td>\n",
       "      <td>1102</td>\n",
       "      <td>1391</td>\n",
       "      <td>72</td>\n",
       "      <td>43</td>\n",
       "      <td>60.319221</td>\n",
       "      <td>17.835359</td>\n",
       "      <td>-61.449428</td>\n",
       "      <td>1</td>\n",
       "    </tr>\n",
       "    <tr>\n",
       "      <th>2</th>\n",
       "      <td>2003</td>\n",
       "      <td>25</td>\n",
       "      <td>1102</td>\n",
       "      <td>1117</td>\n",
       "      <td>57</td>\n",
       "      <td>52</td>\n",
       "      <td>15.044674</td>\n",
       "      <td>16.905131</td>\n",
       "      <td>-4.348536</td>\n",
       "      <td>1</td>\n",
       "    </tr>\n",
       "    <tr>\n",
       "      <th>3</th>\n",
       "      <td>2003</td>\n",
       "      <td>27</td>\n",
       "      <td>1102</td>\n",
       "      <td>1399</td>\n",
       "      <td>47</td>\n",
       "      <td>60</td>\n",
       "      <td>-23.158939</td>\n",
       "      <td>6.889113</td>\n",
       "      <td>14.051040</td>\n",
       "      <td>0</td>\n",
       "    </tr>\n",
       "    <tr>\n",
       "      <th>4</th>\n",
       "      <td>2003</td>\n",
       "      <td>31</td>\n",
       "      <td>1102</td>\n",
       "      <td>1410</td>\n",
       "      <td>65</td>\n",
       "      <td>44</td>\n",
       "      <td>53.068828</td>\n",
       "      <td>16.125056</td>\n",
       "      <td>-43.697444</td>\n",
       "      <td>1</td>\n",
       "    </tr>\n",
       "  </tbody>\n",
       "</table>\n",
       "</div>"
      ],
      "text/plain": [
       "   Season  DayNum  Team_TeamID  Opp_TeamID  Team_Score  Opp_Score  \\\n",
       "0    2003      19         1102        1257          47         65   \n",
       "1    2003      22         1102        1391          72         43   \n",
       "2    2003      25         1102        1117          57         52   \n",
       "3    2003      27         1102        1399          47         60   \n",
       "4    2003      31         1102        1410          65         44   \n",
       "\n",
       "   ConfAdjNetRtg  Team_NetRtg  Opp_NetRtg  Result  \n",
       "0     -24.648504   -24.648504   51.307978       0  \n",
       "1      60.319221    17.835359  -61.449428       1  \n",
       "2      15.044674    16.905131   -4.348536       1  \n",
       "3     -23.158939     6.889113   14.051040       0  \n",
       "4      53.068828    16.125056  -43.697444       1  "
      ]
     },
     "execution_count": 468,
     "metadata": {},
     "output_type": "execute_result"
    }
   ],
   "source": [
    "# Get the opponent's stats on that day from the MRollStats dataframe\n",
    "test = MRollStats.copy()\n",
    "MRollStats = MRollStats.merge(test.loc[:,[\"Season\",\"DayNum\",\"Team_TeamID\",\"RollingNetRtg\"]], left_on = [\"Season\",\"DayNum\",\"Opp_TeamID\"], right_on = [\"Season\",\"DayNum\",\"Team_TeamID\"]).drop(\"Team_TeamID_y\",axis = 1).rename(columns = {\"Team_TeamID_x\": \"Team_TeamID\",\n",
    "                                                                                                                                                                                                                                        \"RollingNetRtg_x\":\"Team_NetRtg\",\n",
    "                                                                                                                                                                                                                                        \"RollingNetRtg_y\": \"Opp_NetRtg\"})"
   ]
  },
  {
   "cell_type": "code",
   "execution_count": 472,
   "metadata": {},
   "outputs": [
    {
     "data": {
      "application/vnd.microsoft.datawrangler.viewer.v0+json": {
       "columns": [
        {
         "name": "index",
         "rawType": "int64",
         "type": "integer"
        },
        {
         "name": "Season",
         "rawType": "int64",
         "type": "integer"
        },
        {
         "name": "DayNum",
         "rawType": "int64",
         "type": "integer"
        },
        {
         "name": "Team_TeamID",
         "rawType": "int64",
         "type": "integer"
        },
        {
         "name": "Opp_TeamID",
         "rawType": "int64",
         "type": "integer"
        },
        {
         "name": "Team_Score",
         "rawType": "int64",
         "type": "integer"
        },
        {
         "name": "Opp_Score",
         "rawType": "int64",
         "type": "integer"
        },
        {
         "name": "ConfAdjNetRtg",
         "rawType": "float64",
         "type": "float"
        },
        {
         "name": "Team_NetRtg",
         "rawType": "float64",
         "type": "float"
        },
        {
         "name": "Opp_NetRtg",
         "rawType": "float64",
         "type": "float"
        },
        {
         "name": "Result",
         "rawType": "int32",
         "type": "integer"
        },
        {
         "name": "NetDiff",
         "rawType": "int32",
         "type": "integer"
        }
       ],
       "conversionMethod": "pd.DataFrame",
       "ref": "cf27fa7b-eda4-4a83-871a-5c0e319f3920",
       "rows": [
        [
         "0",
         "2003",
         "19",
         "1102",
         "1257",
         "47",
         "65",
         "-24.64850387735008",
         "-24.64850387735008",
         "51.30797754484436",
         "0",
         "-75"
        ],
        [
         "1",
         "2003",
         "22",
         "1102",
         "1391",
         "72",
         "43",
         "60.31922129825223",
         "17.835358710451075",
         "-61.449427566486534",
         "1",
         "79"
        ],
        [
         "2",
         "2003",
         "25",
         "1102",
         "1117",
         "57",
         "52",
         "15.044674405166518",
         "16.905130608689557",
         "-4.34853621141491",
         "1",
         "21"
        ],
        [
         "3",
         "2003",
         "27",
         "1102",
         "1399",
         "47",
         "60",
         "-23.15893854451018",
         "6.889113320389622",
         "14.051039685863529",
         "0",
         "-7"
        ],
        [
         "4",
         "2003",
         "31",
         "1102",
         "1410",
         "65",
         "44",
         "53.068828052084896",
         "16.125056266728677",
         "-43.697444210868944",
         "1",
         "59"
        ]
       ],
       "shape": {
        "columns": 11,
        "rows": 5
       }
      },
      "text/html": [
       "<div>\n",
       "<style scoped>\n",
       "    .dataframe tbody tr th:only-of-type {\n",
       "        vertical-align: middle;\n",
       "    }\n",
       "\n",
       "    .dataframe tbody tr th {\n",
       "        vertical-align: top;\n",
       "    }\n",
       "\n",
       "    .dataframe thead th {\n",
       "        text-align: right;\n",
       "    }\n",
       "</style>\n",
       "<table border=\"1\" class=\"dataframe\">\n",
       "  <thead>\n",
       "    <tr style=\"text-align: right;\">\n",
       "      <th></th>\n",
       "      <th>Season</th>\n",
       "      <th>DayNum</th>\n",
       "      <th>Team_TeamID</th>\n",
       "      <th>Opp_TeamID</th>\n",
       "      <th>Team_Score</th>\n",
       "      <th>Opp_Score</th>\n",
       "      <th>ConfAdjNetRtg</th>\n",
       "      <th>Team_NetRtg</th>\n",
       "      <th>Opp_NetRtg</th>\n",
       "      <th>Result</th>\n",
       "      <th>NetDiff</th>\n",
       "    </tr>\n",
       "  </thead>\n",
       "  <tbody>\n",
       "    <tr>\n",
       "      <th>0</th>\n",
       "      <td>2003</td>\n",
       "      <td>19</td>\n",
       "      <td>1102</td>\n",
       "      <td>1257</td>\n",
       "      <td>47</td>\n",
       "      <td>65</td>\n",
       "      <td>-24.648504</td>\n",
       "      <td>-24.648504</td>\n",
       "      <td>51.307978</td>\n",
       "      <td>0</td>\n",
       "      <td>-75</td>\n",
       "    </tr>\n",
       "    <tr>\n",
       "      <th>1</th>\n",
       "      <td>2003</td>\n",
       "      <td>22</td>\n",
       "      <td>1102</td>\n",
       "      <td>1391</td>\n",
       "      <td>72</td>\n",
       "      <td>43</td>\n",
       "      <td>60.319221</td>\n",
       "      <td>17.835359</td>\n",
       "      <td>-61.449428</td>\n",
       "      <td>1</td>\n",
       "      <td>79</td>\n",
       "    </tr>\n",
       "    <tr>\n",
       "      <th>2</th>\n",
       "      <td>2003</td>\n",
       "      <td>25</td>\n",
       "      <td>1102</td>\n",
       "      <td>1117</td>\n",
       "      <td>57</td>\n",
       "      <td>52</td>\n",
       "      <td>15.044674</td>\n",
       "      <td>16.905131</td>\n",
       "      <td>-4.348536</td>\n",
       "      <td>1</td>\n",
       "      <td>21</td>\n",
       "    </tr>\n",
       "    <tr>\n",
       "      <th>3</th>\n",
       "      <td>2003</td>\n",
       "      <td>27</td>\n",
       "      <td>1102</td>\n",
       "      <td>1399</td>\n",
       "      <td>47</td>\n",
       "      <td>60</td>\n",
       "      <td>-23.158939</td>\n",
       "      <td>6.889113</td>\n",
       "      <td>14.051040</td>\n",
       "      <td>0</td>\n",
       "      <td>-7</td>\n",
       "    </tr>\n",
       "    <tr>\n",
       "      <th>4</th>\n",
       "      <td>2003</td>\n",
       "      <td>31</td>\n",
       "      <td>1102</td>\n",
       "      <td>1410</td>\n",
       "      <td>65</td>\n",
       "      <td>44</td>\n",
       "      <td>53.068828</td>\n",
       "      <td>16.125056</td>\n",
       "      <td>-43.697444</td>\n",
       "      <td>1</td>\n",
       "      <td>59</td>\n",
       "    </tr>\n",
       "  </tbody>\n",
       "</table>\n",
       "</div>"
      ],
      "text/plain": [
       "   Season  DayNum  Team_TeamID  Opp_TeamID  Team_Score  Opp_Score  \\\n",
       "0    2003      19         1102        1257          47         65   \n",
       "1    2003      22         1102        1391          72         43   \n",
       "2    2003      25         1102        1117          57         52   \n",
       "3    2003      27         1102        1399          47         60   \n",
       "4    2003      31         1102        1410          65         44   \n",
       "\n",
       "   ConfAdjNetRtg  Team_NetRtg  Opp_NetRtg  Result  NetDiff  \n",
       "0     -24.648504   -24.648504   51.307978       0      -75  \n",
       "1      60.319221    17.835359  -61.449428       1       79  \n",
       "2      15.044674    16.905131   -4.348536       1       21  \n",
       "3     -23.158939     6.889113   14.051040       0       -7  \n",
       "4      53.068828    16.125056  -43.697444       1       59  "
      ]
     },
     "execution_count": 472,
     "metadata": {},
     "output_type": "execute_result"
    }
   ],
   "source": [
    "MRollStats[\"Result\"] = (MRollStats[\"Team_Score\"] > MRollStats[\"Opp_Score\"]).astype('int')\n",
    "MRollStats[\"NetDiff\"] = (MRollStats[\"Team_NetRtg\"] - MRollStats[\"Opp_NetRtg\"]).astype('int')\n",
    "MRollStats.head()"
   ]
  },
  {
   "cell_type": "code",
   "execution_count": 369,
   "metadata": {},
   "outputs": [
    {
     "data": {
      "application/vnd.microsoft.datawrangler.viewer.v0+json": {
       "columns": [
        {
         "name": "index",
         "rawType": "int64",
         "type": "integer"
        },
        {
         "name": "Season",
         "rawType": "int64",
         "type": "integer"
        },
        {
         "name": "DayNum",
         "rawType": "int64",
         "type": "integer"
        },
        {
         "name": "Team_TeamID",
         "rawType": "int64",
         "type": "integer"
        },
        {
         "name": "Opp_TeamID",
         "rawType": "int64",
         "type": "integer"
        },
        {
         "name": "Team_Score",
         "rawType": "int64",
         "type": "integer"
        },
        {
         "name": "Opp_Score",
         "rawType": "int64",
         "type": "integer"
        },
        {
         "name": "Team_uNetRtg",
         "rawType": "float64",
         "type": "float"
        },
        {
         "name": "Team_NetRtg",
         "rawType": "float64",
         "type": "float"
        },
        {
         "name": "Opp_NetRtg",
         "rawType": "float64",
         "type": "float"
        },
        {
         "name": "WTeamID",
         "rawType": "int64",
         "type": "integer"
        },
        {
         "name": "LTeamID",
         "rawType": "int64",
         "type": "integer"
        },
        {
         "name": "WNetRtg",
         "rawType": "float64",
         "type": "float"
        },
        {
         "name": "LNetRtg",
         "rawType": "float64",
         "type": "float"
        }
       ],
       "conversionMethod": "pd.DataFrame",
       "ref": "f2fa2ce8-c13a-4d16-95e1-76a219aec30c",
       "rows": [
        [
         "55",
         "2003",
         "10",
         "1104",
         "1328",
         "68",
         "62",
         "3.232650324029194",
         "3.232650324029194",
         "-3.232650324029194",
         "1104",
         "1328",
         "3.232650324029194",
         "-3.232650324029194"
        ],
        [
         "4353",
         "2003",
         "10",
         "1272",
         "1393",
         "70",
         "63",
         "9.441728771708114",
         "9.441728771708114",
         "-9.441728771708114",
         "1272",
         "1393",
         "9.441728771708114",
         "-9.441728771708114"
        ],
        [
         "5652",
         "2003",
         "10",
         "1328",
         "1104",
         "62",
         "68",
         "-3.232650324029194",
         "-3.232650324029194",
         "3.232650324029194",
         "1104",
         "1328",
         "3.232650324029194",
         "-3.232650324029194"
        ],
        [
         "7334",
         "2003",
         "10",
         "1393",
         "1272",
         "63",
         "70",
         "-9.441728771708114",
         "-9.441728771708114",
         "9.441728771708114",
         "1272",
         "1393",
         "9.441728771708114",
         "-9.441728771708114"
        ],
        [
         "2165",
         "2003",
         "11",
         "1186",
         "1458",
         "55",
         "81",
         "-39.214357514767514",
         "-39.214357514767514",
         "39.214357514767514",
         "1458",
         "1186",
         "39.214357514767514",
         "-39.214357514767514"
        ]
       ],
       "shape": {
        "columns": 13,
        "rows": 5
       }
      },
      "text/html": [
       "<div>\n",
       "<style scoped>\n",
       "    .dataframe tbody tr th:only-of-type {\n",
       "        vertical-align: middle;\n",
       "    }\n",
       "\n",
       "    .dataframe tbody tr th {\n",
       "        vertical-align: top;\n",
       "    }\n",
       "\n",
       "    .dataframe thead th {\n",
       "        text-align: right;\n",
       "    }\n",
       "</style>\n",
       "<table border=\"1\" class=\"dataframe\">\n",
       "  <thead>\n",
       "    <tr style=\"text-align: right;\">\n",
       "      <th></th>\n",
       "      <th>Season</th>\n",
       "      <th>DayNum</th>\n",
       "      <th>Team_TeamID</th>\n",
       "      <th>Opp_TeamID</th>\n",
       "      <th>Team_Score</th>\n",
       "      <th>Opp_Score</th>\n",
       "      <th>Team_uNetRtg</th>\n",
       "      <th>Team_NetRtg</th>\n",
       "      <th>Opp_NetRtg</th>\n",
       "      <th>WTeamID</th>\n",
       "      <th>LTeamID</th>\n",
       "      <th>WNetRtg</th>\n",
       "      <th>LNetRtg</th>\n",
       "    </tr>\n",
       "  </thead>\n",
       "  <tbody>\n",
       "    <tr>\n",
       "      <th>55</th>\n",
       "      <td>2003</td>\n",
       "      <td>10</td>\n",
       "      <td>1104</td>\n",
       "      <td>1328</td>\n",
       "      <td>68</td>\n",
       "      <td>62</td>\n",
       "      <td>3.232650</td>\n",
       "      <td>3.232650</td>\n",
       "      <td>-3.232650</td>\n",
       "      <td>1104</td>\n",
       "      <td>1328</td>\n",
       "      <td>3.232650</td>\n",
       "      <td>-3.232650</td>\n",
       "    </tr>\n",
       "    <tr>\n",
       "      <th>4353</th>\n",
       "      <td>2003</td>\n",
       "      <td>10</td>\n",
       "      <td>1272</td>\n",
       "      <td>1393</td>\n",
       "      <td>70</td>\n",
       "      <td>63</td>\n",
       "      <td>9.441729</td>\n",
       "      <td>9.441729</td>\n",
       "      <td>-9.441729</td>\n",
       "      <td>1272</td>\n",
       "      <td>1393</td>\n",
       "      <td>9.441729</td>\n",
       "      <td>-9.441729</td>\n",
       "    </tr>\n",
       "    <tr>\n",
       "      <th>5652</th>\n",
       "      <td>2003</td>\n",
       "      <td>10</td>\n",
       "      <td>1328</td>\n",
       "      <td>1104</td>\n",
       "      <td>62</td>\n",
       "      <td>68</td>\n",
       "      <td>-3.232650</td>\n",
       "      <td>-3.232650</td>\n",
       "      <td>3.232650</td>\n",
       "      <td>1104</td>\n",
       "      <td>1328</td>\n",
       "      <td>3.232650</td>\n",
       "      <td>-3.232650</td>\n",
       "    </tr>\n",
       "    <tr>\n",
       "      <th>7334</th>\n",
       "      <td>2003</td>\n",
       "      <td>10</td>\n",
       "      <td>1393</td>\n",
       "      <td>1272</td>\n",
       "      <td>63</td>\n",
       "      <td>70</td>\n",
       "      <td>-9.441729</td>\n",
       "      <td>-9.441729</td>\n",
       "      <td>9.441729</td>\n",
       "      <td>1272</td>\n",
       "      <td>1393</td>\n",
       "      <td>9.441729</td>\n",
       "      <td>-9.441729</td>\n",
       "    </tr>\n",
       "    <tr>\n",
       "      <th>2165</th>\n",
       "      <td>2003</td>\n",
       "      <td>11</td>\n",
       "      <td>1186</td>\n",
       "      <td>1458</td>\n",
       "      <td>55</td>\n",
       "      <td>81</td>\n",
       "      <td>-39.214358</td>\n",
       "      <td>-39.214358</td>\n",
       "      <td>39.214358</td>\n",
       "      <td>1458</td>\n",
       "      <td>1186</td>\n",
       "      <td>39.214358</td>\n",
       "      <td>-39.214358</td>\n",
       "    </tr>\n",
       "  </tbody>\n",
       "</table>\n",
       "</div>"
      ],
      "text/plain": [
       "      Season  DayNum  Team_TeamID  Opp_TeamID  Team_Score  Opp_Score  \\\n",
       "55      2003      10         1104        1328          68         62   \n",
       "4353    2003      10         1272        1393          70         63   \n",
       "5652    2003      10         1328        1104          62         68   \n",
       "7334    2003      10         1393        1272          63         70   \n",
       "2165    2003      11         1186        1458          55         81   \n",
       "\n",
       "      Team_uNetRtg  Team_NetRtg  Opp_NetRtg  WTeamID  LTeamID    WNetRtg  \\\n",
       "55        3.232650     3.232650   -3.232650     1104     1328   3.232650   \n",
       "4353      9.441729     9.441729   -9.441729     1272     1393   9.441729   \n",
       "5652     -3.232650    -3.232650    3.232650     1104     1328   3.232650   \n",
       "7334     -9.441729    -9.441729    9.441729     1272     1393   9.441729   \n",
       "2165    -39.214358   -39.214358   39.214358     1458     1186  39.214358   \n",
       "\n",
       "        LNetRtg  \n",
       "55    -3.232650  \n",
       "4353  -9.441729  \n",
       "5652  -3.232650  \n",
       "7334  -9.441729  \n",
       "2165 -39.214358  "
      ]
     },
     "execution_count": 369,
     "metadata": {},
     "output_type": "execute_result"
    }
   ],
   "source": [
    "# ok this is my code now\n",
    "\n",
    "# Two new columms: WTeamID and LTeamID\n",
    "# Not entirely new but they're now necessary\n",
    "MRollStats[\"WTeamID\"] = np.where(MRollStats[\"Team_Score\"] > MRollStats[\"Opp_Score\"],\n",
    "                                 MRollStats[\"Team_TeamID\"], MRollStats[\"Opp_TeamID\"])\n",
    "\n",
    "MRollStats[\"LTeamID\"] = np.where(MRollStats[\"Team_Score\"] > MRollStats[\"Opp_Score\"],\n",
    "                                 MRollStats[\"Opp_TeamID\"], MRollStats[\"Team_TeamID\"])\n",
    "\n",
    "MRollStats[\"WNetRtg\"] = np.where(MRollStats[\"Team_Score\"] > MRollStats[\"Opp_Score\"],\n",
    "                                 MRollStats[\"Team_NetRtg\"], MRollStats[\"Opp_NetRtg\"])\n",
    "\n",
    "MRollStats[\"LNetRtg\"] = np.where(MRollStats[\"Team_Score\"] > MRollStats[\"Opp_Score\"],\n",
    "                                 MRollStats[\"Opp_NetRtg\"], MRollStats[\"Team_NetRtg\"])\n",
    "\n",
    "MRollStats.sort_values(by = [\"Season\",\"DayNum\"]).head(5)"
   ]
  },
  {
   "cell_type": "code",
   "execution_count": 265,
   "metadata": {},
   "outputs": [],
   "source": [
    "# This was the unoptimized code (it took over 5 minutes to run)\n",
    "\n",
    "# Due to how long this code takes to run we will not be renaming the dataframe.\n",
    "#test = pd.DataFrame()\n",
    "#for i in set(MTeamStats[\"Season\"]):\n",
    "#    for j in set(MTeamStats[\"Team_TeamID\"]):\n",
    "#        test1 = MTeamStats[(MTeamStats[\"Team_TeamID\"] == j) & (MTeamStats[\"Season\"] == i)]\n",
    "#        test1[\"RollingNetRtg\"] = test1[\"Team_uNetRtg\"].expanding().mean() # This creates a rolling mean\n",
    "#        test = pd.concat([test,test1])\n",
    "#test1.head()"
   ]
  },
  {
   "cell_type": "code",
   "execution_count": null,
   "metadata": {},
   "outputs": [],
   "source": [
    "MRelCompStats = MCompStats[MCompStats[\"Season\"] > 2002] # We only need stats from 2003 onward\n",
    "\n",
    "# Merge to get the Net Ratings for the Winning and Losing Teams\n",
    "MRelCompStats = MRelCompStats.merge(MRollStats.loc[:,[\"Season\",\"DayNum\",\"WTeamID\",\"WNetRtg\",\"LNetRtg\"]], on = [\"Season\",\"DayNum\",\"WTeamID\"])\n",
    "MRelCompStats.rename(columns = {\"RollingNetRtg\": \"WNetRtg\"}, inplace = True)\n",
    "MRelCompStats.drop_duplicates(inplace=True)"
   ]
  },
  {
   "cell_type": "code",
   "execution_count": null,
   "metadata": {},
   "outputs": [
    {
     "data": {
      "application/vnd.microsoft.datawrangler.viewer.v0+json": {
       "columns": [
        {
         "name": "index",
         "rawType": "int64",
         "type": "integer"
        },
        {
         "name": "Season",
         "rawType": "int64",
         "type": "integer"
        },
        {
         "name": "DayNum",
         "rawType": "int64",
         "type": "integer"
        },
        {
         "name": "WTeamID",
         "rawType": "int64",
         "type": "integer"
        },
        {
         "name": "WScore",
         "rawType": "int64",
         "type": "integer"
        },
        {
         "name": "LTeamID",
         "rawType": "int64",
         "type": "integer"
        },
        {
         "name": "LScore",
         "rawType": "int64",
         "type": "integer"
        },
        {
         "name": "WLoc",
         "rawType": "object",
         "type": "string"
        },
        {
         "name": "NumOT",
         "rawType": "int64",
         "type": "integer"
        },
        {
         "name": "WNetRtg",
         "rawType": "float64",
         "type": "float"
        },
        {
         "name": "LNetRtg",
         "rawType": "float64",
         "type": "float"
        },
        {
         "name": "WDiff",
         "rawType": "float64",
         "type": "float"
        }
       ],
       "conversionMethod": "pd.DataFrame",
       "ref": "71928716-82c0-4d15-98c9-8446219011d8",
       "rows": [
        [
         "0",
         "2003",
         "10",
         "1104",
         "68",
         "1328",
         "62",
         "N",
         "0",
         "3.232650324029194",
         "-3.232650324029194",
         "6.465300648058388"
        ],
        [
         "2",
         "2003",
         "10",
         "1272",
         "70",
         "1393",
         "63",
         "N",
         "0",
         "9.441728771708114",
         "-9.441728771708114",
         "18.883457543416228"
        ],
        [
         "4",
         "2003",
         "11",
         "1266",
         "73",
         "1437",
         "61",
         "N",
         "0",
         "18.743237119931877",
         "-18.743237119931877",
         "37.48647423986375"
        ],
        [
         "6",
         "2003",
         "11",
         "1296",
         "56",
         "1457",
         "50",
         "N",
         "0",
         "9.338222167291505",
         "-9.338222167291505",
         "18.67644433458301"
        ],
        [
         "8",
         "2003",
         "11",
         "1400",
         "77",
         "1208",
         "71",
         "N",
         "0",
         "8.742741149035112",
         "-8.742741149035112",
         "17.485482298070224"
        ]
       ],
       "shape": {
        "columns": 11,
        "rows": 5
       }
      },
      "text/html": [
       "<div>\n",
       "<style scoped>\n",
       "    .dataframe tbody tr th:only-of-type {\n",
       "        vertical-align: middle;\n",
       "    }\n",
       "\n",
       "    .dataframe tbody tr th {\n",
       "        vertical-align: top;\n",
       "    }\n",
       "\n",
       "    .dataframe thead th {\n",
       "        text-align: right;\n",
       "    }\n",
       "</style>\n",
       "<table border=\"1\" class=\"dataframe\">\n",
       "  <thead>\n",
       "    <tr style=\"text-align: right;\">\n",
       "      <th></th>\n",
       "      <th>Season</th>\n",
       "      <th>DayNum</th>\n",
       "      <th>WTeamID</th>\n",
       "      <th>WScore</th>\n",
       "      <th>LTeamID</th>\n",
       "      <th>LScore</th>\n",
       "      <th>WLoc</th>\n",
       "      <th>NumOT</th>\n",
       "      <th>WNetRtg</th>\n",
       "      <th>LNetRtg</th>\n",
       "      <th>WDiff</th>\n",
       "    </tr>\n",
       "  </thead>\n",
       "  <tbody>\n",
       "    <tr>\n",
       "      <th>0</th>\n",
       "      <td>2003</td>\n",
       "      <td>10</td>\n",
       "      <td>1104</td>\n",
       "      <td>68</td>\n",
       "      <td>1328</td>\n",
       "      <td>62</td>\n",
       "      <td>N</td>\n",
       "      <td>0</td>\n",
       "      <td>3.232650</td>\n",
       "      <td>-3.232650</td>\n",
       "      <td>6.465301</td>\n",
       "    </tr>\n",
       "    <tr>\n",
       "      <th>2</th>\n",
       "      <td>2003</td>\n",
       "      <td>10</td>\n",
       "      <td>1272</td>\n",
       "      <td>70</td>\n",
       "      <td>1393</td>\n",
       "      <td>63</td>\n",
       "      <td>N</td>\n",
       "      <td>0</td>\n",
       "      <td>9.441729</td>\n",
       "      <td>-9.441729</td>\n",
       "      <td>18.883458</td>\n",
       "    </tr>\n",
       "    <tr>\n",
       "      <th>4</th>\n",
       "      <td>2003</td>\n",
       "      <td>11</td>\n",
       "      <td>1266</td>\n",
       "      <td>73</td>\n",
       "      <td>1437</td>\n",
       "      <td>61</td>\n",
       "      <td>N</td>\n",
       "      <td>0</td>\n",
       "      <td>18.743237</td>\n",
       "      <td>-18.743237</td>\n",
       "      <td>37.486474</td>\n",
       "    </tr>\n",
       "    <tr>\n",
       "      <th>6</th>\n",
       "      <td>2003</td>\n",
       "      <td>11</td>\n",
       "      <td>1296</td>\n",
       "      <td>56</td>\n",
       "      <td>1457</td>\n",
       "      <td>50</td>\n",
       "      <td>N</td>\n",
       "      <td>0</td>\n",
       "      <td>9.338222</td>\n",
       "      <td>-9.338222</td>\n",
       "      <td>18.676444</td>\n",
       "    </tr>\n",
       "    <tr>\n",
       "      <th>8</th>\n",
       "      <td>2003</td>\n",
       "      <td>11</td>\n",
       "      <td>1400</td>\n",
       "      <td>77</td>\n",
       "      <td>1208</td>\n",
       "      <td>71</td>\n",
       "      <td>N</td>\n",
       "      <td>0</td>\n",
       "      <td>8.742741</td>\n",
       "      <td>-8.742741</td>\n",
       "      <td>17.485482</td>\n",
       "    </tr>\n",
       "  </tbody>\n",
       "</table>\n",
       "</div>"
      ],
      "text/plain": [
       "   Season  DayNum  WTeamID  WScore  LTeamID  LScore WLoc  NumOT    WNetRtg  \\\n",
       "0    2003      10     1104      68     1328      62    N      0   3.232650   \n",
       "2    2003      10     1272      70     1393      63    N      0   9.441729   \n",
       "4    2003      11     1266      73     1437      61    N      0  18.743237   \n",
       "6    2003      11     1296      56     1457      50    N      0   9.338222   \n",
       "8    2003      11     1400      77     1208      71    N      0   8.742741   \n",
       "\n",
       "     LNetRtg      WDiff  \n",
       "0  -3.232650   6.465301  \n",
       "2  -9.441729  18.883458  \n",
       "4 -18.743237  37.486474  \n",
       "6  -9.338222  18.676444  \n",
       "8  -8.742741  17.485482  "
      ]
     },
     "execution_count": 371,
     "metadata": {},
     "output_type": "execute_result"
    }
   ],
   "source": [
    "# Create the WDiff column which will end up being our main source of predictions going forward\n",
    "MRelCompStats[\"WDiff\"] = MRelCompStats[\"WNetRtg\"] - MRelCompStats[\"LNetRtg\"]\n",
    "\n",
    "MRelCompStats.head()"
   ]
  },
  {
   "cell_type": "markdown",
   "metadata": {},
   "source": [
    "Looking at the 2024 Tournament data to see how good our model is"
   ]
  },
  {
   "cell_type": "code",
   "execution_count": 390,
   "metadata": {},
   "outputs": [
    {
     "data": {
      "application/vnd.microsoft.datawrangler.viewer.v0+json": {
       "columns": [
        {
         "name": "index",
         "rawType": "int64",
         "type": "integer"
        },
        {
         "name": "Season",
         "rawType": "int64",
         "type": "integer"
        },
        {
         "name": "DayNum",
         "rawType": "int64",
         "type": "integer"
        },
        {
         "name": "WTeamID",
         "rawType": "int64",
         "type": "integer"
        },
        {
         "name": "WScore",
         "rawType": "int64",
         "type": "integer"
        },
        {
         "name": "LTeamID",
         "rawType": "int64",
         "type": "integer"
        },
        {
         "name": "LScore",
         "rawType": "int64",
         "type": "integer"
        },
        {
         "name": "WLoc",
         "rawType": "object",
         "type": "string"
        },
        {
         "name": "NumOT",
         "rawType": "int64",
         "type": "integer"
        },
        {
         "name": "WFGM",
         "rawType": "int64",
         "type": "integer"
        },
        {
         "name": "WFGA",
         "rawType": "int64",
         "type": "integer"
        },
        {
         "name": "WFGM3",
         "rawType": "int64",
         "type": "integer"
        },
        {
         "name": "WFGA3",
         "rawType": "int64",
         "type": "integer"
        },
        {
         "name": "WFTM",
         "rawType": "int64",
         "type": "integer"
        },
        {
         "name": "WFTA",
         "rawType": "int64",
         "type": "integer"
        },
        {
         "name": "WOR",
         "rawType": "int64",
         "type": "integer"
        },
        {
         "name": "WDR",
         "rawType": "int64",
         "type": "integer"
        },
        {
         "name": "WAst",
         "rawType": "int64",
         "type": "integer"
        },
        {
         "name": "WTO",
         "rawType": "int64",
         "type": "integer"
        },
        {
         "name": "WStl",
         "rawType": "int64",
         "type": "integer"
        },
        {
         "name": "WBlk",
         "rawType": "int64",
         "type": "integer"
        },
        {
         "name": "WPF",
         "rawType": "int64",
         "type": "integer"
        },
        {
         "name": "LFGM",
         "rawType": "int64",
         "type": "integer"
        },
        {
         "name": "LFGA",
         "rawType": "int64",
         "type": "integer"
        },
        {
         "name": "LFGM3",
         "rawType": "int64",
         "type": "integer"
        },
        {
         "name": "LFGA3",
         "rawType": "int64",
         "type": "integer"
        },
        {
         "name": "LFTM",
         "rawType": "int64",
         "type": "integer"
        },
        {
         "name": "LFTA",
         "rawType": "int64",
         "type": "integer"
        },
        {
         "name": "LOR",
         "rawType": "int64",
         "type": "integer"
        },
        {
         "name": "LDR",
         "rawType": "int64",
         "type": "integer"
        },
        {
         "name": "LAst",
         "rawType": "int64",
         "type": "integer"
        },
        {
         "name": "LTO",
         "rawType": "int64",
         "type": "integer"
        },
        {
         "name": "LStl",
         "rawType": "int64",
         "type": "integer"
        },
        {
         "name": "LBlk",
         "rawType": "int64",
         "type": "integer"
        },
        {
         "name": "LPF",
         "rawType": "int64",
         "type": "integer"
        },
        {
         "name": "Team_TeamID_x",
         "rawType": "int64",
         "type": "integer"
        },
        {
         "name": "Team_Conf_x",
         "rawType": "object",
         "type": "string"
        },
        {
         "name": "WNetRtg",
         "rawType": "float64",
         "type": "float"
        },
        {
         "name": "Team_TeamID_y",
         "rawType": "int64",
         "type": "integer"
        },
        {
         "name": "Team_Conf_y",
         "rawType": "object",
         "type": "string"
        },
        {
         "name": "LNetRtg",
         "rawType": "float64",
         "type": "float"
        },
        {
         "name": "WDiff",
         "rawType": "float64",
         "type": "float"
        }
       ],
       "conversionMethod": "pd.DataFrame",
       "ref": "9feb3a26-497f-40b6-a566-6ac3f7acdd1a",
       "rows": [
        [
         "0",
         "2024",
         "143",
         "1104",
         "89",
         "1314",
         "87",
         "N",
         "0",
         "32",
         "67",
         "11",
         "26",
         "14",
         "20",
         "14",
         "23",
         "13",
         "10",
         "4",
         "7",
         "18",
         "30",
         "78",
         "12",
         "32",
         "15",
         "17",
         "17",
         "21",
         "17",
         "7",
         "8",
         "3",
         "18",
         "1104",
         "sec",
         "13.06717974223085",
         "1314",
         "acc",
         "15.681718698504529",
         "-2.6145389562736785"
        ],
        [
         "1",
         "2024",
         "139",
         "1104",
         "72",
         "1213",
         "61",
         "N",
         "0",
         "24",
         "65",
         "8",
         "31",
         "16",
         "22",
         "15",
         "29",
         "13",
         "12",
         "10",
         "9",
         "26",
         "18",
         "56",
         "2",
         "20",
         "23",
         "37",
         "12",
         "24",
         "5",
         "13",
         "10",
         "8",
         "21",
         "1104",
         "sec",
         "13.06717974223085",
         "1213",
         "wac",
         "17.38842635731624",
         "-4.321246615085391"
        ],
        [
         "2",
         "2024",
         "145",
         "1104",
         "89",
         "1155",
         "82",
         "N",
         "0",
         "29",
         "62",
         "16",
         "36",
         "15",
         "22",
         "14",
         "26",
         "20",
         "12",
         "3",
         "6",
         "17",
         "33",
         "69",
         "8",
         "26",
         "8",
         "16",
         "8",
         "20",
         "15",
         "6",
         "6",
         "2",
         "20",
         "1104",
         "sec",
         "13.06717974223085",
         "1155",
         "acc",
         "9.121843060160424",
         "3.945336682070426"
        ],
        [
         "3",
         "2024",
         "137",
         "1104",
         "109",
         "1158",
         "96",
         "N",
         "0",
         "36",
         "60",
         "13",
         "23",
         "24",
         "37",
         "4",
         "24",
         "17",
         "10",
         "5",
         "2",
         "22",
         "32",
         "78",
         "10",
         "33",
         "22",
         "29",
         "14",
         "23",
         "16",
         "10",
         "8",
         "3",
         "22",
         "1104",
         "sec",
         "13.06717974223085",
         "1158",
         "caa",
         "10.134313688606653",
         "2.9328660536241973"
        ],
        [
         "4",
         "2024",
         "136",
         "1112",
         "85",
         "1253",
         "65",
         "N",
         "0",
         "30",
         "72",
         "13",
         "35",
         "12",
         "17",
         "11",
         "33",
         "19",
         "9",
         "10",
         "8",
         "17",
         "24",
         "72",
         "3",
         "17",
         "14",
         "22",
         "13",
         "31",
         "11",
         "12",
         "6",
         "3",
         "14",
         "1112",
         "pac_twelve",
         "20.156738700361288",
         "1253",
         "big_west",
         "0.3941745094985295",
         "19.762564190862758"
        ]
       ],
       "shape": {
        "columns": 41,
        "rows": 5
       }
      },
      "text/html": [
       "<div>\n",
       "<style scoped>\n",
       "    .dataframe tbody tr th:only-of-type {\n",
       "        vertical-align: middle;\n",
       "    }\n",
       "\n",
       "    .dataframe tbody tr th {\n",
       "        vertical-align: top;\n",
       "    }\n",
       "\n",
       "    .dataframe thead th {\n",
       "        text-align: right;\n",
       "    }\n",
       "</style>\n",
       "<table border=\"1\" class=\"dataframe\">\n",
       "  <thead>\n",
       "    <tr style=\"text-align: right;\">\n",
       "      <th></th>\n",
       "      <th>Season</th>\n",
       "      <th>DayNum</th>\n",
       "      <th>WTeamID</th>\n",
       "      <th>WScore</th>\n",
       "      <th>LTeamID</th>\n",
       "      <th>LScore</th>\n",
       "      <th>WLoc</th>\n",
       "      <th>NumOT</th>\n",
       "      <th>WFGM</th>\n",
       "      <th>WFGA</th>\n",
       "      <th>...</th>\n",
       "      <th>LStl</th>\n",
       "      <th>LBlk</th>\n",
       "      <th>LPF</th>\n",
       "      <th>Team_TeamID_x</th>\n",
       "      <th>Team_Conf_x</th>\n",
       "      <th>WNetRtg</th>\n",
       "      <th>Team_TeamID_y</th>\n",
       "      <th>Team_Conf_y</th>\n",
       "      <th>LNetRtg</th>\n",
       "      <th>WDiff</th>\n",
       "    </tr>\n",
       "  </thead>\n",
       "  <tbody>\n",
       "    <tr>\n",
       "      <th>0</th>\n",
       "      <td>2024</td>\n",
       "      <td>143</td>\n",
       "      <td>1104</td>\n",
       "      <td>89</td>\n",
       "      <td>1314</td>\n",
       "      <td>87</td>\n",
       "      <td>N</td>\n",
       "      <td>0</td>\n",
       "      <td>32</td>\n",
       "      <td>67</td>\n",
       "      <td>...</td>\n",
       "      <td>8</td>\n",
       "      <td>3</td>\n",
       "      <td>18</td>\n",
       "      <td>1104</td>\n",
       "      <td>sec</td>\n",
       "      <td>13.067180</td>\n",
       "      <td>1314</td>\n",
       "      <td>acc</td>\n",
       "      <td>15.681719</td>\n",
       "      <td>-2.614539</td>\n",
       "    </tr>\n",
       "    <tr>\n",
       "      <th>1</th>\n",
       "      <td>2024</td>\n",
       "      <td>139</td>\n",
       "      <td>1104</td>\n",
       "      <td>72</td>\n",
       "      <td>1213</td>\n",
       "      <td>61</td>\n",
       "      <td>N</td>\n",
       "      <td>0</td>\n",
       "      <td>24</td>\n",
       "      <td>65</td>\n",
       "      <td>...</td>\n",
       "      <td>10</td>\n",
       "      <td>8</td>\n",
       "      <td>21</td>\n",
       "      <td>1104</td>\n",
       "      <td>sec</td>\n",
       "      <td>13.067180</td>\n",
       "      <td>1213</td>\n",
       "      <td>wac</td>\n",
       "      <td>17.388426</td>\n",
       "      <td>-4.321247</td>\n",
       "    </tr>\n",
       "    <tr>\n",
       "      <th>2</th>\n",
       "      <td>2024</td>\n",
       "      <td>145</td>\n",
       "      <td>1104</td>\n",
       "      <td>89</td>\n",
       "      <td>1155</td>\n",
       "      <td>82</td>\n",
       "      <td>N</td>\n",
       "      <td>0</td>\n",
       "      <td>29</td>\n",
       "      <td>62</td>\n",
       "      <td>...</td>\n",
       "      <td>6</td>\n",
       "      <td>2</td>\n",
       "      <td>20</td>\n",
       "      <td>1104</td>\n",
       "      <td>sec</td>\n",
       "      <td>13.067180</td>\n",
       "      <td>1155</td>\n",
       "      <td>acc</td>\n",
       "      <td>9.121843</td>\n",
       "      <td>3.945337</td>\n",
       "    </tr>\n",
       "    <tr>\n",
       "      <th>3</th>\n",
       "      <td>2024</td>\n",
       "      <td>137</td>\n",
       "      <td>1104</td>\n",
       "      <td>109</td>\n",
       "      <td>1158</td>\n",
       "      <td>96</td>\n",
       "      <td>N</td>\n",
       "      <td>0</td>\n",
       "      <td>36</td>\n",
       "      <td>60</td>\n",
       "      <td>...</td>\n",
       "      <td>8</td>\n",
       "      <td>3</td>\n",
       "      <td>22</td>\n",
       "      <td>1104</td>\n",
       "      <td>sec</td>\n",
       "      <td>13.067180</td>\n",
       "      <td>1158</td>\n",
       "      <td>caa</td>\n",
       "      <td>10.134314</td>\n",
       "      <td>2.932866</td>\n",
       "    </tr>\n",
       "    <tr>\n",
       "      <th>4</th>\n",
       "      <td>2024</td>\n",
       "      <td>136</td>\n",
       "      <td>1112</td>\n",
       "      <td>85</td>\n",
       "      <td>1253</td>\n",
       "      <td>65</td>\n",
       "      <td>N</td>\n",
       "      <td>0</td>\n",
       "      <td>30</td>\n",
       "      <td>72</td>\n",
       "      <td>...</td>\n",
       "      <td>6</td>\n",
       "      <td>3</td>\n",
       "      <td>14</td>\n",
       "      <td>1112</td>\n",
       "      <td>pac_twelve</td>\n",
       "      <td>20.156739</td>\n",
       "      <td>1253</td>\n",
       "      <td>big_west</td>\n",
       "      <td>0.394175</td>\n",
       "      <td>19.762564</td>\n",
       "    </tr>\n",
       "  </tbody>\n",
       "</table>\n",
       "<p>5 rows × 41 columns</p>\n",
       "</div>"
      ],
      "text/plain": [
       "   Season  DayNum  WTeamID  WScore  LTeamID  LScore WLoc  NumOT  WFGM  WFGA  \\\n",
       "0    2024     143     1104      89     1314      87    N      0    32    67   \n",
       "1    2024     139     1104      72     1213      61    N      0    24    65   \n",
       "2    2024     145     1104      89     1155      82    N      0    29    62   \n",
       "3    2024     137     1104     109     1158      96    N      0    36    60   \n",
       "4    2024     136     1112      85     1253      65    N      0    30    72   \n",
       "\n",
       "   ...  LStl  LBlk  LPF  Team_TeamID_x  Team_Conf_x    WNetRtg  Team_TeamID_y  \\\n",
       "0  ...     8     3   18           1104          sec  13.067180           1314   \n",
       "1  ...    10     8   21           1104          sec  13.067180           1213   \n",
       "2  ...     6     2   20           1104          sec  13.067180           1155   \n",
       "3  ...     8     3   22           1104          sec  13.067180           1158   \n",
       "4  ...     6     3   14           1112   pac_twelve  20.156739           1253   \n",
       "\n",
       "   Team_Conf_y    LNetRtg      WDiff  \n",
       "0          acc  15.681719  -2.614539  \n",
       "1          wac  17.388426  -4.321247  \n",
       "2          acc   9.121843   3.945337  \n",
       "3          caa  10.134314   2.932866  \n",
       "4     big_west   0.394175  19.762564  \n",
       "\n",
       "[5 rows x 41 columns]"
      ]
     },
     "execution_count": 390,
     "metadata": {},
     "output_type": "execute_result"
    }
   ],
   "source": [
    "MTestTourney = MTournStats[MTournStats[\"Season\"] == 2024].sort_values(by = \"WTeamID\")\n",
    "MTestTourney = MTestTourney.merge(MTeamGroupedStats[MTeamGroupedStats[\"Season\"] == 2024].loc[:,[\"Team_TeamID\",\"Team_Conf\",\"Team_uNetRtg\"]], left_on = [\"WTeamID\"], right_on = [\"Team_TeamID\"]).rename(columns = {\"Team_uNetRtg\":\"WNetRtg\"})\n",
    "MTestTourney = MTestTourney.merge(MTeamGroupedStats[MTeamGroupedStats[\"Season\"] == 2024].loc[:,[\"Team_TeamID\",\"Team_Conf\",\"Team_uNetRtg\"]], left_on = [\"LTeamID\"], right_on = [\"Team_TeamID\"]).rename(columns = {\"Team_uNetRtg\":\"LNetRtg\"})\n",
    "MTestTourney[\"WDiff\"] = MTestTourney[\"WNetRtg\"] - MTestTourney[\"LNetRtg\"]\n",
    "MTestTourney.head()"
   ]
  },
  {
   "cell_type": "code",
   "execution_count": 400,
   "metadata": {},
   "outputs": [],
   "source": [
    "# Percentile Rank Function\n",
    "def percentile_rank(df,colname,value):\n",
    "    return (df[colname] < value).sum() / len(df[colname])"
   ]
  },
  {
   "cell_type": "code",
   "execution_count": 405,
   "metadata": {},
   "outputs": [
    {
     "data": {
      "text/plain": [
       "0.30482895675510413"
      ]
     },
     "execution_count": 405,
     "metadata": {},
     "output_type": "execute_result"
    }
   ],
   "source": [
    "percentile_rank(MRelCompStats,\"WDiff\",MTestTourney.loc[11,\"WDiff\"])"
   ]
  },
  {
   "cell_type": "code",
   "execution_count": null,
   "metadata": {},
   "outputs": [
    {
     "data": {
      "text/plain": [
       "0     -2.614539\n",
       "1     -4.321247\n",
       "2      3.945337\n",
       "3      2.932866\n",
       "4     19.762564\n",
       "        ...    \n",
       "62    -4.814402\n",
       "63    -0.152032\n",
       "64    -1.860652\n",
       "65    -2.151129\n",
       "66   -12.271734\n",
       "Name: WDiff, Length: 67, dtype: float64"
      ]
     },
     "execution_count": 391,
     "metadata": {},
     "output_type": "execute_result"
    }
   ],
   "source": [
    "t = MTestTourney[\"WDiff\"]\n",
    "f = [np.percentile]"
   ]
  },
  {
   "cell_type": "markdown",
   "metadata": {},
   "source": [
    "Taking a different route, what if we use integers as a range and then calculate the win% of teams whenever they are in a certain integer?"
   ]
  },
  {
   "cell_type": "code",
   "execution_count": 475,
   "metadata": {},
   "outputs": [
    {
     "data": {
      "text/plain": [
       "NetDiff\n",
       "-232    0.0\n",
       "-228    0.0\n",
       "-206    0.0\n",
       "-201    0.0\n",
       "-193    0.0\n",
       "Name: Result, dtype: float64"
      ]
     },
     "execution_count": 475,
     "metadata": {},
     "output_type": "execute_result"
    }
   ],
   "source": [
    "# Grouping by NetDiff\n",
    "MNetDiff = MRollStats[MRollStats[\"DayNum\"] > 14].groupby([\"NetDiff\"])[\"Result\"].mean()\n",
    "MNetDiff.head()"
   ]
  },
  {
   "cell_type": "code",
   "execution_count": 482,
   "metadata": {},
   "outputs": [],
   "source": [
    "MTestTourney = MTournStats[MTournStats[\"Season\"] == 2024]\n",
    "MTestTourney = MTestTourney.merge(MTeamGroupedStats.loc[:,[\"Season\",\"Team_TeamID\",\"ConfAdjNetRtg\"]], \n",
    "                   left_on = [\"Season\",\"WTeamID\"], \n",
    "                   right_on = [\"Season\",\"Team_TeamID\"]).drop(\"Team_TeamID\",axis = 1).rename(columns = {\"ConfAdjNetRtg\":\"WNetRtg\"})\n",
    "\n",
    "MTestTourney = MTestTourney.merge(MTeamGroupedStats.loc[:,[\"Season\",\"Team_TeamID\",\"ConfAdjNetRtg\"]], \n",
    "                   left_on = [\"Season\",\"LTeamID\"], \n",
    "                   right_on = [\"Season\",\"Team_TeamID\"]).drop(\"Team_TeamID\",axis = 1).rename(columns = {\"ConfAdjNetRtg\":\"LNetRtg\"})"
   ]
  },
  {
   "cell_type": "code",
   "execution_count": 485,
   "metadata": {},
   "outputs": [],
   "source": [
    "MTestTourney[\"NetDiff\"] = (MTestTourney[\"WNetRtg\"] - MTestTourney[\"LNetRtg\"]).astype('int')\n",
    "MTestTourney = MTestTourney.merge(MNetDiff,on = [\"NetDiff\"])"
   ]
  },
  {
   "cell_type": "code",
   "execution_count": 488,
   "metadata": {},
   "outputs": [],
   "source": [
    "MTestTourney[\"BrierScore\"] = (MTestTourney[\"Result\"] - 1)**2"
   ]
  },
  {
   "cell_type": "markdown",
   "metadata": {},
   "source": [
    "#### Linear Regression\n",
    "\n",
    "Now we will look at linear regression for the offensive side and defensive side to see what other adjustments need to be made. Sometimes, irregardless of conference, some teams just outperform or underperform their peers, and should be rewarded or punished respectively."
   ]
  },
  {
   "cell_type": "code",
   "execution_count": 185,
   "metadata": {},
   "outputs": [
    {
     "name": "stdout",
     "output_type": "stream",
     "text": [
      "[1200.83311642]\n"
     ]
    },
    {
     "name": "stderr",
     "output_type": "stream",
     "text": [
      "c:\\Users\\mattd\\anaconda3\\Lib\\site-packages\\sklearn\\base.py:439: UserWarning: X does not have valid feature names, but LinearRegression was fitted with feature names\n",
      "  warnings.warn(\n"
     ]
    }
   ],
   "source": [
    "from sklearn.preprocessing import PolynomialFeatures\n",
    "\n",
    "lreg = LinearRegression()\n",
    "MRegDF = MTeamGroupedStats.copy()\n",
    "MRegDF[\"Team_TeamID\"].astype('category')\n",
    "lreg_teams = MRegDF[[\"Team_TeamID\",\"Season\"]]\n",
    "lreg_netrtg = MRegDF[\"ConfAdjNetRtg\"]\n",
    "lreg.fit(lreg_teams,lreg_netrtg)\n",
    "\n",
    "print(lreg.predict([[140000,2024]]))"
   ]
  }
 ],
 "metadata": {
  "kernelspec": {
   "display_name": "base",
   "language": "python",
   "name": "python3"
  },
  "language_info": {
   "codemirror_mode": {
    "name": "ipython",
    "version": 3
   },
   "file_extension": ".py",
   "mimetype": "text/x-python",
   "name": "python",
   "nbconvert_exporter": "python",
   "pygments_lexer": "ipython3",
   "version": "3.11.7"
  }
 },
 "nbformat": 4,
 "nbformat_minor": 2
}
