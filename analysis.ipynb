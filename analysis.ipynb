{
 "cells": [
  {
   "cell_type": "code",
   "execution_count": 2,
   "metadata": {},
   "outputs": [],
   "source": [
    "import pandas as pd \n",
    "import numpy as np \n",
    "import math \n",
    "from sklearn.linear_model import LinearRegression\n",
    "from sklearn.preprocessing import StandardScaler\n",
    "import re\n",
    "from sklearn.linear_model import LogisticRegression\n",
    "from sklearn.model_selection import train_test_split\n",
    "import sklearn.metrics as sklmetrics\n",
    "import matplotlib as mpl\n",
    "import matplotlib.pyplot as plt\n",
    "import seaborn as sns\n",
    "\n",
    "pd.options.mode.copy_on_write = True\n",
    "\n",
    "%matplotlib inline"
   ]
  },
  {
   "cell_type": "markdown",
   "metadata": {},
   "source": [
    "# MEN'S ANALYSIS"
   ]
  },
  {
   "cell_type": "markdown",
   "metadata": {},
   "source": [
    "## Reading in the data"
   ]
  },
  {
   "cell_type": "code",
   "execution_count": 3,
   "metadata": {},
   "outputs": [],
   "source": [
    "# Men's regular season detailed stats\n",
    "MRegStats = pd.read_csv(\"Data/MRegularSeasonDetailedResults.csv\")\n",
    "\n",
    "# Men's regular season compact stats\n",
    "MCompStats = pd.read_csv(\"Data/MRegularSeasonCompactResults.csv\")\n",
    "\n",
    "# Men's NCAA tournament detailed stats\n",
    "MTournStats = pd.read_csv(\"Data/MNCAATourneyDetailedResults.csv\")\n",
    "\n",
    "# Men's NCAA tournament compact stats\n",
    "MCompTournStats = pd.read_csv(\"Data/MNCAATourneyCompactResults.csv\")\n",
    "\n",
    "# Men's Conference tournament stats\n",
    "MConfTournStats = pd.read_csv(\"Data/MConferenceTourneyGames.csv\")\n",
    "\n",
    "# Men's Team names\n",
    "MTeams = pd.read_csv(\"Data/MTeams.csv\")\n",
    "MTeamSpellings = pd.read_csv(\"Data/MTeamSpellings.csv\", encoding='unicode_escape')\n",
    "\n",
    "# Men's Massey Ordinals\n",
    "MOridinals = pd.read_csv(\"Data/MMasseyOrdinals.csv\")\n",
    "\n",
    "# Men's Tournament Seeds\n",
    "MSeeds = pd.read_csv(\"Data/MNCAATourneySeeds.csv\")\n",
    "\n",
    "# Men's Coaches\n",
    "MCoaches = pd.read_csv(\"Data/MTeamCoaches.csv\")\n",
    "\n",
    "# Men's Conferences\n",
    "MConferences = pd.read_csv(\"Data/MTeamConferences.csv\")\n",
    "\n",
    "# Cities\n",
    "Cities = pd.read_csv(\"Data/Cities.csv\")\n",
    "MGameCities = pd.read_csv(\"Data/MGameCities.csv\")"
   ]
  },
  {
   "cell_type": "markdown",
   "metadata": {},
   "source": [
    "Dean Oliver created the \"Four Factors\" of basketball: effective Field Goal%, Offensive Rebound %, Turnover %, and Free Throw Rate. Teams that excel at all or most of these end up performing well overall, so we decided to add them into our analysis. They may not turn out to be useful but we added them just in case."
   ]
  },
  {
   "cell_type": "code",
   "execution_count": 4,
   "metadata": {},
   "outputs": [],
   "source": [
    "# Tempo\n",
    "# This is how the NET rankings calculate tempo so we will emulate it\n",
    "MRegStats[\"WTempo\"] = MRegStats[\"WFGA\"] - MRegStats[\"WOR\"] + MRegStats[\"WTO\"] + 0.475 * MRegStats[\"WFTA\"]\n",
    "MRegStats[\"LTempo\"] = MRegStats[\"LFGA\"] - MRegStats[\"LOR\"] + MRegStats[\"LTO\"] + 0.475 * MRegStats[\"LFTA\"]\n",
    "\n",
    "# Four Factors\n",
    "# eFG%\n",
    "MRegStats[\"WeFG\"] = (MRegStats[\"WFGM\"] + 0.5 * MRegStats[\"WFGM3\"]) / MRegStats[\"WFGA\"]\n",
    "MRegStats[\"LeFG\"] = (MRegStats[\"LFGM\"] + 0.5 * MRegStats[\"LFGM3\"]) / MRegStats[\"LFGA\"]\n",
    "\n",
    "# OR%\n",
    "MRegStats[\"WORPerc\"] = MRegStats[\"WOR\"] / (MRegStats[\"WOR\"] + MRegStats[\"LDR\"])\n",
    "MRegStats[\"LORPerc\"] = MRegStats[\"LOR\"] / (MRegStats[\"LOR\"] + MRegStats[\"WDR\"])\n",
    "\n",
    "# TO%\n",
    "MRegStats[\"WTOPerc\"] = (MRegStats[\"WTO\"] / MRegStats[\"WTempo\"]) * 100\n",
    "MRegStats[\"LTOPerc\"] = (MRegStats[\"LTO\"] / MRegStats[\"LTempo\"]) * 100\n",
    "\n",
    "# FTR\n",
    "MRegStats[\"WFTR\"] = MRegStats[\"WFTA\"] / MRegStats[\"WFGA\"]\n",
    "MRegStats[\"LFTR\"] = MRegStats[\"LFTA\"] / MRegStats[\"LFGA\"]"
   ]
  },
  {
   "cell_type": "markdown",
   "metadata": {},
   "source": [
    "Net rating is one of the main ways we will go about predicting the winning probability. We believe that the best teams are the most efficient, and that really comes down to points per possession subtracted by your opponent's points per possession. There are other ways to adjust it based on how many turnovers versus missed shots (as one is clearly a sign of a worse offense) but for now we will stick with the unadjusted Net Rating."
   ]
  },
  {
   "cell_type": "code",
   "execution_count": 5,
   "metadata": {},
   "outputs": [],
   "source": [
    "# Net Rating Stats\n",
    "\n",
    "# \"uORTG\" is unadjusted Offensive Rating. This will be used to adjust later.\n",
    "MRegStats[\"WuORTG\"] = (MRegStats[\"WScore\"] / MRegStats[\"WTempo\"]) * 100\n",
    "MRegStats[\"LuORTG\"] = (MRegStats[\"LScore\"] / MRegStats[\"LTempo\"]) * 100\n",
    "\n",
    "# The same goes for defensive rating. \"uDRTG\" is the unadjusted defensive rating\n",
    "MRegStats[\"WuDRTG\"] = (MRegStats[\"LScore\"] / MRegStats[\"LTempo\"]) * 100\n",
    "MRegStats[\"LuDRTG\"] = (MRegStats[\"WScore\"] / MRegStats[\"WTempo\"]) * 100\n",
    "\n",
    "# And now Net Rating is just Offensive Rating - Defensive Rating\n",
    "MRegStats[\"WuNetRtg\"] = MRegStats[\"WuORTG\"] - MRegStats[\"WuDRTG\"]\n",
    "MRegStats[\"LuNetRtg\"] = MRegStats[\"LuORTG\"] - MRegStats[\"LuDRTG\"]\n"
   ]
  },
  {
   "cell_type": "markdown",
   "metadata": {},
   "source": [
    "Adjusting the data to be longer instead of wider. Twice as long but groupable by team now."
   ]
  },
  {
   "cell_type": "code",
   "execution_count": 6,
   "metadata": {},
   "outputs": [],
   "source": [
    "def transform_team_stats(df):\n",
    "    \"\"\"\n",
    "    Transforms a DataFrame containing 'W' (Win) and 'L' (Loss) prefixed columns \n",
    "    into a format where both team and opponent perspectives are considered.\n",
    "    \n",
    "    Parameters:\n",
    "        df (pd.DataFrame): Input DataFrame with 'W' and 'L' columns.\n",
    "\n",
    "    Returns:\n",
    "        pd.DataFrame: Transformed DataFrame with both perspectives.\n",
    "    \"\"\"\n",
    "    # Create copies for team and opponent perspectives\n",
    "    WTeamStats = df.copy()\n",
    "    LTeamStats = df.copy()\n",
    "\n",
    "    # Swap home/away location in LTeamStats\n",
    "    if \"WLoc\" in LTeamStats.columns:\n",
    "        LTeamStats[\"WLoc\"] = LTeamStats[\"WLoc\"].map(lambda x: \"H\" if x == \"A\" else \"A\" if x == \"H\" else x)\n",
    "        LTeamStats[\"LLoc\"] = LTeamStats[\"WLoc\"]\n",
    "        LTeamStats.drop(\"WLoc\", axis=1, inplace=True)\n",
    "\n",
    "    # Rename columns: WTeamStats (Team perspective)\n",
    "    WTeamStats.rename(columns={col: col.replace(\"W\", \"Team_\", 1) for col in WTeamStats.columns if col.startswith(\"W\")}, inplace=True)\n",
    "    WTeamStats.rename(columns={col: col.replace(\"L\", \"Opp_\", 1) for col in WTeamStats.columns if col.startswith(\"L\")}, inplace=True)\n",
    "\n",
    "    # Rename columns: LTeamStats (Opponent perspective)\n",
    "    LTeamStats.rename(columns={col: col.replace(\"W\", \"Opp_\", 1) for col in LTeamStats.columns if col.startswith(\"W\")}, inplace=True)\n",
    "    LTeamStats.rename(columns={col: col.replace(\"L\", \"Team_\", 1) for col in LTeamStats.columns if col.startswith(\"L\")}, inplace=True)\n",
    "\n",
    "    # Concatenate both perspectives\n",
    "    TournTeamStats = pd.concat([WTeamStats, LTeamStats], ignore_index=True)\n",
    "\n",
    "    return TournTeamStats\n"
   ]
  },
  {
   "cell_type": "markdown",
   "metadata": {},
   "source": [
    "Here we transform the regular season and tournament dataframes from a wide, W vs L column structure to a long Team vs Opp structure."
   ]
  },
  {
   "cell_type": "code",
   "execution_count": 7,
   "metadata": {},
   "outputs": [],
   "source": [
    "MTeamStats = transform_team_stats(MRegStats)\n",
    "MTournTeamStats = transform_team_stats(MTournStats)"
   ]
  },
  {
   "cell_type": "markdown",
   "metadata": {},
   "source": [
    "Adding in conference stats"
   ]
  },
  {
   "cell_type": "code",
   "execution_count": 8,
   "metadata": {},
   "outputs": [
    {
     "data": {
      "application/vnd.microsoft.datawrangler.viewer.v0+json": {
       "columns": [
        {
         "name": "index",
         "rawType": "int64",
         "type": "integer"
        },
        {
         "name": "Season",
         "rawType": "int64",
         "type": "integer"
        },
        {
         "name": "DayNum",
         "rawType": "int64",
         "type": "integer"
        },
        {
         "name": "Team_TeamID",
         "rawType": "int64",
         "type": "integer"
        },
        {
         "name": "Team_Score",
         "rawType": "int64",
         "type": "integer"
        },
        {
         "name": "Opp_TeamID",
         "rawType": "int64",
         "type": "integer"
        },
        {
         "name": "Opp_Score",
         "rawType": "int64",
         "type": "integer"
        },
        {
         "name": "Team_Loc",
         "rawType": "object",
         "type": "string"
        },
        {
         "name": "NumOT",
         "rawType": "int64",
         "type": "integer"
        },
        {
         "name": "Team_FGM",
         "rawType": "int64",
         "type": "integer"
        },
        {
         "name": "Team_FGA",
         "rawType": "int64",
         "type": "integer"
        },
        {
         "name": "Team_FGM3",
         "rawType": "int64",
         "type": "integer"
        },
        {
         "name": "Team_FGA3",
         "rawType": "int64",
         "type": "integer"
        },
        {
         "name": "Team_FTM",
         "rawType": "int64",
         "type": "integer"
        },
        {
         "name": "Team_FTA",
         "rawType": "int64",
         "type": "integer"
        },
        {
         "name": "Team_OR",
         "rawType": "int64",
         "type": "integer"
        },
        {
         "name": "Team_DR",
         "rawType": "int64",
         "type": "integer"
        },
        {
         "name": "Team_Ast",
         "rawType": "int64",
         "type": "integer"
        },
        {
         "name": "Team_TO",
         "rawType": "int64",
         "type": "integer"
        },
        {
         "name": "Team_Stl",
         "rawType": "int64",
         "type": "integer"
        },
        {
         "name": "Team_Blk",
         "rawType": "int64",
         "type": "integer"
        },
        {
         "name": "Team_PF",
         "rawType": "int64",
         "type": "integer"
        },
        {
         "name": "Opp_FGM",
         "rawType": "int64",
         "type": "integer"
        },
        {
         "name": "Opp_FGA",
         "rawType": "int64",
         "type": "integer"
        },
        {
         "name": "Opp_FGM3",
         "rawType": "int64",
         "type": "integer"
        },
        {
         "name": "Opp_FGA3",
         "rawType": "int64",
         "type": "integer"
        },
        {
         "name": "Opp_FTM",
         "rawType": "int64",
         "type": "integer"
        },
        {
         "name": "Opp_FTA",
         "rawType": "int64",
         "type": "integer"
        },
        {
         "name": "Opp_OR",
         "rawType": "int64",
         "type": "integer"
        },
        {
         "name": "Opp_DR",
         "rawType": "int64",
         "type": "integer"
        },
        {
         "name": "Opp_Ast",
         "rawType": "int64",
         "type": "integer"
        },
        {
         "name": "Opp_TO",
         "rawType": "int64",
         "type": "integer"
        },
        {
         "name": "Opp_Stl",
         "rawType": "int64",
         "type": "integer"
        },
        {
         "name": "Opp_Blk",
         "rawType": "int64",
         "type": "integer"
        },
        {
         "name": "Opp_PF",
         "rawType": "int64",
         "type": "integer"
        },
        {
         "name": "Team_Tempo",
         "rawType": "float64",
         "type": "float"
        },
        {
         "name": "Opp_Tempo",
         "rawType": "float64",
         "type": "float"
        },
        {
         "name": "Team_eFG",
         "rawType": "float64",
         "type": "float"
        },
        {
         "name": "Opp_eFG",
         "rawType": "float64",
         "type": "float"
        },
        {
         "name": "Team_ORPerc",
         "rawType": "float64",
         "type": "float"
        },
        {
         "name": "Opp_ORPerc",
         "rawType": "float64",
         "type": "float"
        },
        {
         "name": "Team_TOPerc",
         "rawType": "float64",
         "type": "float"
        },
        {
         "name": "Opp_TOPerc",
         "rawType": "float64",
         "type": "float"
        },
        {
         "name": "Team_FTR",
         "rawType": "float64",
         "type": "float"
        },
        {
         "name": "Opp_FTR",
         "rawType": "float64",
         "type": "float"
        },
        {
         "name": "Team_uORTG",
         "rawType": "float64",
         "type": "float"
        },
        {
         "name": "Opp_uORTG",
         "rawType": "float64",
         "type": "float"
        },
        {
         "name": "Team_uDRTG",
         "rawType": "float64",
         "type": "float"
        },
        {
         "name": "Opp_uDRTG",
         "rawType": "float64",
         "type": "float"
        },
        {
         "name": "Team_uNetRtg",
         "rawType": "float64",
         "type": "float"
        },
        {
         "name": "Opp_uNetRtg",
         "rawType": "float64",
         "type": "float"
        },
        {
         "name": "TeamID_x",
         "rawType": "int64",
         "type": "integer"
        },
        {
         "name": "Team_Conf",
         "rawType": "object",
         "type": "string"
        },
        {
         "name": "TeamID_y",
         "rawType": "int64",
         "type": "integer"
        },
        {
         "name": "Opp_Conf",
         "rawType": "object",
         "type": "string"
        },
        {
         "name": "ConfGame",
         "rawType": "int32",
         "type": "integer"
        }
       ],
       "conversionMethod": "pd.DataFrame",
       "ref": "bf1631fa-f09e-4ddd-af54-093d80fc8be0",
       "rows": [
        [
         "0",
         "2003",
         "10",
         "1104",
         "68",
         "1328",
         "62",
         "N",
         "0",
         "27",
         "58",
         "3",
         "14",
         "11",
         "18",
         "14",
         "24",
         "13",
         "23",
         "7",
         "1",
         "22",
         "22",
         "53",
         "2",
         "10",
         "16",
         "22",
         "10",
         "22",
         "8",
         "18",
         "9",
         "2",
         "20",
         "75.55",
         "71.45",
         "0.49137931034482757",
         "0.4339622641509434",
         "0.3888888888888889",
         "0.29411764705882354",
         "30.443414956982135",
         "25.192442267319805",
         "0.3103448275862069",
         "0.41509433962264153",
         "90.0066181336863",
         "86.77396780965711",
         "86.77396780965711",
         "90.0066181336863",
         "3.232650324029194",
         "-3.232650324029194",
         "1104",
         "sec",
         "1328",
         "big_twelve",
         "0"
        ],
        [
         "1",
         "2003",
         "98",
         "1400",
         "67",
         "1328",
         "61",
         "H",
         "0",
         "25",
         "64",
         "5",
         "14",
         "12",
         "20",
         "18",
         "24",
         "10",
         "10",
         "5",
         "4",
         "16",
         "22",
         "52",
         "7",
         "14",
         "10",
         "15",
         "9",
         "25",
         "5",
         "14",
         "5",
         "3",
         "20",
         "65.5",
         "64.125",
         "0.4296875",
         "0.49038461538461536",
         "0.4186046511627907",
         "0.2727272727272727",
         "15.267175572519085",
         "21.832358674463936",
         "0.3125",
         "0.28846153846153844",
         "102.29007633587786",
         "95.12670565302143",
         "95.12670565302143",
         "102.29007633587786",
         "7.163370682856424",
         "-7.163370682856424",
         "1400",
         "big_twelve",
         "1328",
         "big_twelve",
         "1"
        ],
        [
         "2",
         "2003",
         "124",
         "1400",
         "76",
         "1328",
         "71",
         "A",
         "0",
         "27",
         "50",
         "6",
         "11",
         "16",
         "25",
         "9",
         "28",
         "13",
         "13",
         "5",
         "0",
         "21",
         "25",
         "60",
         "8",
         "21",
         "13",
         "23",
         "15",
         "19",
         "16",
         "9",
         "8",
         "6",
         "23",
         "65.875",
         "64.925",
         "0.6",
         "0.48333333333333334",
         "0.32142857142857145",
         "0.3488372093023256",
         "19.734345351043643",
         "13.862148633038121",
         "0.5",
         "0.38333333333333336",
         "115.37001897533207",
         "109.35695032730072",
         "109.35695032730072",
         "115.37001897533207",
         "6.01306864803135",
         "-6.01306864803135",
         "1400",
         "big_twelve",
         "1328",
         "big_twelve",
         "1"
        ],
        [
         "3",
         "2003",
         "111",
         "1242",
         "70",
         "1328",
         "77",
         "A",
         "0",
         "21",
         "61",
         "5",
         "14",
         "23",
         "33",
         "16",
         "27",
         "12",
         "12",
         "6",
         "3",
         "26",
         "25",
         "52",
         "9",
         "16",
         "18",
         "31",
         "8",
         "29",
         "9",
         "13",
         "6",
         "6",
         "26",
         "72.675",
         "71.725",
         "0.38524590163934425",
         "0.5673076923076923",
         "0.35555555555555557",
         "0.22857142857142856",
         "16.51186790505676",
         "18.12478215406065",
         "0.5409836065573771",
         "0.5961538461538461",
         "96.31922944616443",
         "107.35447891251309",
         "107.35447891251309",
         "96.31922944616443",
         "-11.03524946634866",
         "11.03524946634866",
         "1242",
         "big_twelve",
         "1328",
         "big_twelve",
         "1"
        ],
        [
         "4",
         "2003",
         "120",
         "1304",
         "51",
         "1328",
         "76",
         "A",
         "0",
         "21",
         "53",
         "1",
         "12",
         "8",
         "16",
         "10",
         "26",
         "7",
         "20",
         "5",
         "2",
         "17",
         "27",
         "62",
         "8",
         "19",
         "14",
         "17",
         "12",
         "28",
         "19",
         "12",
         "7",
         "7",
         "15",
         "70.6",
         "70.075",
         "0.4056603773584906",
         "0.5",
         "0.2631578947368421",
         "0.3157894736842105",
         "28.328611898016998",
         "17.12450945415626",
         "0.3018867924528302",
         "0.27419354838709675",
         "72.23796033994336",
         "108.45522654298965",
         "108.45522654298965",
         "72.23796033994336",
         "-36.21726620304629",
         "36.21726620304629",
         "1304",
         "big_twelve",
         "1328",
         "big_twelve",
         "1"
        ]
       ],
       "shape": {
        "columns": 55,
        "rows": 5
       }
      },
      "text/html": [
       "<div>\n",
       "<style scoped>\n",
       "    .dataframe tbody tr th:only-of-type {\n",
       "        vertical-align: middle;\n",
       "    }\n",
       "\n",
       "    .dataframe tbody tr th {\n",
       "        vertical-align: top;\n",
       "    }\n",
       "\n",
       "    .dataframe thead th {\n",
       "        text-align: right;\n",
       "    }\n",
       "</style>\n",
       "<table border=\"1\" class=\"dataframe\">\n",
       "  <thead>\n",
       "    <tr style=\"text-align: right;\">\n",
       "      <th></th>\n",
       "      <th>Season</th>\n",
       "      <th>DayNum</th>\n",
       "      <th>Team_TeamID</th>\n",
       "      <th>Team_Score</th>\n",
       "      <th>Opp_TeamID</th>\n",
       "      <th>Opp_Score</th>\n",
       "      <th>Team_Loc</th>\n",
       "      <th>NumOT</th>\n",
       "      <th>Team_FGM</th>\n",
       "      <th>Team_FGA</th>\n",
       "      <th>...</th>\n",
       "      <th>Opp_uORTG</th>\n",
       "      <th>Team_uDRTG</th>\n",
       "      <th>Opp_uDRTG</th>\n",
       "      <th>Team_uNetRtg</th>\n",
       "      <th>Opp_uNetRtg</th>\n",
       "      <th>TeamID_x</th>\n",
       "      <th>Team_Conf</th>\n",
       "      <th>TeamID_y</th>\n",
       "      <th>Opp_Conf</th>\n",
       "      <th>ConfGame</th>\n",
       "    </tr>\n",
       "  </thead>\n",
       "  <tbody>\n",
       "    <tr>\n",
       "      <th>0</th>\n",
       "      <td>2003</td>\n",
       "      <td>10</td>\n",
       "      <td>1104</td>\n",
       "      <td>68</td>\n",
       "      <td>1328</td>\n",
       "      <td>62</td>\n",
       "      <td>N</td>\n",
       "      <td>0</td>\n",
       "      <td>27</td>\n",
       "      <td>58</td>\n",
       "      <td>...</td>\n",
       "      <td>86.773968</td>\n",
       "      <td>86.773968</td>\n",
       "      <td>90.006618</td>\n",
       "      <td>3.232650</td>\n",
       "      <td>-3.232650</td>\n",
       "      <td>1104</td>\n",
       "      <td>sec</td>\n",
       "      <td>1328</td>\n",
       "      <td>big_twelve</td>\n",
       "      <td>0</td>\n",
       "    </tr>\n",
       "    <tr>\n",
       "      <th>1</th>\n",
       "      <td>2003</td>\n",
       "      <td>98</td>\n",
       "      <td>1400</td>\n",
       "      <td>67</td>\n",
       "      <td>1328</td>\n",
       "      <td>61</td>\n",
       "      <td>H</td>\n",
       "      <td>0</td>\n",
       "      <td>25</td>\n",
       "      <td>64</td>\n",
       "      <td>...</td>\n",
       "      <td>95.126706</td>\n",
       "      <td>95.126706</td>\n",
       "      <td>102.290076</td>\n",
       "      <td>7.163371</td>\n",
       "      <td>-7.163371</td>\n",
       "      <td>1400</td>\n",
       "      <td>big_twelve</td>\n",
       "      <td>1328</td>\n",
       "      <td>big_twelve</td>\n",
       "      <td>1</td>\n",
       "    </tr>\n",
       "    <tr>\n",
       "      <th>2</th>\n",
       "      <td>2003</td>\n",
       "      <td>124</td>\n",
       "      <td>1400</td>\n",
       "      <td>76</td>\n",
       "      <td>1328</td>\n",
       "      <td>71</td>\n",
       "      <td>A</td>\n",
       "      <td>0</td>\n",
       "      <td>27</td>\n",
       "      <td>50</td>\n",
       "      <td>...</td>\n",
       "      <td>109.356950</td>\n",
       "      <td>109.356950</td>\n",
       "      <td>115.370019</td>\n",
       "      <td>6.013069</td>\n",
       "      <td>-6.013069</td>\n",
       "      <td>1400</td>\n",
       "      <td>big_twelve</td>\n",
       "      <td>1328</td>\n",
       "      <td>big_twelve</td>\n",
       "      <td>1</td>\n",
       "    </tr>\n",
       "    <tr>\n",
       "      <th>3</th>\n",
       "      <td>2003</td>\n",
       "      <td>111</td>\n",
       "      <td>1242</td>\n",
       "      <td>70</td>\n",
       "      <td>1328</td>\n",
       "      <td>77</td>\n",
       "      <td>A</td>\n",
       "      <td>0</td>\n",
       "      <td>21</td>\n",
       "      <td>61</td>\n",
       "      <td>...</td>\n",
       "      <td>107.354479</td>\n",
       "      <td>107.354479</td>\n",
       "      <td>96.319229</td>\n",
       "      <td>-11.035249</td>\n",
       "      <td>11.035249</td>\n",
       "      <td>1242</td>\n",
       "      <td>big_twelve</td>\n",
       "      <td>1328</td>\n",
       "      <td>big_twelve</td>\n",
       "      <td>1</td>\n",
       "    </tr>\n",
       "    <tr>\n",
       "      <th>4</th>\n",
       "      <td>2003</td>\n",
       "      <td>120</td>\n",
       "      <td>1304</td>\n",
       "      <td>51</td>\n",
       "      <td>1328</td>\n",
       "      <td>76</td>\n",
       "      <td>A</td>\n",
       "      <td>0</td>\n",
       "      <td>21</td>\n",
       "      <td>53</td>\n",
       "      <td>...</td>\n",
       "      <td>108.455227</td>\n",
       "      <td>108.455227</td>\n",
       "      <td>72.237960</td>\n",
       "      <td>-36.217266</td>\n",
       "      <td>36.217266</td>\n",
       "      <td>1304</td>\n",
       "      <td>big_twelve</td>\n",
       "      <td>1328</td>\n",
       "      <td>big_twelve</td>\n",
       "      <td>1</td>\n",
       "    </tr>\n",
       "  </tbody>\n",
       "</table>\n",
       "<p>5 rows × 55 columns</p>\n",
       "</div>"
      ],
      "text/plain": [
       "   Season  DayNum  Team_TeamID  Team_Score  Opp_TeamID  Opp_Score Team_Loc  \\\n",
       "0    2003      10         1104          68        1328         62        N   \n",
       "1    2003      98         1400          67        1328         61        H   \n",
       "2    2003     124         1400          76        1328         71        A   \n",
       "3    2003     111         1242          70        1328         77        A   \n",
       "4    2003     120         1304          51        1328         76        A   \n",
       "\n",
       "   NumOT  Team_FGM  Team_FGA  ...   Opp_uORTG  Team_uDRTG   Opp_uDRTG  \\\n",
       "0      0        27        58  ...   86.773968   86.773968   90.006618   \n",
       "1      0        25        64  ...   95.126706   95.126706  102.290076   \n",
       "2      0        27        50  ...  109.356950  109.356950  115.370019   \n",
       "3      0        21        61  ...  107.354479  107.354479   96.319229   \n",
       "4      0        21        53  ...  108.455227  108.455227   72.237960   \n",
       "\n",
       "   Team_uNetRtg  Opp_uNetRtg  TeamID_x   Team_Conf  TeamID_y    Opp_Conf  \\\n",
       "0      3.232650    -3.232650      1104         sec      1328  big_twelve   \n",
       "1      7.163371    -7.163371      1400  big_twelve      1328  big_twelve   \n",
       "2      6.013069    -6.013069      1400  big_twelve      1328  big_twelve   \n",
       "3    -11.035249    11.035249      1242  big_twelve      1328  big_twelve   \n",
       "4    -36.217266    36.217266      1304  big_twelve      1328  big_twelve   \n",
       "\n",
       "   ConfGame  \n",
       "0         0  \n",
       "1         1  \n",
       "2         1  \n",
       "3         1  \n",
       "4         1  \n",
       "\n",
       "[5 rows x 55 columns]"
      ]
     },
     "execution_count": 8,
     "metadata": {},
     "output_type": "execute_result"
    }
   ],
   "source": [
    "# Merge conference names for conference bias later in the analysis\n",
    "MTeamStats = MTeamStats.merge(MConferences,left_on = [\"Season\",\"Team_TeamID\"],right_on = [\"Season\",\"TeamID\"]).rename(columns = {\"ConfAbbrev\": \"Team_Conf\"})\n",
    "MTeamStats = MTeamStats.merge(MConferences, left_on = [\"Season\",\"Opp_TeamID\"], right_on = [\"Season\",\"TeamID\"]).rename(columns = {\"ConfAbbrev\": \"Opp_Conf\"})\n",
    "MTeamStats[\"ConfGame\"] = (MTeamStats[\"Team_Conf\"] == MTeamStats[\"Opp_Conf\"]).astype(int)\n",
    "\n",
    "MTeamStats.head()"
   ]
  },
  {
   "cell_type": "code",
   "execution_count": 9,
   "metadata": {},
   "outputs": [],
   "source": [
    "# Add a result to see if a team won or not; this will be used for win percentage later\n",
    "MTeamStats[\"Result\"] = (MTeamStats[\"Team_Score\"] > MTeamStats[\"Opp_Score\"]).astype(int)"
   ]
  },
  {
   "cell_type": "markdown",
   "metadata": {},
   "source": [
    "Instead of looking at just net rating, we want to adjust based on the offensive and defensive ratings as well. We normalize the offense and defensive ratings in order to get an adjustment for later. We used a multiplicative model because we wanted there to be more separation between teams both within and between conferences."
   ]
  },
  {
   "cell_type": "code",
   "execution_count": 10,
   "metadata": {},
   "outputs": [],
   "source": [
    "# Select only numerical columns in the MTeamStats dataframe\n",
    "TeamStatsNumericCols = MTeamStats.select_dtypes(include = ['number']).columns.difference([\"Season\",\"Team_TeamID\",\"Opp_TeamID\"])\n",
    "\n",
    "# Use the numerical columns to then get the mean of all of the columns\n",
    "MTeamGroupedStats = MTeamStats.groupby([\"Season\",\"Team_TeamID\",\"Team_Conf\"])[TeamStatsNumericCols].mean().reset_index()\n",
    "\n",
    "# Group by conference to get conference adjustments\n",
    "MConfNetStats = MTeamStats.groupby([\"Season\",\"Team_Conf\"])[[\"Team_uORTG\",\"Team_uDRTG\",\"Team_uNetRtg\"]].mean().reset_index()\n",
    "MConfNetStats[\"Team_uORTGweight\"] = MConfNetStats[\"Team_uORTG\"] / MConfNetStats[\"Team_uORTG\"].mean()\n",
    "MConfNetStats[\"Team_uDRTGweight\"] = MConfNetStats[\"Team_uDRTG\"] / MConfNetStats[\"Team_uDRTG\"].mean()\n",
    "#MConfNetStats[\"Team_uNetweight\"] = (MConfNetStats[\"Team_uORTG\"] - MConfNetStats[\"Team_uDRTG\"]) / (MConfNetStats[\"Team_uORTG\"] - MConfNetStats[\"Team_uDRTG\"]).mean()"
   ]
  },
  {
   "cell_type": "code",
   "execution_count": 11,
   "metadata": {},
   "outputs": [],
   "source": [
    "# Merging the conference weights back into the original dataframe\n",
    "MTeamGroupedStats = MTeamGroupedStats.merge(MConfNetStats[[\"Season\",\"Team_Conf\",\"Team_uORTGweight\",\"Team_uDRTGweight\"]],on = [\"Season\",\"Team_Conf\"])"
   ]
  },
  {
   "cell_type": "code",
   "execution_count": 12,
   "metadata": {},
   "outputs": [],
   "source": [
    "# Creating the conference-adjusted team weights\n",
    "MTeamGroupedStats[\"ConfAdjORTG\"] = MTeamGroupedStats[\"Team_uORTG\"] * MTeamGroupedStats[\"Team_uORTGweight\"]\n",
    "MTeamGroupedStats[\"ConfAdjDRTG\"] = MTeamGroupedStats[\"Team_uDRTG\"] * MTeamGroupedStats[\"Team_uDRTGweight\"]\n",
    "MTeamGroupedStats[\"ConfAdjustment\"] = (MTeamGroupedStats[\"ConfAdjORTG\"] - MTeamGroupedStats[\"ConfAdjDRTG\"])\n",
    "MTeamGroupedStats[\"ConfAdjNetRtg\"] = MTeamGroupedStats[\"Team_uNetRtg\"] + MTeamGroupedStats[\"ConfAdjustment\"]"
   ]
  },
  {
   "cell_type": "code",
   "execution_count": 13,
   "metadata": {},
   "outputs": [
    {
     "data": {
      "text/plain": [
       "Team_TeamID\n",
       "1101    -6.104696\n",
       "1102     1.587369\n",
       "1103     7.105103\n",
       "1104    13.272194\n",
       "1105   -17.201476\n",
       "          ...    \n",
       "1476   -14.688076\n",
       "1477   -16.226114\n",
       "1478   -13.856370\n",
       "1479   -15.176756\n",
       "1480   -20.219594\n",
       "Name: ConfAdjustment, Length: 371, dtype: float64"
      ]
     },
     "execution_count": 13,
     "metadata": {},
     "output_type": "execute_result"
    }
   ],
   "source": [
    "MTeamGroupedStats.groupby([\"Team_TeamID\"])[\"ConfAdjustment\"].mean()"
   ]
  },
  {
   "cell_type": "code",
   "execution_count": 14,
   "metadata": {},
   "outputs": [],
   "source": [
    "# Lets add the conference bias onto all of the box scores now\n",
    "MTeamStats = MTeamStats.merge(MTeamGroupedStats.loc[:,[\"Season\",\"Team_TeamID\",\"ConfAdjustment\"]], on = [\"Season\",\"Team_TeamID\"])"
   ]
  },
  {
   "cell_type": "code",
   "execution_count": 15,
   "metadata": {},
   "outputs": [
    {
     "data": {
      "application/vnd.microsoft.datawrangler.viewer.v0+json": {
       "columns": [
        {
         "name": "index",
         "rawType": "int64",
         "type": "integer"
        },
        {
         "name": "Season",
         "rawType": "int64",
         "type": "integer"
        },
        {
         "name": "DayNum",
         "rawType": "int64",
         "type": "integer"
        },
        {
         "name": "Team_TeamID",
         "rawType": "int64",
         "type": "integer"
        },
        {
         "name": "Team_Score",
         "rawType": "int64",
         "type": "integer"
        },
        {
         "name": "Opp_TeamID",
         "rawType": "int64",
         "type": "integer"
        },
        {
         "name": "Opp_Score",
         "rawType": "int64",
         "type": "integer"
        },
        {
         "name": "Team_Loc",
         "rawType": "object",
         "type": "string"
        },
        {
         "name": "NumOT",
         "rawType": "int64",
         "type": "integer"
        },
        {
         "name": "Team_FGM",
         "rawType": "int64",
         "type": "integer"
        },
        {
         "name": "Team_FGA",
         "rawType": "int64",
         "type": "integer"
        },
        {
         "name": "Team_FGM3",
         "rawType": "int64",
         "type": "integer"
        },
        {
         "name": "Team_FGA3",
         "rawType": "int64",
         "type": "integer"
        },
        {
         "name": "Team_FTM",
         "rawType": "int64",
         "type": "integer"
        },
        {
         "name": "Team_FTA",
         "rawType": "int64",
         "type": "integer"
        },
        {
         "name": "Team_OR",
         "rawType": "int64",
         "type": "integer"
        },
        {
         "name": "Team_DR",
         "rawType": "int64",
         "type": "integer"
        },
        {
         "name": "Team_Ast",
         "rawType": "int64",
         "type": "integer"
        },
        {
         "name": "Team_TO",
         "rawType": "int64",
         "type": "integer"
        },
        {
         "name": "Team_Stl",
         "rawType": "int64",
         "type": "integer"
        },
        {
         "name": "Team_Blk",
         "rawType": "int64",
         "type": "integer"
        },
        {
         "name": "Team_PF",
         "rawType": "int64",
         "type": "integer"
        },
        {
         "name": "Opp_FGM",
         "rawType": "int64",
         "type": "integer"
        },
        {
         "name": "Opp_FGA",
         "rawType": "int64",
         "type": "integer"
        },
        {
         "name": "Opp_FGM3",
         "rawType": "int64",
         "type": "integer"
        },
        {
         "name": "Opp_FGA3",
         "rawType": "int64",
         "type": "integer"
        },
        {
         "name": "Opp_FTM",
         "rawType": "int64",
         "type": "integer"
        },
        {
         "name": "Opp_FTA",
         "rawType": "int64",
         "type": "integer"
        },
        {
         "name": "Opp_OR",
         "rawType": "int64",
         "type": "integer"
        },
        {
         "name": "Opp_DR",
         "rawType": "int64",
         "type": "integer"
        },
        {
         "name": "Opp_Ast",
         "rawType": "int64",
         "type": "integer"
        },
        {
         "name": "Opp_TO",
         "rawType": "int64",
         "type": "integer"
        },
        {
         "name": "Opp_Stl",
         "rawType": "int64",
         "type": "integer"
        },
        {
         "name": "Opp_Blk",
         "rawType": "int64",
         "type": "integer"
        },
        {
         "name": "Opp_PF",
         "rawType": "int64",
         "type": "integer"
        },
        {
         "name": "Team_Tempo",
         "rawType": "float64",
         "type": "float"
        },
        {
         "name": "Opp_Tempo",
         "rawType": "float64",
         "type": "float"
        },
        {
         "name": "Team_eFG",
         "rawType": "float64",
         "type": "float"
        },
        {
         "name": "Opp_eFG",
         "rawType": "float64",
         "type": "float"
        },
        {
         "name": "Team_ORPerc",
         "rawType": "float64",
         "type": "float"
        },
        {
         "name": "Opp_ORPerc",
         "rawType": "float64",
         "type": "float"
        },
        {
         "name": "Team_TOPerc",
         "rawType": "float64",
         "type": "float"
        },
        {
         "name": "Opp_TOPerc",
         "rawType": "float64",
         "type": "float"
        },
        {
         "name": "Team_FTR",
         "rawType": "float64",
         "type": "float"
        },
        {
         "name": "Opp_FTR",
         "rawType": "float64",
         "type": "float"
        },
        {
         "name": "Team_uORTG",
         "rawType": "float64",
         "type": "float"
        },
        {
         "name": "Opp_uORTG",
         "rawType": "float64",
         "type": "float"
        },
        {
         "name": "Team_uDRTG",
         "rawType": "float64",
         "type": "float"
        },
        {
         "name": "Opp_uDRTG",
         "rawType": "float64",
         "type": "float"
        },
        {
         "name": "Team_uNetRtg",
         "rawType": "float64",
         "type": "float"
        },
        {
         "name": "Opp_uNetRtg",
         "rawType": "float64",
         "type": "float"
        },
        {
         "name": "TeamID_x",
         "rawType": "int64",
         "type": "integer"
        },
        {
         "name": "Team_Conf",
         "rawType": "object",
         "type": "string"
        },
        {
         "name": "TeamID_y",
         "rawType": "int64",
         "type": "integer"
        },
        {
         "name": "Opp_Conf",
         "rawType": "object",
         "type": "string"
        },
        {
         "name": "ConfGame",
         "rawType": "int32",
         "type": "integer"
        },
        {
         "name": "Result",
         "rawType": "int32",
         "type": "integer"
        },
        {
         "name": "ConfAdjustment",
         "rawType": "float64",
         "type": "float"
        },
        {
         "name": "ConfAdjNetRtg",
         "rawType": "float64",
         "type": "float"
        }
       ],
       "conversionMethod": "pd.DataFrame",
       "ref": "44cac9c6-18b6-44a9-a8b0-60d62a2f90e3",
       "rows": [
        [
         "0",
         "2003",
         "10",
         "1104",
         "68",
         "1328",
         "62",
         "N",
         "0",
         "27",
         "58",
         "3",
         "14",
         "11",
         "18",
         "14",
         "24",
         "13",
         "23",
         "7",
         "1",
         "22",
         "22",
         "53",
         "2",
         "10",
         "16",
         "22",
         "10",
         "22",
         "8",
         "18",
         "9",
         "2",
         "20",
         "75.55",
         "71.45",
         "0.49137931034482757",
         "0.4339622641509434",
         "0.3888888888888889",
         "0.29411764705882354",
         "30.443414956982135",
         "25.192442267319805",
         "0.3103448275862069",
         "0.41509433962264153",
         "90.0066181336863",
         "86.77396780965711",
         "86.77396780965711",
         "90.0066181336863",
         "3.232650324029194",
         "-3.232650324029194",
         "1104",
         "sec",
         "1328",
         "big_twelve",
         "0",
         "1",
         "12.503795357735825",
         "15.73644568176502"
        ],
        [
         "1",
         "2003",
         "18",
         "1104",
         "82",
         "1106",
         "56",
         "H",
         "0",
         "24",
         "49",
         "10",
         "20",
         "24",
         "34",
         "12",
         "26",
         "13",
         "13",
         "7",
         "3",
         "14",
         "19",
         "55",
         "8",
         "21",
         "10",
         "12",
         "11",
         "18",
         "8",
         "15",
         "6",
         "2",
         "22",
         "66.15",
         "64.7",
         "0.5918367346938775",
         "0.41818181818181815",
         "0.4",
         "0.2972972972972973",
         "19.65230536659108",
         "23.183925811437405",
         "0.6938775510204082",
         "0.21818181818181817",
         "123.96069538926682",
         "86.5533230293663",
         "86.5533230293663",
         "123.96069538926682",
         "37.40737235990052",
         "-37.40737235990052",
         "1104",
         "sec",
         "1106",
         "swac",
         "0",
         "1",
         "12.503795357735825",
         "49.911167717636346"
        ],
        [
         "2",
         "2003",
         "21",
         "1104",
         "80",
         "1292",
         "65",
         "H",
         "0",
         "27",
         "59",
         "8",
         "24",
         "18",
         "23",
         "10",
         "24",
         "16",
         "13",
         "10",
         "6",
         "13",
         "25",
         "66",
         "7",
         "23",
         "8",
         "10",
         "17",
         "25",
         "11",
         "21",
         "6",
         "2",
         "20",
         "72.925",
         "74.75",
         "0.5254237288135594",
         "0.4318181818181818",
         "0.2857142857142857",
         "0.4146341463414634",
         "17.826534110387385",
         "28.093645484949832",
         "0.3898305084745763",
         "0.15151515151515152",
         "109.70174837161468",
         "86.95652173913044",
         "86.95652173913044",
         "109.70174837161468",
         "22.745226632484247",
         "-22.745226632484247",
         "1104",
         "sec",
         "1292",
         "sun_belt",
         "0",
         "1",
         "12.503795357735825",
         "35.24902199022007"
        ],
        [
         "3",
         "2003",
         "25",
         "1104",
         "54",
         "1326",
         "48",
         "N",
         "0",
         "16",
         "57",
         "7",
         "25",
         "15",
         "21",
         "17",
         "26",
         "12",
         "13",
         "6",
         "6",
         "21",
         "16",
         "50",
         "2",
         "6",
         "14",
         "22",
         "10",
         "27",
         "12",
         "13",
         "3",
         "5",
         "19",
         "62.975",
         "63.45",
         "0.34210526315789475",
         "0.34",
         "0.38636363636363635",
         "0.2777777777777778",
         "20.643112346169115",
         "20.48857368006304",
         "0.3684210526315789",
         "0.44",
         "85.74831282254863",
         "75.65011820330969",
         "75.65011820330969",
         "85.74831282254863",
         "10.098194619238939",
         "-10.098194619238939",
         "1104",
         "sec",
         "1326",
         "big_ten",
         "0",
         "1",
         "12.503795357735825",
         "22.601989976974764"
        ],
        [
         "4",
         "2003",
         "29",
         "1104",
         "89",
         "1422",
         "61",
         "H",
         "0",
         "34",
         "70",
         "9",
         "22",
         "12",
         "15",
         "16",
         "30",
         "16",
         "10",
         "10",
         "4",
         "17",
         "23",
         "61",
         "7",
         "18",
         "8",
         "14",
         "11",
         "21",
         "11",
         "13",
         "2",
         "3",
         "15",
         "71.125",
         "69.65",
         "0.55",
         "0.4344262295081967",
         "0.43243243243243246",
         "0.2682926829268293",
         "14.059753954305801",
         "18.66475233309404",
         "0.21428571428571427",
         "0.22950819672131148",
         "125.13181019332163",
         "87.58076094759511",
         "87.58076094759511",
         "125.13181019332163",
         "37.55104924572652",
         "-37.55104924572652",
         "1104",
         "sec",
         "1422",
         "southern",
         "0",
         "1",
         "12.503795357735825",
         "50.05484460346234"
        ]
       ],
       "shape": {
        "columns": 58,
        "rows": 5
       }
      },
      "text/html": [
       "<div>\n",
       "<style scoped>\n",
       "    .dataframe tbody tr th:only-of-type {\n",
       "        vertical-align: middle;\n",
       "    }\n",
       "\n",
       "    .dataframe tbody tr th {\n",
       "        vertical-align: top;\n",
       "    }\n",
       "\n",
       "    .dataframe thead th {\n",
       "        text-align: right;\n",
       "    }\n",
       "</style>\n",
       "<table border=\"1\" class=\"dataframe\">\n",
       "  <thead>\n",
       "    <tr style=\"text-align: right;\">\n",
       "      <th></th>\n",
       "      <th>Season</th>\n",
       "      <th>DayNum</th>\n",
       "      <th>Team_TeamID</th>\n",
       "      <th>Team_Score</th>\n",
       "      <th>Opp_TeamID</th>\n",
       "      <th>Opp_Score</th>\n",
       "      <th>Team_Loc</th>\n",
       "      <th>NumOT</th>\n",
       "      <th>Team_FGM</th>\n",
       "      <th>Team_FGA</th>\n",
       "      <th>...</th>\n",
       "      <th>Team_uNetRtg</th>\n",
       "      <th>Opp_uNetRtg</th>\n",
       "      <th>TeamID_x</th>\n",
       "      <th>Team_Conf</th>\n",
       "      <th>TeamID_y</th>\n",
       "      <th>Opp_Conf</th>\n",
       "      <th>ConfGame</th>\n",
       "      <th>Result</th>\n",
       "      <th>ConfAdjustment</th>\n",
       "      <th>ConfAdjNetRtg</th>\n",
       "    </tr>\n",
       "  </thead>\n",
       "  <tbody>\n",
       "    <tr>\n",
       "      <th>0</th>\n",
       "      <td>2003</td>\n",
       "      <td>10</td>\n",
       "      <td>1104</td>\n",
       "      <td>68</td>\n",
       "      <td>1328</td>\n",
       "      <td>62</td>\n",
       "      <td>N</td>\n",
       "      <td>0</td>\n",
       "      <td>27</td>\n",
       "      <td>58</td>\n",
       "      <td>...</td>\n",
       "      <td>3.232650</td>\n",
       "      <td>-3.232650</td>\n",
       "      <td>1104</td>\n",
       "      <td>sec</td>\n",
       "      <td>1328</td>\n",
       "      <td>big_twelve</td>\n",
       "      <td>0</td>\n",
       "      <td>1</td>\n",
       "      <td>12.503795</td>\n",
       "      <td>15.736446</td>\n",
       "    </tr>\n",
       "    <tr>\n",
       "      <th>1</th>\n",
       "      <td>2003</td>\n",
       "      <td>18</td>\n",
       "      <td>1104</td>\n",
       "      <td>82</td>\n",
       "      <td>1106</td>\n",
       "      <td>56</td>\n",
       "      <td>H</td>\n",
       "      <td>0</td>\n",
       "      <td>24</td>\n",
       "      <td>49</td>\n",
       "      <td>...</td>\n",
       "      <td>37.407372</td>\n",
       "      <td>-37.407372</td>\n",
       "      <td>1104</td>\n",
       "      <td>sec</td>\n",
       "      <td>1106</td>\n",
       "      <td>swac</td>\n",
       "      <td>0</td>\n",
       "      <td>1</td>\n",
       "      <td>12.503795</td>\n",
       "      <td>49.911168</td>\n",
       "    </tr>\n",
       "    <tr>\n",
       "      <th>2</th>\n",
       "      <td>2003</td>\n",
       "      <td>21</td>\n",
       "      <td>1104</td>\n",
       "      <td>80</td>\n",
       "      <td>1292</td>\n",
       "      <td>65</td>\n",
       "      <td>H</td>\n",
       "      <td>0</td>\n",
       "      <td>27</td>\n",
       "      <td>59</td>\n",
       "      <td>...</td>\n",
       "      <td>22.745227</td>\n",
       "      <td>-22.745227</td>\n",
       "      <td>1104</td>\n",
       "      <td>sec</td>\n",
       "      <td>1292</td>\n",
       "      <td>sun_belt</td>\n",
       "      <td>0</td>\n",
       "      <td>1</td>\n",
       "      <td>12.503795</td>\n",
       "      <td>35.249022</td>\n",
       "    </tr>\n",
       "    <tr>\n",
       "      <th>3</th>\n",
       "      <td>2003</td>\n",
       "      <td>25</td>\n",
       "      <td>1104</td>\n",
       "      <td>54</td>\n",
       "      <td>1326</td>\n",
       "      <td>48</td>\n",
       "      <td>N</td>\n",
       "      <td>0</td>\n",
       "      <td>16</td>\n",
       "      <td>57</td>\n",
       "      <td>...</td>\n",
       "      <td>10.098195</td>\n",
       "      <td>-10.098195</td>\n",
       "      <td>1104</td>\n",
       "      <td>sec</td>\n",
       "      <td>1326</td>\n",
       "      <td>big_ten</td>\n",
       "      <td>0</td>\n",
       "      <td>1</td>\n",
       "      <td>12.503795</td>\n",
       "      <td>22.601990</td>\n",
       "    </tr>\n",
       "    <tr>\n",
       "      <th>4</th>\n",
       "      <td>2003</td>\n",
       "      <td>29</td>\n",
       "      <td>1104</td>\n",
       "      <td>89</td>\n",
       "      <td>1422</td>\n",
       "      <td>61</td>\n",
       "      <td>H</td>\n",
       "      <td>0</td>\n",
       "      <td>34</td>\n",
       "      <td>70</td>\n",
       "      <td>...</td>\n",
       "      <td>37.551049</td>\n",
       "      <td>-37.551049</td>\n",
       "      <td>1104</td>\n",
       "      <td>sec</td>\n",
       "      <td>1422</td>\n",
       "      <td>southern</td>\n",
       "      <td>0</td>\n",
       "      <td>1</td>\n",
       "      <td>12.503795</td>\n",
       "      <td>50.054845</td>\n",
       "    </tr>\n",
       "  </tbody>\n",
       "</table>\n",
       "<p>5 rows × 58 columns</p>\n",
       "</div>"
      ],
      "text/plain": [
       "   Season  DayNum  Team_TeamID  Team_Score  Opp_TeamID  Opp_Score Team_Loc  \\\n",
       "0    2003      10         1104          68        1328         62        N   \n",
       "1    2003      18         1104          82        1106         56        H   \n",
       "2    2003      21         1104          80        1292         65        H   \n",
       "3    2003      25         1104          54        1326         48        N   \n",
       "4    2003      29         1104          89        1422         61        H   \n",
       "\n",
       "   NumOT  Team_FGM  Team_FGA  ...  Team_uNetRtg  Opp_uNetRtg  TeamID_x  \\\n",
       "0      0        27        58  ...      3.232650    -3.232650      1104   \n",
       "1      0        24        49  ...     37.407372   -37.407372      1104   \n",
       "2      0        27        59  ...     22.745227   -22.745227      1104   \n",
       "3      0        16        57  ...     10.098195   -10.098195      1104   \n",
       "4      0        34        70  ...     37.551049   -37.551049      1104   \n",
       "\n",
       "   Team_Conf  TeamID_y    Opp_Conf  ConfGame  Result  ConfAdjustment  \\\n",
       "0        sec      1328  big_twelve         0       1       12.503795   \n",
       "1        sec      1106        swac         0       1       12.503795   \n",
       "2        sec      1292    sun_belt         0       1       12.503795   \n",
       "3        sec      1326     big_ten         0       1       12.503795   \n",
       "4        sec      1422    southern         0       1       12.503795   \n",
       "\n",
       "   ConfAdjNetRtg  \n",
       "0      15.736446  \n",
       "1      49.911168  \n",
       "2      35.249022  \n",
       "3      22.601990  \n",
       "4      50.054845  \n",
       "\n",
       "[5 rows x 58 columns]"
      ]
     },
     "execution_count": 15,
     "metadata": {},
     "output_type": "execute_result"
    }
   ],
   "source": [
    "# The new adjusted net rating takes the conference adjustment and adds it to the \n",
    "MTeamStats[\"ConfAdjNetRtg\"] = MTeamStats[\"Team_uNetRtg\"] + MTeamStats[\"ConfAdjustment\"]\n",
    "MTeamStats.head()"
   ]
  },
  {
   "cell_type": "markdown",
   "metadata": {},
   "source": [
    "The Net Rating is good for regular season predictions, but for the tournament every team is on a much closer scale. Adding a seeding bias will help increase the separation."
   ]
  },
  {
   "cell_type": "code",
   "execution_count": 16,
   "metadata": {},
   "outputs": [],
   "source": [
    "MCompSeedStats = (MCompTournStats[MCompTournStats[\"Season\"] > 2002].merge(MSeeds, \n",
    "                                                                          left_on = [\"Season\",\"WTeamID\"], \n",
    "                                                                          right_on = [\"Season\",\"TeamID\"])\n",
    "                       .drop([\"TeamID\"], axis = 1)\n",
    "                       .rename(columns = {\"Seed\":\"WSeed\"})\n",
    "                       .merge(MSeeds, \n",
    "                              left_on = [\"Season\",\"LTeamID\"], \n",
    "                              right_on = [\"Season\",\"TeamID\"])\n",
    "                       .drop([\"TeamID\"], axis = 1)\n",
    "                       .rename(columns = {\"Seed\":\"LSeed\"})\n",
    "                       .merge(MTeamGroupedStats.loc[:,[\"Season\",\"Team_TeamID\",\"ConfAdjNetRtg\"]],\n",
    "                              left_on = [\"Season\",\"WTeamID\"],\n",
    "                              right_on = [\"Season\",\"Team_TeamID\"])\n",
    "                       .drop([\"Team_TeamID\"], axis = 1)\n",
    "                       .rename(columns = {\"ConfAdjNetRtg\": \"WNetRtg\"})\n",
    "                       .merge(MTeamGroupedStats.loc[:,[\"Season\",\"Team_TeamID\",\"ConfAdjNetRtg\"]],\n",
    "                              left_on = [\"Season\",\"LTeamID\"],\n",
    "                              right_on = [\"Season\",\"Team_TeamID\"])\n",
    "                       .drop([\"Team_TeamID\"], axis = 1)\n",
    "                       .rename(columns = {\"ConfAdjNetRtg\": \"LNetRtg\"}))"
   ]
  },
  {
   "cell_type": "code",
   "execution_count": 17,
   "metadata": {},
   "outputs": [],
   "source": [
    "def remove_letters(input_string):\n",
    "  return re.sub(r\"[a-zA-Z]\", \"\", input_string)"
   ]
  },
  {
   "cell_type": "code",
   "execution_count": 18,
   "metadata": {},
   "outputs": [
    {
     "data": {
      "application/vnd.microsoft.datawrangler.viewer.v0+json": {
       "columns": [
        {
         "name": "index",
         "rawType": "int64",
         "type": "integer"
        },
        {
         "name": "Season",
         "rawType": "int64",
         "type": "integer"
        },
        {
         "name": "DayNum",
         "rawType": "int64",
         "type": "integer"
        },
        {
         "name": "Team_TeamID",
         "rawType": "int64",
         "type": "integer"
        },
        {
         "name": "Team_Score",
         "rawType": "int64",
         "type": "integer"
        },
        {
         "name": "Opp_TeamID",
         "rawType": "int64",
         "type": "integer"
        },
        {
         "name": "Opp_Score",
         "rawType": "int64",
         "type": "integer"
        },
        {
         "name": "Team_Loc",
         "rawType": "object",
         "type": "string"
        },
        {
         "name": "NumOT",
         "rawType": "int64",
         "type": "integer"
        },
        {
         "name": "Team_Seed",
         "rawType": "object",
         "type": "string"
        },
        {
         "name": "Opp_Seed",
         "rawType": "object",
         "type": "string"
        },
        {
         "name": "Team_NetRtg",
         "rawType": "float64",
         "type": "float"
        },
        {
         "name": "Opp_NetRtg",
         "rawType": "float64",
         "type": "float"
        },
        {
         "name": "Team_SeedNum",
         "rawType": "int32",
         "type": "integer"
        },
        {
         "name": "Opp_SeedNum",
         "rawType": "int32",
         "type": "integer"
        },
        {
         "name": "Result",
         "rawType": "int32",
         "type": "integer"
        }
       ],
       "conversionMethod": "pd.DataFrame",
       "ref": "bf7bce60-c780-44c7-b687-f6ce7feab86d",
       "rows": [
        [
         "0",
         "2003",
         "134",
         "1421",
         "92",
         "1411",
         "84",
         "N",
         "1",
         "X16b",
         "X16a",
         "-25.40480319474051",
         "2.1010636206955513",
         "16",
         "16",
         "1"
        ],
        [
         "1",
         "2003",
         "136",
         "1112",
         "80",
         "1436",
         "51",
         "N",
         "0",
         "Z01",
         "Z16",
         "41.30987241446122",
         "11.985254571432751",
         "1",
         "16",
         "1"
        ],
        [
         "2",
         "2003",
         "138",
         "1112",
         "96",
         "1211",
         "95",
         "N",
         "2",
         "Z01",
         "Z09",
         "41.30987241446122",
         "26.9185409484343",
         "1",
         "9",
         "1"
        ],
        [
         "3",
         "2003",
         "143",
         "1112",
         "88",
         "1323",
         "71",
         "N",
         "0",
         "Z01",
         "Z05",
         "41.30987241446122",
         "28.4238934590591",
         "1",
         "5",
         "1"
        ],
        [
         "4",
         "2003",
         "136",
         "1113",
         "84",
         "1272",
         "71",
         "N",
         "0",
         "Z10",
         "Z07",
         "24.698474591479574",
         "27.3785084428024",
         "10",
         "7",
         "1"
        ]
       ],
       "shape": {
        "columns": 15,
        "rows": 5
       }
      },
      "text/html": [
       "<div>\n",
       "<style scoped>\n",
       "    .dataframe tbody tr th:only-of-type {\n",
       "        vertical-align: middle;\n",
       "    }\n",
       "\n",
       "    .dataframe tbody tr th {\n",
       "        vertical-align: top;\n",
       "    }\n",
       "\n",
       "    .dataframe thead th {\n",
       "        text-align: right;\n",
       "    }\n",
       "</style>\n",
       "<table border=\"1\" class=\"dataframe\">\n",
       "  <thead>\n",
       "    <tr style=\"text-align: right;\">\n",
       "      <th></th>\n",
       "      <th>Season</th>\n",
       "      <th>DayNum</th>\n",
       "      <th>Team_TeamID</th>\n",
       "      <th>Team_Score</th>\n",
       "      <th>Opp_TeamID</th>\n",
       "      <th>Opp_Score</th>\n",
       "      <th>Team_Loc</th>\n",
       "      <th>NumOT</th>\n",
       "      <th>Team_Seed</th>\n",
       "      <th>Opp_Seed</th>\n",
       "      <th>Team_NetRtg</th>\n",
       "      <th>Opp_NetRtg</th>\n",
       "      <th>Team_SeedNum</th>\n",
       "      <th>Opp_SeedNum</th>\n",
       "      <th>Result</th>\n",
       "    </tr>\n",
       "  </thead>\n",
       "  <tbody>\n",
       "    <tr>\n",
       "      <th>0</th>\n",
       "      <td>2003</td>\n",
       "      <td>134</td>\n",
       "      <td>1421</td>\n",
       "      <td>92</td>\n",
       "      <td>1411</td>\n",
       "      <td>84</td>\n",
       "      <td>N</td>\n",
       "      <td>1</td>\n",
       "      <td>X16b</td>\n",
       "      <td>X16a</td>\n",
       "      <td>-25.404803</td>\n",
       "      <td>2.101064</td>\n",
       "      <td>16</td>\n",
       "      <td>16</td>\n",
       "      <td>1</td>\n",
       "    </tr>\n",
       "    <tr>\n",
       "      <th>1</th>\n",
       "      <td>2003</td>\n",
       "      <td>136</td>\n",
       "      <td>1112</td>\n",
       "      <td>80</td>\n",
       "      <td>1436</td>\n",
       "      <td>51</td>\n",
       "      <td>N</td>\n",
       "      <td>0</td>\n",
       "      <td>Z01</td>\n",
       "      <td>Z16</td>\n",
       "      <td>41.309872</td>\n",
       "      <td>11.985255</td>\n",
       "      <td>1</td>\n",
       "      <td>16</td>\n",
       "      <td>1</td>\n",
       "    </tr>\n",
       "    <tr>\n",
       "      <th>2</th>\n",
       "      <td>2003</td>\n",
       "      <td>138</td>\n",
       "      <td>1112</td>\n",
       "      <td>96</td>\n",
       "      <td>1211</td>\n",
       "      <td>95</td>\n",
       "      <td>N</td>\n",
       "      <td>2</td>\n",
       "      <td>Z01</td>\n",
       "      <td>Z09</td>\n",
       "      <td>41.309872</td>\n",
       "      <td>26.918541</td>\n",
       "      <td>1</td>\n",
       "      <td>9</td>\n",
       "      <td>1</td>\n",
       "    </tr>\n",
       "    <tr>\n",
       "      <th>3</th>\n",
       "      <td>2003</td>\n",
       "      <td>143</td>\n",
       "      <td>1112</td>\n",
       "      <td>88</td>\n",
       "      <td>1323</td>\n",
       "      <td>71</td>\n",
       "      <td>N</td>\n",
       "      <td>0</td>\n",
       "      <td>Z01</td>\n",
       "      <td>Z05</td>\n",
       "      <td>41.309872</td>\n",
       "      <td>28.423893</td>\n",
       "      <td>1</td>\n",
       "      <td>5</td>\n",
       "      <td>1</td>\n",
       "    </tr>\n",
       "    <tr>\n",
       "      <th>4</th>\n",
       "      <td>2003</td>\n",
       "      <td>136</td>\n",
       "      <td>1113</td>\n",
       "      <td>84</td>\n",
       "      <td>1272</td>\n",
       "      <td>71</td>\n",
       "      <td>N</td>\n",
       "      <td>0</td>\n",
       "      <td>Z10</td>\n",
       "      <td>Z07</td>\n",
       "      <td>24.698475</td>\n",
       "      <td>27.378508</td>\n",
       "      <td>10</td>\n",
       "      <td>7</td>\n",
       "      <td>1</td>\n",
       "    </tr>\n",
       "  </tbody>\n",
       "</table>\n",
       "</div>"
      ],
      "text/plain": [
       "   Season  DayNum  Team_TeamID  Team_Score  Opp_TeamID  Opp_Score Team_Loc  \\\n",
       "0    2003     134         1421          92        1411         84        N   \n",
       "1    2003     136         1112          80        1436         51        N   \n",
       "2    2003     138         1112          96        1211         95        N   \n",
       "3    2003     143         1112          88        1323         71        N   \n",
       "4    2003     136         1113          84        1272         71        N   \n",
       "\n",
       "   NumOT Team_Seed Opp_Seed  Team_NetRtg  Opp_NetRtg  Team_SeedNum  \\\n",
       "0      1      X16b     X16a   -25.404803    2.101064            16   \n",
       "1      0       Z01      Z16    41.309872   11.985255             1   \n",
       "2      2       Z01      Z09    41.309872   26.918541             1   \n",
       "3      0       Z01      Z05    41.309872   28.423893             1   \n",
       "4      0       Z10      Z07    24.698475   27.378508            10   \n",
       "\n",
       "   Opp_SeedNum  Result  \n",
       "0           16       1  \n",
       "1           16       1  \n",
       "2            9       1  \n",
       "3            5       1  \n",
       "4            7       1  "
      ]
     },
     "execution_count": 18,
     "metadata": {},
     "output_type": "execute_result"
    }
   ],
   "source": [
    "# Creating wins splits for the seeds both with the region and without the region\n",
    "MCompSeedStats[\"WSeedNum\"] = [remove_letters(x) for x in MCompSeedStats[\"WSeed\"]]\n",
    "MCompSeedStats[\"LSeedNum\"] = [remove_letters(x) for x in MCompSeedStats[\"LSeed\"]]\n",
    "MCompSeedStats[\"WSeedNum\"] = MCompSeedStats[\"WSeedNum\"].astype('int')\n",
    "MCompSeedStats[\"LSeedNum\"] = MCompSeedStats[\"LSeedNum\"].astype('int')\n",
    "MCompSeedStats = transform_team_stats(MCompSeedStats)\n",
    "MCompSeedStats[\"Result\"] = (MCompSeedStats[\"Team_Score\"] > MCompSeedStats[\"Opp_Score\"]).astype('int')\n",
    "MCompSeedStats.head()"
   ]
  },
  {
   "cell_type": "markdown",
   "metadata": {},
   "source": [
    "### Men's Logistic Regression by Seed and Net Rating"
   ]
  },
  {
   "cell_type": "code",
   "execution_count": 19,
   "metadata": {},
   "outputs": [
    {
     "name": "stdout",
     "output_type": "stream",
     "text": [
      "0.7036144578313253\n",
      "[[301 121]\n",
      " [125 283]]\n"
     ]
    }
   ],
   "source": [
    "MLogRegData = MCompSeedStats.loc[:,[\"Team_NetRtg\",\"Opp_NetRtg\",\"Team_SeedNum\",\"Opp_SeedNum\",\"Result\"]]\n",
    "#MLogRegData = MCompSeedStats.loc[:,[\"Team_SeedNum\",\"Opp_SeedNum\",\"Result\"]]\n",
    "\n",
    "MReg_x = MLogRegData.drop([\"Result\"], axis = 1)\n",
    "MReg_y = MLogRegData[\"Result\"]\n",
    "\n",
    "MRegTrain_x,MRegTest_x,MRegTrain_y,MRegTest_y = train_test_split(MReg_x,MReg_y,random_state = 1812,train_size = 0.7)\n",
    "\n",
    "Mlog_reg_model = LogisticRegression()\n",
    "\n",
    "Mlog_reg_model.fit(MRegTrain_x,MRegTrain_y)\n",
    "\n",
    "MPredict_y = Mlog_reg_model.predict(MRegTest_x)\n",
    "\n",
    "conf_mat = sklmetrics.confusion_matrix(MRegTest_y, MPredict_y, labels =[0,1])\n",
    "print(sklmetrics.accuracy_score(MRegTest_y, MPredict_y))\n",
    "print(conf_mat)"
   ]
  },
  {
   "cell_type": "code",
   "execution_count": 20,
   "metadata": {},
   "outputs": [],
   "source": [
    "# Thank you to W3 schools for this code\n",
    "def logit2prob(logr, x):\n",
    "    log_odds = np.dot(logr.coef_, x) + logr.intercept_\n",
    "    odds = np.exp(log_odds)\n",
    "    probability = odds / (1 + odds)\n",
    "    return probability[0] "
   ]
  },
  {
   "cell_type": "code",
   "execution_count": 21,
   "metadata": {},
   "outputs": [
    {
     "data": {
      "text/plain": [
       "0.20096795102084888"
      ]
     },
     "execution_count": 21,
     "metadata": {},
     "output_type": "execute_result"
    }
   ],
   "source": [
    "MTestCompTourney = MCompTournStats[MCompTournStats[\"Season\"] == 2023]\n",
    "MTestCompTourney = (MTestCompTourney.merge(MCompSeedStats.loc[:,[\"Season\",\"DayNum\",\"Team_TeamID\",\"Team_SeedNum\",\"Team_NetRtg\"]],\n",
    "                                           left_on = [\"Season\",\"DayNum\",\"WTeamID\"],\n",
    "                                           right_on = [\"Season\",\"DayNum\",\"Team_TeamID\"])\n",
    "                                    .rename(columns = {\"Team_SeedNum\": \"WSeedNum\",\n",
    "                                                       \"Team_NetRtg\": \"WNetRtg\"})\n",
    "                                    .drop([\"Team_TeamID\"], axis = 1)\n",
    "                                    .merge(MCompSeedStats.loc[:,[\"Season\",\"DayNum\",\"Team_TeamID\",\"Team_SeedNum\",\"Team_NetRtg\"]],\n",
    "                                           left_on = [\"Season\",\"DayNum\",\"LTeamID\"],\n",
    "                                           right_on = [\"Season\",\"DayNum\",\"Team_TeamID\"])\n",
    "                                    .rename(columns = {\"Team_SeedNum\": \"LSeedNum\",\n",
    "                                                       \"Team_NetRtg\": \"LNetRtg\"})\n",
    "                                    .drop([\"Team_TeamID\"], axis = 1))\n",
    "\n",
    "MTestCompTourney[\"logitPerc\"] = logit2prob(Mlog_reg_model,[MTestCompTourney[\"WNetRtg\"],MTestCompTourney[\"LNetRtg\"],MTestCompTourney[\"WSeedNum\"],MTestCompTourney[\"LSeedNum\"]])\n",
    "MTestCompTourney[\"logitBrier\"] = (MTestCompTourney[\"logitPerc\"] - 1)**2\n",
    "MTestCompTourney[\"logitBrier\"].mean()"
   ]
  },
  {
   "cell_type": "markdown",
   "metadata": {},
   "source": [
    "# WOMEN'S ANALYSIS"
   ]
  },
  {
   "cell_type": "code",
   "execution_count": 22,
   "metadata": {},
   "outputs": [],
   "source": [
    "# Women's regular season detailed stats\n",
    "WRegStats = pd.read_csv(\"Data/WRegularSeasonDetailedResults.csv\")\n",
    "\n",
    "# Women regular season compact stats\n",
    "WCompStats = pd.read_csv(\"Data/WRegularSeasonCompactResults.csv\")\n",
    "\n",
    "# Women's NCAA tournament detailed stats\n",
    "WTournStats = pd.read_csv(\"Data/WNCAATourneyDetailedResults.csv\")\n",
    "\n",
    "# Women's NCAA tournament compact stats\n",
    "WCompTournStats = pd.read_csv(\"Data/WNCAATourneyCompactResults.csv\")\n",
    "\n",
    "# Women's Conference tournament stats\n",
    "WConfTournStats = pd.read_csv(\"Data/WConferenceTourneyGames.csv\")\n",
    "\n",
    "# Women's Team names\n",
    "WTeams = pd.read_csv(\"Data/WTeams.csv\")\n",
    "WTeamSpellings = pd.read_csv(\"Data/WTeamSpellings.csv\", encoding='unicode_escape')\n",
    "\n",
    "# Women's Tournament Seeds\n",
    "WSeeds = pd.read_csv(\"Data/WNCAATourneySeeds.csv\")\n",
    "\n",
    "# Women's Conferences\n",
    "WConferences = pd.read_csv(\"Data/WTeamConferences.csv\")\n",
    "\n",
    "# Cities\n",
    "Cities = pd.read_csv(\"Data/Cities.csv\")\n",
    "WGameCities = pd.read_csv(\"Data/WGameCities.csv\")"
   ]
  },
  {
   "cell_type": "code",
   "execution_count": 23,
   "metadata": {},
   "outputs": [],
   "source": [
    "# Tempo\n",
    "# This is how the NET rankings calculate tempo so we will emulate it\n",
    "WRegStats[\"WTempo\"] = WRegStats[\"WFGA\"] - WRegStats[\"WOR\"] + WRegStats[\"WTO\"] + 0.475 * WRegStats[\"WFTA\"]\n",
    "WRegStats[\"LTempo\"] = WRegStats[\"LFGA\"] - WRegStats[\"LOR\"] + WRegStats[\"LTO\"] + 0.475 * WRegStats[\"LFTA\"]\n",
    "\n",
    "# Net Rating Stats\n",
    "\n",
    "# \"uORTG\" is unadjusted Offensive Rating. This will be used to adjust later.\n",
    "WRegStats[\"WuORTG\"] = (WRegStats[\"WScore\"] / WRegStats[\"WTempo\"]) * 100\n",
    "WRegStats[\"LuORTG\"] = (WRegStats[\"LScore\"] / WRegStats[\"LTempo\"]) * 100\n",
    "\n",
    "# The same goes for defensive rating. \"uDRTG\" is the unadjusted defensive rating\n",
    "WRegStats[\"WuDRTG\"] = (WRegStats[\"LScore\"] / WRegStats[\"LTempo\"]) * 100\n",
    "WRegStats[\"LuDRTG\"] = (WRegStats[\"WScore\"] / WRegStats[\"WTempo\"]) * 100\n",
    "\n",
    "# And now Net Rating is just Offensive Rating - Defensive Rating\n",
    "WRegStats[\"WuNetRtg\"] = WRegStats[\"WuORTG\"] - WRegStats[\"WuDRTG\"]\n",
    "WRegStats[\"LuNetRtg\"] = WRegStats[\"LuORTG\"] - WRegStats[\"LuDRTG\"]"
   ]
  },
  {
   "cell_type": "code",
   "execution_count": 24,
   "metadata": {},
   "outputs": [],
   "source": [
    "# Transform dataframes from wide to long format\n",
    "WTeamStats = transform_team_stats(WRegStats)\n",
    "WTournTeamStats = transform_team_stats(WTournStats)"
   ]
  },
  {
   "cell_type": "markdown",
   "metadata": {},
   "source": [
    "### Adding Conferences to WBB Stats"
   ]
  },
  {
   "cell_type": "code",
   "execution_count": 25,
   "metadata": {},
   "outputs": [
    {
     "data": {
      "application/vnd.microsoft.datawrangler.viewer.v0+json": {
       "columns": [
        {
         "name": "index",
         "rawType": "int64",
         "type": "integer"
        },
        {
         "name": "Season",
         "rawType": "int64",
         "type": "integer"
        },
        {
         "name": "DayNum",
         "rawType": "int64",
         "type": "integer"
        },
        {
         "name": "Team_TeamID",
         "rawType": "int64",
         "type": "integer"
        },
        {
         "name": "Team_Score",
         "rawType": "int64",
         "type": "integer"
        },
        {
         "name": "Opp_TeamID",
         "rawType": "int64",
         "type": "integer"
        },
        {
         "name": "Opp_Score",
         "rawType": "int64",
         "type": "integer"
        },
        {
         "name": "Team_Loc",
         "rawType": "object",
         "type": "string"
        },
        {
         "name": "NumOT",
         "rawType": "int64",
         "type": "integer"
        },
        {
         "name": "Team_FGM",
         "rawType": "int64",
         "type": "integer"
        },
        {
         "name": "Team_FGA",
         "rawType": "int64",
         "type": "integer"
        },
        {
         "name": "Team_FGM3",
         "rawType": "int64",
         "type": "integer"
        },
        {
         "name": "Team_FGA3",
         "rawType": "int64",
         "type": "integer"
        },
        {
         "name": "Team_FTM",
         "rawType": "int64",
         "type": "integer"
        },
        {
         "name": "Team_FTA",
         "rawType": "int64",
         "type": "integer"
        },
        {
         "name": "Team_OR",
         "rawType": "int64",
         "type": "integer"
        },
        {
         "name": "Team_DR",
         "rawType": "int64",
         "type": "integer"
        },
        {
         "name": "Team_Ast",
         "rawType": "int64",
         "type": "integer"
        },
        {
         "name": "Team_TO",
         "rawType": "int64",
         "type": "integer"
        },
        {
         "name": "Team_Stl",
         "rawType": "int64",
         "type": "integer"
        },
        {
         "name": "Team_Blk",
         "rawType": "int64",
         "type": "integer"
        },
        {
         "name": "Team_PF",
         "rawType": "int64",
         "type": "integer"
        },
        {
         "name": "Opp_FGM",
         "rawType": "int64",
         "type": "integer"
        },
        {
         "name": "Opp_FGA",
         "rawType": "int64",
         "type": "integer"
        },
        {
         "name": "Opp_FGM3",
         "rawType": "int64",
         "type": "integer"
        },
        {
         "name": "Opp_FGA3",
         "rawType": "int64",
         "type": "integer"
        },
        {
         "name": "Opp_FTM",
         "rawType": "int64",
         "type": "integer"
        },
        {
         "name": "Opp_FTA",
         "rawType": "int64",
         "type": "integer"
        },
        {
         "name": "Opp_OR",
         "rawType": "int64",
         "type": "integer"
        },
        {
         "name": "Opp_DR",
         "rawType": "int64",
         "type": "integer"
        },
        {
         "name": "Opp_Ast",
         "rawType": "int64",
         "type": "integer"
        },
        {
         "name": "Opp_TO",
         "rawType": "int64",
         "type": "integer"
        },
        {
         "name": "Opp_Stl",
         "rawType": "int64",
         "type": "integer"
        },
        {
         "name": "Opp_Blk",
         "rawType": "int64",
         "type": "integer"
        },
        {
         "name": "Opp_PF",
         "rawType": "int64",
         "type": "integer"
        },
        {
         "name": "Team_Tempo",
         "rawType": "float64",
         "type": "float"
        },
        {
         "name": "Opp_Tempo",
         "rawType": "float64",
         "type": "float"
        },
        {
         "name": "Team_uORTG",
         "rawType": "float64",
         "type": "float"
        },
        {
         "name": "Opp_uORTG",
         "rawType": "float64",
         "type": "float"
        },
        {
         "name": "Team_uDRTG",
         "rawType": "float64",
         "type": "float"
        },
        {
         "name": "Opp_uDRTG",
         "rawType": "float64",
         "type": "float"
        },
        {
         "name": "Team_uNetRtg",
         "rawType": "float64",
         "type": "float"
        },
        {
         "name": "Opp_uNetRtg",
         "rawType": "float64",
         "type": "float"
        },
        {
         "name": "TeamID_x",
         "rawType": "int64",
         "type": "integer"
        },
        {
         "name": "Team_Conf",
         "rawType": "object",
         "type": "string"
        },
        {
         "name": "TeamID_y",
         "rawType": "int64",
         "type": "integer"
        },
        {
         "name": "Opp_Conf",
         "rawType": "object",
         "type": "string"
        },
        {
         "name": "ConfGame",
         "rawType": "int32",
         "type": "integer"
        },
        {
         "name": "Result",
         "rawType": "int32",
         "type": "integer"
        }
       ],
       "conversionMethod": "pd.DataFrame",
       "ref": "bf600b3d-26f2-4d59-bc41-54fdf42a0942",
       "rows": [
        [
         "0",
         "2010",
         "11",
         "3103",
         "63",
         "3237",
         "49",
         "H",
         "0",
         "23",
         "54",
         "5",
         "9",
         "12",
         "19",
         "10",
         "26",
         "14",
         "18",
         "7",
         "0",
         "15",
         "20",
         "54",
         "3",
         "13",
         "6",
         "10",
         "11",
         "27",
         "11",
         "23",
         "7",
         "6",
         "19",
         "71.025",
         "70.75",
         "88.70116156282998",
         "69.25795053003534",
         "69.25795053003534",
         "88.70116156282998",
         "19.443211032794636",
         "-19.443211032794636",
         "3103",
         "mac",
         "3237",
         "summit",
         "0",
         "1"
        ],
        [
         "1",
         "2010",
         "13",
         "3231",
         "75",
         "3237",
         "52",
         "H",
         "0",
         "26",
         "59",
         "7",
         "20",
         "16",
         "23",
         "16",
         "27",
         "11",
         "19",
         "11",
         "3",
         "19",
         "18",
         "51",
         "5",
         "19",
         "11",
         "18",
         "10",
         "21",
         "8",
         "24",
         "8",
         "2",
         "21",
         "72.925",
         "73.55",
         "102.84538909838876",
         "70.700203942896",
         "70.700203942896",
         "102.84538909838876",
         "32.14518515549277",
         "-32.14518515549277",
         "3231",
         "big_ten",
         "3237",
         "summit",
         "0",
         "1"
        ],
        [
         "2",
         "2010",
         "82",
         "3282",
         "65",
         "3237",
         "36",
         "H",
         "0",
         "26",
         "65",
         "4",
         "22",
         "9",
         "15",
         "18",
         "29",
         "13",
         "15",
         "8",
         "1",
         "19",
         "11",
         "43",
         "0",
         "7",
         "14",
         "22",
         "8",
         "24",
         "4",
         "22",
         "9",
         "2",
         "14",
         "69.125",
         "67.45",
         "94.03254972875226",
         "53.37286879169755",
         "53.37286879169755",
         "94.03254972875226",
         "40.65968093705471",
         "-40.65968093705471",
         "3282",
         "summit",
         "3237",
         "summit",
         "1",
         "1"
        ],
        [
         "3",
         "2010",
         "112",
         "3282",
         "56",
         "3237",
         "46",
         "A",
         "0",
         "23",
         "54",
         "5",
         "18",
         "5",
         "9",
         "17",
         "19",
         "18",
         "22",
         "6",
         "3",
         "10",
         "17",
         "46",
         "5",
         "17",
         "7",
         "11",
         "12",
         "17",
         "10",
         "23",
         "7",
         "3",
         "14",
         "63.275",
         "62.225",
         "88.5025681548795",
         "73.9252711932503",
         "73.9252711932503",
         "88.5025681548795",
         "14.577296961629202",
         "-14.577296961629202",
         "3282",
         "summit",
         "3237",
         "summit",
         "1",
         "1"
        ],
        [
         "4",
         "2010",
         "49",
         "3293",
         "88",
         "3237",
         "68",
         "A",
         "0",
         "30",
         "60",
         "14",
         "23",
         "14",
         "23",
         "13",
         "20",
         "20",
         "16",
         "8",
         "3",
         "25",
         "22",
         "54",
         "0",
         "11",
         "24",
         "33",
         "15",
         "22",
         "5",
         "19",
         "8",
         "5",
         "23",
         "73.925",
         "73.675",
         "119.0395671288468",
         "92.29725144214456",
         "92.29725144214456",
         "119.0395671288468",
         "26.74231568670224",
         "-26.74231568670224",
         "3293",
         "ovc",
         "3237",
         "summit",
         "0",
         "1"
        ]
       ],
       "shape": {
        "columns": 48,
        "rows": 5
       }
      },
      "text/html": [
       "<div>\n",
       "<style scoped>\n",
       "    .dataframe tbody tr th:only-of-type {\n",
       "        vertical-align: middle;\n",
       "    }\n",
       "\n",
       "    .dataframe tbody tr th {\n",
       "        vertical-align: top;\n",
       "    }\n",
       "\n",
       "    .dataframe thead th {\n",
       "        text-align: right;\n",
       "    }\n",
       "</style>\n",
       "<table border=\"1\" class=\"dataframe\">\n",
       "  <thead>\n",
       "    <tr style=\"text-align: right;\">\n",
       "      <th></th>\n",
       "      <th>Season</th>\n",
       "      <th>DayNum</th>\n",
       "      <th>Team_TeamID</th>\n",
       "      <th>Team_Score</th>\n",
       "      <th>Opp_TeamID</th>\n",
       "      <th>Opp_Score</th>\n",
       "      <th>Team_Loc</th>\n",
       "      <th>NumOT</th>\n",
       "      <th>Team_FGM</th>\n",
       "      <th>Team_FGA</th>\n",
       "      <th>...</th>\n",
       "      <th>Team_uDRTG</th>\n",
       "      <th>Opp_uDRTG</th>\n",
       "      <th>Team_uNetRtg</th>\n",
       "      <th>Opp_uNetRtg</th>\n",
       "      <th>TeamID_x</th>\n",
       "      <th>Team_Conf</th>\n",
       "      <th>TeamID_y</th>\n",
       "      <th>Opp_Conf</th>\n",
       "      <th>ConfGame</th>\n",
       "      <th>Result</th>\n",
       "    </tr>\n",
       "  </thead>\n",
       "  <tbody>\n",
       "    <tr>\n",
       "      <th>0</th>\n",
       "      <td>2010</td>\n",
       "      <td>11</td>\n",
       "      <td>3103</td>\n",
       "      <td>63</td>\n",
       "      <td>3237</td>\n",
       "      <td>49</td>\n",
       "      <td>H</td>\n",
       "      <td>0</td>\n",
       "      <td>23</td>\n",
       "      <td>54</td>\n",
       "      <td>...</td>\n",
       "      <td>69.257951</td>\n",
       "      <td>88.701162</td>\n",
       "      <td>19.443211</td>\n",
       "      <td>-19.443211</td>\n",
       "      <td>3103</td>\n",
       "      <td>mac</td>\n",
       "      <td>3237</td>\n",
       "      <td>summit</td>\n",
       "      <td>0</td>\n",
       "      <td>1</td>\n",
       "    </tr>\n",
       "    <tr>\n",
       "      <th>1</th>\n",
       "      <td>2010</td>\n",
       "      <td>13</td>\n",
       "      <td>3231</td>\n",
       "      <td>75</td>\n",
       "      <td>3237</td>\n",
       "      <td>52</td>\n",
       "      <td>H</td>\n",
       "      <td>0</td>\n",
       "      <td>26</td>\n",
       "      <td>59</td>\n",
       "      <td>...</td>\n",
       "      <td>70.700204</td>\n",
       "      <td>102.845389</td>\n",
       "      <td>32.145185</td>\n",
       "      <td>-32.145185</td>\n",
       "      <td>3231</td>\n",
       "      <td>big_ten</td>\n",
       "      <td>3237</td>\n",
       "      <td>summit</td>\n",
       "      <td>0</td>\n",
       "      <td>1</td>\n",
       "    </tr>\n",
       "    <tr>\n",
       "      <th>2</th>\n",
       "      <td>2010</td>\n",
       "      <td>82</td>\n",
       "      <td>3282</td>\n",
       "      <td>65</td>\n",
       "      <td>3237</td>\n",
       "      <td>36</td>\n",
       "      <td>H</td>\n",
       "      <td>0</td>\n",
       "      <td>26</td>\n",
       "      <td>65</td>\n",
       "      <td>...</td>\n",
       "      <td>53.372869</td>\n",
       "      <td>94.032550</td>\n",
       "      <td>40.659681</td>\n",
       "      <td>-40.659681</td>\n",
       "      <td>3282</td>\n",
       "      <td>summit</td>\n",
       "      <td>3237</td>\n",
       "      <td>summit</td>\n",
       "      <td>1</td>\n",
       "      <td>1</td>\n",
       "    </tr>\n",
       "    <tr>\n",
       "      <th>3</th>\n",
       "      <td>2010</td>\n",
       "      <td>112</td>\n",
       "      <td>3282</td>\n",
       "      <td>56</td>\n",
       "      <td>3237</td>\n",
       "      <td>46</td>\n",
       "      <td>A</td>\n",
       "      <td>0</td>\n",
       "      <td>23</td>\n",
       "      <td>54</td>\n",
       "      <td>...</td>\n",
       "      <td>73.925271</td>\n",
       "      <td>88.502568</td>\n",
       "      <td>14.577297</td>\n",
       "      <td>-14.577297</td>\n",
       "      <td>3282</td>\n",
       "      <td>summit</td>\n",
       "      <td>3237</td>\n",
       "      <td>summit</td>\n",
       "      <td>1</td>\n",
       "      <td>1</td>\n",
       "    </tr>\n",
       "    <tr>\n",
       "      <th>4</th>\n",
       "      <td>2010</td>\n",
       "      <td>49</td>\n",
       "      <td>3293</td>\n",
       "      <td>88</td>\n",
       "      <td>3237</td>\n",
       "      <td>68</td>\n",
       "      <td>A</td>\n",
       "      <td>0</td>\n",
       "      <td>30</td>\n",
       "      <td>60</td>\n",
       "      <td>...</td>\n",
       "      <td>92.297251</td>\n",
       "      <td>119.039567</td>\n",
       "      <td>26.742316</td>\n",
       "      <td>-26.742316</td>\n",
       "      <td>3293</td>\n",
       "      <td>ovc</td>\n",
       "      <td>3237</td>\n",
       "      <td>summit</td>\n",
       "      <td>0</td>\n",
       "      <td>1</td>\n",
       "    </tr>\n",
       "  </tbody>\n",
       "</table>\n",
       "<p>5 rows × 48 columns</p>\n",
       "</div>"
      ],
      "text/plain": [
       "   Season  DayNum  Team_TeamID  Team_Score  Opp_TeamID  Opp_Score Team_Loc  \\\n",
       "0    2010      11         3103          63        3237         49        H   \n",
       "1    2010      13         3231          75        3237         52        H   \n",
       "2    2010      82         3282          65        3237         36        H   \n",
       "3    2010     112         3282          56        3237         46        A   \n",
       "4    2010      49         3293          88        3237         68        A   \n",
       "\n",
       "   NumOT  Team_FGM  Team_FGA  ...  Team_uDRTG   Opp_uDRTG  Team_uNetRtg  \\\n",
       "0      0        23        54  ...   69.257951   88.701162     19.443211   \n",
       "1      0        26        59  ...   70.700204  102.845389     32.145185   \n",
       "2      0        26        65  ...   53.372869   94.032550     40.659681   \n",
       "3      0        23        54  ...   73.925271   88.502568     14.577297   \n",
       "4      0        30        60  ...   92.297251  119.039567     26.742316   \n",
       "\n",
       "   Opp_uNetRtg  TeamID_x  Team_Conf  TeamID_y  Opp_Conf  ConfGame  Result  \n",
       "0   -19.443211      3103        mac      3237    summit         0       1  \n",
       "1   -32.145185      3231    big_ten      3237    summit         0       1  \n",
       "2   -40.659681      3282     summit      3237    summit         1       1  \n",
       "3   -14.577297      3282     summit      3237    summit         1       1  \n",
       "4   -26.742316      3293        ovc      3237    summit         0       1  \n",
       "\n",
       "[5 rows x 48 columns]"
      ]
     },
     "execution_count": 25,
     "metadata": {},
     "output_type": "execute_result"
    }
   ],
   "source": [
    "# Adding Conferences\n",
    "WTeamStats = WTeamStats.merge(WConferences,left_on = [\"Season\",\"Team_TeamID\"],right_on = [\"Season\",\"TeamID\"]).rename(columns = {\"ConfAbbrev\": \"Team_Conf\"})\n",
    "WTeamStats = WTeamStats.merge(WConferences, left_on = [\"Season\",\"Opp_TeamID\"], right_on = [\"Season\",\"TeamID\"]).rename(columns = {\"ConfAbbrev\": \"Opp_Conf\"})\n",
    "WTeamStats[\"ConfGame\"] = (WTeamStats[\"Team_Conf\"] == WTeamStats[\"Opp_Conf\"]).astype(int)\n",
    "\n",
    "# Add a result to see if a team won or not; this will be used for win percentage later\n",
    "WTeamStats[\"Result\"] = (WTeamStats[\"Team_Score\"] > WTeamStats[\"Opp_Score\"]).astype(int)\n",
    "\n",
    "WTeamStats.head()"
   ]
  },
  {
   "cell_type": "code",
   "execution_count": 26,
   "metadata": {},
   "outputs": [],
   "source": [
    "# Select only numerical columns in the WTeamStats dataframe\n",
    "TeamStatsNumericCols = WTeamStats.select_dtypes(include = ['number']).columns.difference([\"Season\",\"Team_TeamID\",\"Opp_TeamID\"])\n",
    "\n",
    "# Use the numerical columns to then get the mean of all of the columns\n",
    "WTeamGroupedStats = WTeamStats.groupby([\"Season\",\"Team_TeamID\",\"Team_Conf\"])[TeamStatsNumericCols].mean().reset_index()\n",
    "\n",
    "# Group by conference to get conference adjustments\n",
    "WConfNetStats = WTeamStats.groupby([\"Season\",\"Team_Conf\"])[[\"Team_uORTG\",\"Team_uDRTG\",\"Team_uNetRtg\"]].mean().reset_index()\n",
    "WConfNetStats[\"Team_uORTGweight\"] = WConfNetStats[\"Team_uORTG\"] / WConfNetStats[\"Team_uORTG\"].mean()\n",
    "WConfNetStats[\"Team_uDRTGweight\"] = WConfNetStats[\"Team_uDRTG\"] / WConfNetStats[\"Team_uDRTG\"].mean()\n",
    "WConfNetStats[\"Team_uNetweight\"] = (WConfNetStats[\"Team_uORTG\"] - WConfNetStats[\"Team_uDRTG\"]) / (WConfNetStats[\"Team_uORTG\"] - WConfNetStats[\"Team_uDRTG\"]).mean()\n",
    "WTeamGroupedStats = WTeamGroupedStats.merge(WConfNetStats[[\"Season\",\"Team_Conf\",\"Team_uORTGweight\",\"Team_uDRTGweight\",\"Team_uNetweight\"]],on = [\"Season\",\"Team_Conf\"])\n",
    "\n",
    "# Creating the conference-adjusted team weights\n",
    "WTeamGroupedStats[\"ConfAdjORTG\"] = WTeamGroupedStats[\"Team_uORTG\"] * WTeamGroupedStats[\"Team_uORTGweight\"]\n",
    "WTeamGroupedStats[\"ConfAdjDRTG\"] = WTeamGroupedStats[\"Team_uDRTG\"] * WTeamGroupedStats[\"Team_uDRTGweight\"]\n",
    "WTeamGroupedStats[\"ConfAdjustment\"] = (WTeamGroupedStats[\"ConfAdjORTG\"] - WTeamGroupedStats[\"ConfAdjDRTG\"]) #* WTeamGroupedStats[\"Team_uNetweight\"]\n",
    "WTeamGroupedStats[\"ConfAdjNetRtg\"] = WTeamGroupedStats[\"Team_uNetRtg\"] + WTeamGroupedStats[\"ConfAdjustment\"]"
   ]
  },
  {
   "cell_type": "code",
   "execution_count": 27,
   "metadata": {},
   "outputs": [
    {
     "data": {
      "text/plain": [
       "Team_TeamID\n",
       "3101     0.839700\n",
       "3102   -14.841337\n",
       "3103     0.635718\n",
       "3104    13.893163\n",
       "3105   -13.653664\n",
       "          ...    \n",
       "3476   -21.326348\n",
       "3477   -13.571742\n",
       "3478   -23.534223\n",
       "3479   -20.676566\n",
       "3480    -9.563550\n",
       "Name: ConfAdjustment, Length: 366, dtype: float64"
      ]
     },
     "execution_count": 27,
     "metadata": {},
     "output_type": "execute_result"
    }
   ],
   "source": [
    "WTeamGroupedStats.groupby([\"Team_TeamID\"])[\"ConfAdjustment\"].mean()"
   ]
  },
  {
   "cell_type": "code",
   "execution_count": 28,
   "metadata": {},
   "outputs": [
    {
     "data": {
      "application/vnd.microsoft.datawrangler.viewer.v0+json": {
       "columns": [
        {
         "name": "index",
         "rawType": "int64",
         "type": "integer"
        },
        {
         "name": "Season",
         "rawType": "int64",
         "type": "integer"
        },
        {
         "name": "DayNum",
         "rawType": "int64",
         "type": "integer"
        },
        {
         "name": "Team_TeamID",
         "rawType": "int64",
         "type": "integer"
        },
        {
         "name": "Team_Score",
         "rawType": "int64",
         "type": "integer"
        },
        {
         "name": "Opp_TeamID",
         "rawType": "int64",
         "type": "integer"
        },
        {
         "name": "Opp_Score",
         "rawType": "int64",
         "type": "integer"
        },
        {
         "name": "Team_Loc",
         "rawType": "object",
         "type": "string"
        },
        {
         "name": "NumOT",
         "rawType": "int64",
         "type": "integer"
        },
        {
         "name": "Team_FGM",
         "rawType": "int64",
         "type": "integer"
        },
        {
         "name": "Team_FGA",
         "rawType": "int64",
         "type": "integer"
        },
        {
         "name": "Team_FGM3",
         "rawType": "int64",
         "type": "integer"
        },
        {
         "name": "Team_FGA3",
         "rawType": "int64",
         "type": "integer"
        },
        {
         "name": "Team_FTM",
         "rawType": "int64",
         "type": "integer"
        },
        {
         "name": "Team_FTA",
         "rawType": "int64",
         "type": "integer"
        },
        {
         "name": "Team_OR",
         "rawType": "int64",
         "type": "integer"
        },
        {
         "name": "Team_DR",
         "rawType": "int64",
         "type": "integer"
        },
        {
         "name": "Team_Ast",
         "rawType": "int64",
         "type": "integer"
        },
        {
         "name": "Team_TO",
         "rawType": "int64",
         "type": "integer"
        },
        {
         "name": "Team_Stl",
         "rawType": "int64",
         "type": "integer"
        },
        {
         "name": "Team_Blk",
         "rawType": "int64",
         "type": "integer"
        },
        {
         "name": "Team_PF",
         "rawType": "int64",
         "type": "integer"
        },
        {
         "name": "Opp_FGM",
         "rawType": "int64",
         "type": "integer"
        },
        {
         "name": "Opp_FGA",
         "rawType": "int64",
         "type": "integer"
        },
        {
         "name": "Opp_FGM3",
         "rawType": "int64",
         "type": "integer"
        },
        {
         "name": "Opp_FGA3",
         "rawType": "int64",
         "type": "integer"
        },
        {
         "name": "Opp_FTM",
         "rawType": "int64",
         "type": "integer"
        },
        {
         "name": "Opp_FTA",
         "rawType": "int64",
         "type": "integer"
        },
        {
         "name": "Opp_OR",
         "rawType": "int64",
         "type": "integer"
        },
        {
         "name": "Opp_DR",
         "rawType": "int64",
         "type": "integer"
        },
        {
         "name": "Opp_Ast",
         "rawType": "int64",
         "type": "integer"
        },
        {
         "name": "Opp_TO",
         "rawType": "int64",
         "type": "integer"
        },
        {
         "name": "Opp_Stl",
         "rawType": "int64",
         "type": "integer"
        },
        {
         "name": "Opp_Blk",
         "rawType": "int64",
         "type": "integer"
        },
        {
         "name": "Opp_PF",
         "rawType": "int64",
         "type": "integer"
        },
        {
         "name": "Team_Tempo",
         "rawType": "float64",
         "type": "float"
        },
        {
         "name": "Opp_Tempo",
         "rawType": "float64",
         "type": "float"
        },
        {
         "name": "Team_uORTG",
         "rawType": "float64",
         "type": "float"
        },
        {
         "name": "Opp_uORTG",
         "rawType": "float64",
         "type": "float"
        },
        {
         "name": "Team_uDRTG",
         "rawType": "float64",
         "type": "float"
        },
        {
         "name": "Opp_uDRTG",
         "rawType": "float64",
         "type": "float"
        },
        {
         "name": "Team_uNetRtg",
         "rawType": "float64",
         "type": "float"
        },
        {
         "name": "Opp_uNetRtg",
         "rawType": "float64",
         "type": "float"
        },
        {
         "name": "TeamID_x",
         "rawType": "int64",
         "type": "integer"
        },
        {
         "name": "Team_Conf",
         "rawType": "object",
         "type": "string"
        },
        {
         "name": "TeamID_y",
         "rawType": "int64",
         "type": "integer"
        },
        {
         "name": "Opp_Conf",
         "rawType": "object",
         "type": "string"
        },
        {
         "name": "ConfGame",
         "rawType": "int32",
         "type": "integer"
        },
        {
         "name": "Result",
         "rawType": "int32",
         "type": "integer"
        },
        {
         "name": "ConfAdjustment",
         "rawType": "float64",
         "type": "float"
        },
        {
         "name": "ConfAdjNetRtg",
         "rawType": "float64",
         "type": "float"
        }
       ],
       "conversionMethod": "pd.DataFrame",
       "ref": "11ab5e4a-7706-4dd3-bfbd-2074644e9e6e",
       "rows": [
        [
         "0",
         "2010",
         "11",
         "3103",
         "63",
         "3237",
         "49",
         "H",
         "0",
         "23",
         "54",
         "5",
         "9",
         "12",
         "19",
         "10",
         "26",
         "14",
         "18",
         "7",
         "0",
         "15",
         "20",
         "54",
         "3",
         "13",
         "6",
         "10",
         "11",
         "27",
         "11",
         "23",
         "7",
         "6",
         "19",
         "71.025",
         "70.75",
         "88.70116156282998",
         "69.25795053003534",
         "69.25795053003534",
         "88.70116156282998",
         "19.443211032794636",
         "-19.443211032794636",
         "3103",
         "mac",
         "3237",
         "summit",
         "0",
         "1",
         "4.889714904179385",
         "24.33292593697402"
        ],
        [
         "1",
         "2010",
         "25",
         "3103",
         "79",
         "3351",
         "43",
         "N",
         "0",
         "28",
         "61",
         "10",
         "23",
         "13",
         "25",
         "16",
         "31",
         "21",
         "17",
         "13",
         "2",
         "17",
         "15",
         "56",
         "4",
         "18",
         "9",
         "22",
         "18",
         "26",
         "7",
         "26",
         "6",
         "0",
         "24",
         "73.875",
         "74.45",
         "106.93739424703892",
         "57.756883814640695",
         "57.756883814640695",
         "106.93739424703892",
         "49.18051043239823",
         "-49.18051043239823",
         "3103",
         "mac",
         "3351",
         "maac",
         "0",
         "1",
         "4.889714904179385",
         "54.070225336577614"
        ],
        [
         "2",
         "2010",
         "30",
         "3103",
         "68",
         "3236",
         "66",
         "H",
         "0",
         "23",
         "58",
         "5",
         "15",
         "17",
         "20",
         "9",
         "20",
         "13",
         "15",
         "7",
         "1",
         "11",
         "25",
         "56",
         "5",
         "12",
         "11",
         "11",
         "8",
         "27",
         "14",
         "23",
         "7",
         "4",
         "18",
         "73.5",
         "76.225",
         "92.51700680272108",
         "86.58576582486062",
         "86.58576582486062",
         "92.51700680272108",
         "5.931240977860469",
         "-5.931240977860469",
         "3103",
         "mac",
         "3236",
         "summit",
         "0",
         "1",
         "4.889714904179385",
         "10.820955882039854"
        ],
        [
         "3",
         "2010",
         "33",
         "3103",
         "75",
         "3464",
         "63",
         "H",
         "0",
         "28",
         "66",
         "4",
         "17",
         "15",
         "21",
         "19",
         "25",
         "10",
         "15",
         "10",
         "1",
         "20",
         "22",
         "64",
         "1",
         "15",
         "18",
         "23",
         "19",
         "22",
         "9",
         "18",
         "3",
         "1",
         "17",
         "71.975",
         "73.925",
         "104.20284821118445",
         "85.22150828542442",
         "85.22150828542442",
         "104.20284821118445",
         "18.981339925760025",
         "-18.981339925760025",
         "3103",
         "mac",
         "3464",
         "horizon",
         "0",
         "1",
         "4.889714904179385",
         "23.87105482993941"
        ],
        [
         "4",
         "2010",
         "45",
         "3103",
         "62",
         "3152",
         "55",
         "A",
         "0",
         "21",
         "55",
         "2",
         "10",
         "18",
         "23",
         "12",
         "29",
         "9",
         "16",
         "10",
         "0",
         "17",
         "17",
         "50",
         "5",
         "16",
         "16",
         "21",
         "9",
         "27",
         "12",
         "18",
         "9",
         "5",
         "23",
         "69.925",
         "68.975",
         "88.66642831605292",
         "79.73903588256616",
         "79.73903588256616",
         "88.66642831605292",
         "8.927392433486759",
         "-8.927392433486759",
         "3103",
         "mac",
         "3152",
         "gwc",
         "0",
         "1",
         "4.889714904179385",
         "13.817107337666144"
        ]
       ],
       "shape": {
        "columns": 50,
        "rows": 5
       }
      },
      "text/html": [
       "<div>\n",
       "<style scoped>\n",
       "    .dataframe tbody tr th:only-of-type {\n",
       "        vertical-align: middle;\n",
       "    }\n",
       "\n",
       "    .dataframe tbody tr th {\n",
       "        vertical-align: top;\n",
       "    }\n",
       "\n",
       "    .dataframe thead th {\n",
       "        text-align: right;\n",
       "    }\n",
       "</style>\n",
       "<table border=\"1\" class=\"dataframe\">\n",
       "  <thead>\n",
       "    <tr style=\"text-align: right;\">\n",
       "      <th></th>\n",
       "      <th>Season</th>\n",
       "      <th>DayNum</th>\n",
       "      <th>Team_TeamID</th>\n",
       "      <th>Team_Score</th>\n",
       "      <th>Opp_TeamID</th>\n",
       "      <th>Opp_Score</th>\n",
       "      <th>Team_Loc</th>\n",
       "      <th>NumOT</th>\n",
       "      <th>Team_FGM</th>\n",
       "      <th>Team_FGA</th>\n",
       "      <th>...</th>\n",
       "      <th>Team_uNetRtg</th>\n",
       "      <th>Opp_uNetRtg</th>\n",
       "      <th>TeamID_x</th>\n",
       "      <th>Team_Conf</th>\n",
       "      <th>TeamID_y</th>\n",
       "      <th>Opp_Conf</th>\n",
       "      <th>ConfGame</th>\n",
       "      <th>Result</th>\n",
       "      <th>ConfAdjustment</th>\n",
       "      <th>ConfAdjNetRtg</th>\n",
       "    </tr>\n",
       "  </thead>\n",
       "  <tbody>\n",
       "    <tr>\n",
       "      <th>0</th>\n",
       "      <td>2010</td>\n",
       "      <td>11</td>\n",
       "      <td>3103</td>\n",
       "      <td>63</td>\n",
       "      <td>3237</td>\n",
       "      <td>49</td>\n",
       "      <td>H</td>\n",
       "      <td>0</td>\n",
       "      <td>23</td>\n",
       "      <td>54</td>\n",
       "      <td>...</td>\n",
       "      <td>19.443211</td>\n",
       "      <td>-19.443211</td>\n",
       "      <td>3103</td>\n",
       "      <td>mac</td>\n",
       "      <td>3237</td>\n",
       "      <td>summit</td>\n",
       "      <td>0</td>\n",
       "      <td>1</td>\n",
       "      <td>4.889715</td>\n",
       "      <td>24.332926</td>\n",
       "    </tr>\n",
       "    <tr>\n",
       "      <th>1</th>\n",
       "      <td>2010</td>\n",
       "      <td>25</td>\n",
       "      <td>3103</td>\n",
       "      <td>79</td>\n",
       "      <td>3351</td>\n",
       "      <td>43</td>\n",
       "      <td>N</td>\n",
       "      <td>0</td>\n",
       "      <td>28</td>\n",
       "      <td>61</td>\n",
       "      <td>...</td>\n",
       "      <td>49.180510</td>\n",
       "      <td>-49.180510</td>\n",
       "      <td>3103</td>\n",
       "      <td>mac</td>\n",
       "      <td>3351</td>\n",
       "      <td>maac</td>\n",
       "      <td>0</td>\n",
       "      <td>1</td>\n",
       "      <td>4.889715</td>\n",
       "      <td>54.070225</td>\n",
       "    </tr>\n",
       "    <tr>\n",
       "      <th>2</th>\n",
       "      <td>2010</td>\n",
       "      <td>30</td>\n",
       "      <td>3103</td>\n",
       "      <td>68</td>\n",
       "      <td>3236</td>\n",
       "      <td>66</td>\n",
       "      <td>H</td>\n",
       "      <td>0</td>\n",
       "      <td>23</td>\n",
       "      <td>58</td>\n",
       "      <td>...</td>\n",
       "      <td>5.931241</td>\n",
       "      <td>-5.931241</td>\n",
       "      <td>3103</td>\n",
       "      <td>mac</td>\n",
       "      <td>3236</td>\n",
       "      <td>summit</td>\n",
       "      <td>0</td>\n",
       "      <td>1</td>\n",
       "      <td>4.889715</td>\n",
       "      <td>10.820956</td>\n",
       "    </tr>\n",
       "    <tr>\n",
       "      <th>3</th>\n",
       "      <td>2010</td>\n",
       "      <td>33</td>\n",
       "      <td>3103</td>\n",
       "      <td>75</td>\n",
       "      <td>3464</td>\n",
       "      <td>63</td>\n",
       "      <td>H</td>\n",
       "      <td>0</td>\n",
       "      <td>28</td>\n",
       "      <td>66</td>\n",
       "      <td>...</td>\n",
       "      <td>18.981340</td>\n",
       "      <td>-18.981340</td>\n",
       "      <td>3103</td>\n",
       "      <td>mac</td>\n",
       "      <td>3464</td>\n",
       "      <td>horizon</td>\n",
       "      <td>0</td>\n",
       "      <td>1</td>\n",
       "      <td>4.889715</td>\n",
       "      <td>23.871055</td>\n",
       "    </tr>\n",
       "    <tr>\n",
       "      <th>4</th>\n",
       "      <td>2010</td>\n",
       "      <td>45</td>\n",
       "      <td>3103</td>\n",
       "      <td>62</td>\n",
       "      <td>3152</td>\n",
       "      <td>55</td>\n",
       "      <td>A</td>\n",
       "      <td>0</td>\n",
       "      <td>21</td>\n",
       "      <td>55</td>\n",
       "      <td>...</td>\n",
       "      <td>8.927392</td>\n",
       "      <td>-8.927392</td>\n",
       "      <td>3103</td>\n",
       "      <td>mac</td>\n",
       "      <td>3152</td>\n",
       "      <td>gwc</td>\n",
       "      <td>0</td>\n",
       "      <td>1</td>\n",
       "      <td>4.889715</td>\n",
       "      <td>13.817107</td>\n",
       "    </tr>\n",
       "  </tbody>\n",
       "</table>\n",
       "<p>5 rows × 50 columns</p>\n",
       "</div>"
      ],
      "text/plain": [
       "   Season  DayNum  Team_TeamID  Team_Score  Opp_TeamID  Opp_Score Team_Loc  \\\n",
       "0    2010      11         3103          63        3237         49        H   \n",
       "1    2010      25         3103          79        3351         43        N   \n",
       "2    2010      30         3103          68        3236         66        H   \n",
       "3    2010      33         3103          75        3464         63        H   \n",
       "4    2010      45         3103          62        3152         55        A   \n",
       "\n",
       "   NumOT  Team_FGM  Team_FGA  ...  Team_uNetRtg  Opp_uNetRtg  TeamID_x  \\\n",
       "0      0        23        54  ...     19.443211   -19.443211      3103   \n",
       "1      0        28        61  ...     49.180510   -49.180510      3103   \n",
       "2      0        23        58  ...      5.931241    -5.931241      3103   \n",
       "3      0        28        66  ...     18.981340   -18.981340      3103   \n",
       "4      0        21        55  ...      8.927392    -8.927392      3103   \n",
       "\n",
       "   Team_Conf  TeamID_y  Opp_Conf  ConfGame  Result  ConfAdjustment  \\\n",
       "0        mac      3237    summit         0       1        4.889715   \n",
       "1        mac      3351      maac         0       1        4.889715   \n",
       "2        mac      3236    summit         0       1        4.889715   \n",
       "3        mac      3464   horizon         0       1        4.889715   \n",
       "4        mac      3152       gwc         0       1        4.889715   \n",
       "\n",
       "   ConfAdjNetRtg  \n",
       "0      24.332926  \n",
       "1      54.070225  \n",
       "2      10.820956  \n",
       "3      23.871055  \n",
       "4      13.817107  \n",
       "\n",
       "[5 rows x 50 columns]"
      ]
     },
     "execution_count": 28,
     "metadata": {},
     "output_type": "execute_result"
    }
   ],
   "source": [
    "# Lets add the conference bias onto all of the box scores now\n",
    "WTeamStats = WTeamStats.merge(WTeamGroupedStats.loc[:,[\"Season\",\"Team_TeamID\",\"ConfAdjustment\"]], on = [\"Season\",\"Team_TeamID\"])\n",
    "\n",
    "WTeamStats[\"ConfAdjNetRtg\"] = WTeamStats[\"Team_uNetRtg\"] + WTeamStats[\"ConfAdjustment\"]\n",
    "WTeamStats.head()"
   ]
  },
  {
   "cell_type": "markdown",
   "metadata": {},
   "source": [
    "### Logistic Regression for WBB Stats"
   ]
  },
  {
   "cell_type": "markdown",
   "metadata": {},
   "source": [
    "Here we create the dataframe that is only the team and opponent net rankings along with the result."
   ]
  },
  {
   "cell_type": "markdown",
   "metadata": {},
   "source": [
    "This is slightly worse than without the logistic regression. One of the games that's hurting us the most is NC State vs Texas in the Elite 8. NC State was a 3 seed and Texas was a 1 seed. In most sites that we've found, Texas had about a 75% chance to win, but in all of our analyses they've had well over 85% chance.  This is because of the massive difference in net rating between the two. The seeds are really telling the story here, however. A 3 seed defeating a 1 seed is an upset, but not nearly as much as a team winning with a difference in net rating of over 30. We need to adjust for seeding."
   ]
  },
  {
   "cell_type": "code",
   "execution_count": 29,
   "metadata": {},
   "outputs": [
    {
     "data": {
      "application/vnd.microsoft.datawrangler.viewer.v0+json": {
       "columns": [
        {
         "name": "index",
         "rawType": "int64",
         "type": "integer"
        },
        {
         "name": "Season",
         "rawType": "int64",
         "type": "integer"
        },
        {
         "name": "DayNum",
         "rawType": "int64",
         "type": "integer"
        },
        {
         "name": "Team_TeamID",
         "rawType": "int64",
         "type": "integer"
        },
        {
         "name": "Team_Score",
         "rawType": "int64",
         "type": "integer"
        },
        {
         "name": "Opp_TeamID",
         "rawType": "int64",
         "type": "integer"
        },
        {
         "name": "Opp_Score",
         "rawType": "int64",
         "type": "integer"
        },
        {
         "name": "Team_Loc",
         "rawType": "object",
         "type": "string"
        },
        {
         "name": "NumOT",
         "rawType": "int64",
         "type": "integer"
        },
        {
         "name": "Team_Seed",
         "rawType": "object",
         "type": "string"
        },
        {
         "name": "Opp_Seed",
         "rawType": "object",
         "type": "string"
        },
        {
         "name": "Team_NetRtg",
         "rawType": "float64",
         "type": "float"
        },
        {
         "name": "Opp_NetRtg",
         "rawType": "float64",
         "type": "float"
        },
        {
         "name": "Team_SeedNum",
         "rawType": "int32",
         "type": "integer"
        },
        {
         "name": "Opp_SeedNum",
         "rawType": "int32",
         "type": "integer"
        },
        {
         "name": "Result",
         "rawType": "int32",
         "type": "integer"
        }
       ],
       "conversionMethod": "pd.DataFrame",
       "ref": "307e2c57-56a0-4ba1-b3f5-ce280013a469",
       "rows": [
        [
         "0",
         "2010",
         "138",
         "3124",
         "69",
         "3201",
         "55",
         "N",
         "0",
         "X04",
         "X13",
         "49.88571616011851",
         "36.66299345161762",
         "4",
         "13",
         "1"
        ],
        [
         "1",
         "2010",
         "140",
         "3124",
         "49",
         "3207",
         "33",
         "N",
         "0",
         "X04",
         "X05",
         "49.88571616011851",
         "35.87733595919623",
         "4",
         "5",
         "1"
        ],
        [
         "2",
         "2010",
         "145",
         "3124",
         "77",
         "3397",
         "62",
         "A",
         "0",
         "X04",
         "X01",
         "49.88571616011851",
         "58.79252981300888",
         "4",
         "1",
         "1"
        ],
        [
         "3",
         "2010",
         "147",
         "3124",
         "51",
         "3181",
         "48",
         "N",
         "0",
         "X04",
         "X02",
         "49.88571616011851",
         "50.15669158404272",
         "4",
         "2",
         "1"
        ],
        [
         "4",
         "2010",
         "138",
         "3173",
         "67",
         "3395",
         "66",
         "N",
         "0",
         "X08",
         "X09",
         "32.81578756360342",
         "35.1355654236827",
         "8",
         "9",
         "1"
        ]
       ],
       "shape": {
        "columns": 15,
        "rows": 5
       }
      },
      "text/html": [
       "<div>\n",
       "<style scoped>\n",
       "    .dataframe tbody tr th:only-of-type {\n",
       "        vertical-align: middle;\n",
       "    }\n",
       "\n",
       "    .dataframe tbody tr th {\n",
       "        vertical-align: top;\n",
       "    }\n",
       "\n",
       "    .dataframe thead th {\n",
       "        text-align: right;\n",
       "    }\n",
       "</style>\n",
       "<table border=\"1\" class=\"dataframe\">\n",
       "  <thead>\n",
       "    <tr style=\"text-align: right;\">\n",
       "      <th></th>\n",
       "      <th>Season</th>\n",
       "      <th>DayNum</th>\n",
       "      <th>Team_TeamID</th>\n",
       "      <th>Team_Score</th>\n",
       "      <th>Opp_TeamID</th>\n",
       "      <th>Opp_Score</th>\n",
       "      <th>Team_Loc</th>\n",
       "      <th>NumOT</th>\n",
       "      <th>Team_Seed</th>\n",
       "      <th>Opp_Seed</th>\n",
       "      <th>Team_NetRtg</th>\n",
       "      <th>Opp_NetRtg</th>\n",
       "      <th>Team_SeedNum</th>\n",
       "      <th>Opp_SeedNum</th>\n",
       "      <th>Result</th>\n",
       "    </tr>\n",
       "  </thead>\n",
       "  <tbody>\n",
       "    <tr>\n",
       "      <th>0</th>\n",
       "      <td>2010</td>\n",
       "      <td>138</td>\n",
       "      <td>3124</td>\n",
       "      <td>69</td>\n",
       "      <td>3201</td>\n",
       "      <td>55</td>\n",
       "      <td>N</td>\n",
       "      <td>0</td>\n",
       "      <td>X04</td>\n",
       "      <td>X13</td>\n",
       "      <td>49.885716</td>\n",
       "      <td>36.662993</td>\n",
       "      <td>4</td>\n",
       "      <td>13</td>\n",
       "      <td>1</td>\n",
       "    </tr>\n",
       "    <tr>\n",
       "      <th>1</th>\n",
       "      <td>2010</td>\n",
       "      <td>140</td>\n",
       "      <td>3124</td>\n",
       "      <td>49</td>\n",
       "      <td>3207</td>\n",
       "      <td>33</td>\n",
       "      <td>N</td>\n",
       "      <td>0</td>\n",
       "      <td>X04</td>\n",
       "      <td>X05</td>\n",
       "      <td>49.885716</td>\n",
       "      <td>35.877336</td>\n",
       "      <td>4</td>\n",
       "      <td>5</td>\n",
       "      <td>1</td>\n",
       "    </tr>\n",
       "    <tr>\n",
       "      <th>2</th>\n",
       "      <td>2010</td>\n",
       "      <td>145</td>\n",
       "      <td>3124</td>\n",
       "      <td>77</td>\n",
       "      <td>3397</td>\n",
       "      <td>62</td>\n",
       "      <td>A</td>\n",
       "      <td>0</td>\n",
       "      <td>X04</td>\n",
       "      <td>X01</td>\n",
       "      <td>49.885716</td>\n",
       "      <td>58.792530</td>\n",
       "      <td>4</td>\n",
       "      <td>1</td>\n",
       "      <td>1</td>\n",
       "    </tr>\n",
       "    <tr>\n",
       "      <th>3</th>\n",
       "      <td>2010</td>\n",
       "      <td>147</td>\n",
       "      <td>3124</td>\n",
       "      <td>51</td>\n",
       "      <td>3181</td>\n",
       "      <td>48</td>\n",
       "      <td>N</td>\n",
       "      <td>0</td>\n",
       "      <td>X04</td>\n",
       "      <td>X02</td>\n",
       "      <td>49.885716</td>\n",
       "      <td>50.156692</td>\n",
       "      <td>4</td>\n",
       "      <td>2</td>\n",
       "      <td>1</td>\n",
       "    </tr>\n",
       "    <tr>\n",
       "      <th>4</th>\n",
       "      <td>2010</td>\n",
       "      <td>138</td>\n",
       "      <td>3173</td>\n",
       "      <td>67</td>\n",
       "      <td>3395</td>\n",
       "      <td>66</td>\n",
       "      <td>N</td>\n",
       "      <td>0</td>\n",
       "      <td>X08</td>\n",
       "      <td>X09</td>\n",
       "      <td>32.815788</td>\n",
       "      <td>35.135565</td>\n",
       "      <td>8</td>\n",
       "      <td>9</td>\n",
       "      <td>1</td>\n",
       "    </tr>\n",
       "  </tbody>\n",
       "</table>\n",
       "</div>"
      ],
      "text/plain": [
       "   Season  DayNum  Team_TeamID  Team_Score  Opp_TeamID  Opp_Score Team_Loc  \\\n",
       "0    2010     138         3124          69        3201         55        N   \n",
       "1    2010     140         3124          49        3207         33        N   \n",
       "2    2010     145         3124          77        3397         62        A   \n",
       "3    2010     147         3124          51        3181         48        N   \n",
       "4    2010     138         3173          67        3395         66        N   \n",
       "\n",
       "   NumOT Team_Seed Opp_Seed  Team_NetRtg  Opp_NetRtg  Team_SeedNum  \\\n",
       "0      0       X04      X13    49.885716   36.662993             4   \n",
       "1      0       X04      X05    49.885716   35.877336             4   \n",
       "2      0       X04      X01    49.885716   58.792530             4   \n",
       "3      0       X04      X02    49.885716   50.156692             4   \n",
       "4      0       X08      X09    32.815788   35.135565             8   \n",
       "\n",
       "   Opp_SeedNum  Result  \n",
       "0           13       1  \n",
       "1            5       1  \n",
       "2            1       1  \n",
       "3            2       1  \n",
       "4            9       1  "
      ]
     },
     "execution_count": 29,
     "metadata": {},
     "output_type": "execute_result"
    }
   ],
   "source": [
    "WCompSeedStats = (WCompTournStats[WCompTournStats[\"Season\"] > 2009].merge(WSeeds, \n",
    "                                                                          left_on = [\"Season\",\"WTeamID\"], \n",
    "                                                                          right_on = [\"Season\",\"TeamID\"])\n",
    "                       .drop([\"TeamID\"], axis = 1)\n",
    "                       .rename(columns = {\"Seed\":\"WSeed\"})\n",
    "                       .merge(WSeeds, \n",
    "                              left_on = [\"Season\",\"LTeamID\"], \n",
    "                              right_on = [\"Season\",\"TeamID\"])\n",
    "                       .drop([\"TeamID\"], axis = 1)\n",
    "                       .rename(columns = {\"Seed\":\"LSeed\"})\n",
    "                       .merge(WTeamGroupedStats.loc[:,[\"Season\",\"Team_TeamID\",\"ConfAdjNetRtg\"]],\n",
    "                              left_on = [\"Season\",\"WTeamID\"],\n",
    "                              right_on = [\"Season\",\"Team_TeamID\"])\n",
    "                       .drop([\"Team_TeamID\"], axis = 1)\n",
    "                       .rename(columns = {\"ConfAdjNetRtg\": \"WNetRtg\"})\n",
    "                       .merge(WTeamGroupedStats.loc[:,[\"Season\",\"Team_TeamID\",\"ConfAdjNetRtg\"]],\n",
    "                              left_on = [\"Season\",\"LTeamID\"],\n",
    "                              right_on = [\"Season\",\"Team_TeamID\"])\n",
    "                       .drop([\"Team_TeamID\"], axis = 1)\n",
    "                       .rename(columns = {\"ConfAdjNetRtg\": \"LNetRtg\"}))\n",
    "\n",
    "WCompSeedStats[\"WSeedNum\"] = [remove_letters(x) for x in WCompSeedStats[\"WSeed\"]]\n",
    "WCompSeedStats[\"LSeedNum\"] = [remove_letters(x) for x in WCompSeedStats[\"LSeed\"]]\n",
    "WCompSeedStats[\"WSeedNum\"] = WCompSeedStats[\"WSeedNum\"].astype('int')\n",
    "WCompSeedStats[\"LSeedNum\"] = WCompSeedStats[\"LSeedNum\"].astype('int')\n",
    "\n",
    "WCompSeedStats = transform_team_stats(WCompSeedStats)\n",
    "WCompSeedStats[\"Result\"] = (WCompSeedStats[\"Team_Score\"] > WCompSeedStats[\"Opp_Score\"]).astype('int')\n",
    "WCompSeedStats.head()"
   ]
  },
  {
   "cell_type": "markdown",
   "metadata": {},
   "source": [
    "#### Tourney Seeds Logistic Regression"
   ]
  },
  {
   "cell_type": "code",
   "execution_count": 30,
   "metadata": {},
   "outputs": [
    {
     "name": "stdout",
     "output_type": "stream",
     "text": [
      "0.8100558659217877\n",
      "[[223  50]\n",
      " [ 52 212]]\n"
     ]
    }
   ],
   "source": [
    "WLogRegData = WCompSeedStats.loc[:,[\"Team_NetRtg\",\"Opp_NetRtg\",\"Team_SeedNum\",\"Opp_SeedNum\",\"Team_Loc\",\"Result\"]]\n",
    "WLogRegData[\"Team_Home\"] = (WLogRegData[\"Team_Loc\"] == \"H\").astype('int')\n",
    "WLogRegData[\"Team_Away\"] = (WLogRegData[\"Team_Loc\"] == \"A\").astype('int')\n",
    "WLogRegData[\"Team_Neutral\"] = (WLogRegData[\"Team_Loc\"] == \"N\").astype('int')\n",
    "WLogRegData.drop([\"Team_Loc\"],axis = 1,inplace = True)\n",
    "#WLogRegData = WRollStats.loc[:,[\"FNetDiff\",\"Result\"]]\n",
    "\n",
    "\n",
    "WReg_x = WLogRegData.drop([\"Result\"], axis = 1)\n",
    "WReg_y = WLogRegData[\"Result\"]\n",
    "\n",
    "WRegTrain_x,WRegTest_x,WRegTrain_y,WRegTest_y = train_test_split(WReg_x,WReg_y,random_state = 1812,train_size = 0.7)\n",
    "\n",
    "log_reg_model = LogisticRegression()\n",
    "\n",
    "log_reg_model.fit(WRegTrain_x,WRegTrain_y)\n",
    "\n",
    "WPredict_y = log_reg_model.predict(WRegTest_x)\n",
    "\n",
    "conf_mat = sklmetrics.confusion_matrix(WRegTest_y, WPredict_y, labels =[0,1])\n",
    "print(sklmetrics.accuracy_score(WRegTest_y, WPredict_y))\n",
    "print(conf_mat)"
   ]
  },
  {
   "cell_type": "code",
   "execution_count": 31,
   "metadata": {},
   "outputs": [
    {
     "data": {
      "text/plain": [
       "0.1563835824318672"
      ]
     },
     "execution_count": 31,
     "metadata": {},
     "output_type": "execute_result"
    }
   ],
   "source": [
    "WTestCompTourney = WCompTournStats[WCompTournStats[\"Season\"] == 2023]\n",
    "WTestCompTourney[\"Team_Home\"] = (WTestCompTourney[\"WLoc\"] == \"H\").astype('int')\n",
    "WTestCompTourney[\"Team_Away\"] = (WTestCompTourney[\"WLoc\"] == \"A\").astype('int')\n",
    "WTestCompTourney[\"Team_Neutral\"] = (WTestCompTourney[\"WLoc\"] == \"N\").astype('int')\n",
    "WTestCompTourney.drop([\"WLoc\"], axis = 1, inplace = True)\n",
    "WTestCompTourney = (WTestCompTourney.merge(WCompSeedStats.loc[:,[\"Season\",\"DayNum\",\"Team_TeamID\",\"Team_SeedNum\",\"Team_NetRtg\"]],\n",
    "                                           left_on = [\"Season\",\"DayNum\",\"WTeamID\"],\n",
    "                                           right_on = [\"Season\",\"DayNum\",\"Team_TeamID\"])\n",
    "                                    .rename(columns = {\"Team_SeedNum\": \"WSeedNum\",\n",
    "                                                       \"Team_NetRtg\": \"WNetRtg\"})\n",
    "                                    .drop([\"Team_TeamID\"], axis = 1)\n",
    "                                    .merge(WCompSeedStats.loc[:,[\"Season\",\"DayNum\",\"Team_TeamID\",\"Team_SeedNum\",\"Team_NetRtg\"]],\n",
    "                                           left_on = [\"Season\",\"DayNum\",\"LTeamID\"],\n",
    "                                           right_on = [\"Season\",\"DayNum\",\"Team_TeamID\"])\n",
    "                                    .rename(columns = {\"Team_SeedNum\": \"LSeedNum\",\n",
    "                                                       \"Team_NetRtg\": \"LNetRtg\"})\n",
    "                                    .drop([\"Team_TeamID\"], axis = 1))\n",
    "\n",
    "WTestCompTourney[\"logitPerc\"] = logit2prob(log_reg_model,[WTestCompTourney[\"WNetRtg\"],WTestCompTourney[\"LNetRtg\"],WTestCompTourney[\"WSeedNum\"],WTestCompTourney[\"LSeedNum\"],WTestCompTourney[\"Team_Home\"],WTestCompTourney[\"Team_Away\"],WTestCompTourney[\"Team_Neutral\"]])\n",
    "WTestCompTourney[\"logitBrier\"] = (WTestCompTourney[\"logitPerc\"] - 1)**2\n",
    "WTestCompTourney[\"logitBrier\"].mean()"
   ]
  },
  {
   "cell_type": "markdown",
   "metadata": {},
   "source": [
    "# Models for 2025"
   ]
  },
  {
   "cell_type": "code",
   "execution_count": 32,
   "metadata": {},
   "outputs": [],
   "source": [
    "# M2025Stats = (MTeamGroupedStats[MTeamGroupedStats[\"Season\"] == 2025].loc[:,[\"Season\",\"Team_TeamID\",\"ConfAdjNetRtg\"]]\n",
    "#               .reset_index()\n",
    "#               .drop([\"index\"], axis = 1)\n",
    "#               .merge(MTeamSpellings, left_on = [\"Team_TeamID\"], right_on = [\"TeamID\"])\n",
    "#               .drop([\"TeamID\"], axis = 1)\n",
    "#               .groupby([\"Team_TeamID\"]).first()\n",
    "#               .reset_index())\n",
    "# M2025Stats.head()"
   ]
  },
  {
   "cell_type": "code",
   "execution_count": 33,
   "metadata": {},
   "outputs": [
    {
     "data": {
      "application/vnd.microsoft.datawrangler.viewer.v0+json": {
       "columns": [
        {
         "name": "index",
         "rawType": "int64",
         "type": "integer"
        },
        {
         "name": "Team_TeamID",
         "rawType": "int64",
         "type": "integer"
        },
        {
         "name": "Season",
         "rawType": "int64",
         "type": "integer"
        },
        {
         "name": "ConfAdjNetRtg",
         "rawType": "float64",
         "type": "float"
        },
        {
         "name": "TeamNameSpelling",
         "rawType": "object",
         "type": "string"
        },
        {
         "name": "Seed",
         "rawType": "int64",
         "type": "integer"
        }
       ],
       "conversionMethod": "pd.DataFrame",
       "ref": "4f1dc006-9b05-4f06-b298-77b055a3a924",
       "rows": [
        [
         "0",
         "3101",
         "2025",
         "10.14168817",
         "abilene chr",
         "17"
        ],
        [
         "1",
         "3102",
         "2025",
         "5.151964437",
         "air force",
         "17"
        ],
        [
         "2",
         "3103",
         "2025",
         "-25.05278788",
         "akron",
         "17"
        ],
        [
         "3",
         "3104",
         "2025",
         "67.87613791",
         "alabama",
         "5"
        ],
        [
         "4",
         "3105",
         "2025",
         "-2.995359194",
         "alabama a&m",
         "17"
        ]
       ],
       "shape": {
        "columns": 5,
        "rows": 5
       }
      },
      "text/html": [
       "<div>\n",
       "<style scoped>\n",
       "    .dataframe tbody tr th:only-of-type {\n",
       "        vertical-align: middle;\n",
       "    }\n",
       "\n",
       "    .dataframe tbody tr th {\n",
       "        vertical-align: top;\n",
       "    }\n",
       "\n",
       "    .dataframe thead th {\n",
       "        text-align: right;\n",
       "    }\n",
       "</style>\n",
       "<table border=\"1\" class=\"dataframe\">\n",
       "  <thead>\n",
       "    <tr style=\"text-align: right;\">\n",
       "      <th></th>\n",
       "      <th>Team_TeamID</th>\n",
       "      <th>Season</th>\n",
       "      <th>ConfAdjNetRtg</th>\n",
       "      <th>TeamNameSpelling</th>\n",
       "      <th>Seed</th>\n",
       "    </tr>\n",
       "  </thead>\n",
       "  <tbody>\n",
       "    <tr>\n",
       "      <th>0</th>\n",
       "      <td>3101</td>\n",
       "      <td>2025</td>\n",
       "      <td>10.141688</td>\n",
       "      <td>abilene chr</td>\n",
       "      <td>17</td>\n",
       "    </tr>\n",
       "    <tr>\n",
       "      <th>1</th>\n",
       "      <td>3102</td>\n",
       "      <td>2025</td>\n",
       "      <td>5.151964</td>\n",
       "      <td>air force</td>\n",
       "      <td>17</td>\n",
       "    </tr>\n",
       "    <tr>\n",
       "      <th>2</th>\n",
       "      <td>3103</td>\n",
       "      <td>2025</td>\n",
       "      <td>-25.052788</td>\n",
       "      <td>akron</td>\n",
       "      <td>17</td>\n",
       "    </tr>\n",
       "    <tr>\n",
       "      <th>3</th>\n",
       "      <td>3104</td>\n",
       "      <td>2025</td>\n",
       "      <td>67.876138</td>\n",
       "      <td>alabama</td>\n",
       "      <td>5</td>\n",
       "    </tr>\n",
       "    <tr>\n",
       "      <th>4</th>\n",
       "      <td>3105</td>\n",
       "      <td>2025</td>\n",
       "      <td>-2.995359</td>\n",
       "      <td>alabama a&amp;m</td>\n",
       "      <td>17</td>\n",
       "    </tr>\n",
       "  </tbody>\n",
       "</table>\n",
       "</div>"
      ],
      "text/plain": [
       "   Team_TeamID  Season  ConfAdjNetRtg TeamNameSpelling  Seed\n",
       "0         3101    2025      10.141688      abilene chr    17\n",
       "1         3102    2025       5.151964        air force    17\n",
       "2         3103    2025     -25.052788            akron    17\n",
       "3         3104    2025      67.876138          alabama     5\n",
       "4         3105    2025      -2.995359      alabama a&m    17"
      ]
     },
     "execution_count": 33,
     "metadata": {},
     "output_type": "execute_result"
    }
   ],
   "source": [
    "M2025Stats = pd.read_csv(\"Data/M2025Stats.csv\")\n",
    "W2025Stats = pd.read_csv(\"Data/W2025Stats.csv\")\n",
    "W2025Stats.head()"
   ]
  },
  {
   "cell_type": "markdown",
   "metadata": {},
   "source": [
    "## Men's 2025 Predictions"
   ]
  },
  {
   "cell_type": "code",
   "execution_count": 34,
   "metadata": {},
   "outputs": [
    {
     "name": "stderr",
     "output_type": "stream",
     "text": [
      "C:\\Users\\mattd\\AppData\\Local\\Temp\\ipykernel_28548\\385027227.py:19: FutureWarning: The behavior of DataFrame concatenation with empty or all-NA entries is deprecated. In a future version, this will no longer exclude empty or all-NA columns when determining the result dtypes. To retain the old behavior, exclude the relevant entries before the concat operation.\n",
      "  M2025Pred = pd.concat([M2025Pred, res], ignore_index=True, axis = 0)\n"
     ]
    }
   ],
   "source": [
    "M2025Pred = pd.DataFrame(columns = [\"Team1\",\"Team2\",\"Pred\"])\n",
    "for i in range(0,len(M2025Stats[\"Team_TeamID\"])):\n",
    "    Team1 = M2025Stats.loc[i,\"TeamNameSpelling\"]\n",
    "    for j in range(0,len(M2025Stats[\"Team_TeamID\"])):\n",
    "        Team2 = M2025Stats.loc[j,\"TeamNameSpelling\"]\n",
    "        if Team1 == Team2:\n",
    "            continue\n",
    "        elif Team1 > Team2:\n",
    "            continue\n",
    "        else:\n",
    "            winperc = logit2prob(Mlog_reg_model,[M2025Stats.loc[i,\"ConfAdjNetRtg\"],\n",
    "                                                 M2025Stats.loc[j,\"ConfAdjNetRtg\"],\n",
    "                                                 M2025Stats.loc[i,\"Seed\"],\n",
    "                                                 M2025Stats.loc[j,\"Seed\"],])\n",
    "            res = pd.DataFrame({\"Team1\": Team1,\n",
    "                               \"Team2\": Team2,\n",
    "                               \"Pred\": winperc},\n",
    "                               index = [0])\n",
    "            M2025Pred = pd.concat([M2025Pred, res], ignore_index=True, axis = 0)"
   ]
  },
  {
   "cell_type": "code",
   "execution_count": null,
   "metadata": {},
   "outputs": [
    {
     "data": {
      "text/html": [
       "<div>\n",
       "<style scoped>\n",
       "    .dataframe tbody tr th:only-of-type {\n",
       "        vertical-align: middle;\n",
       "    }\n",
       "\n",
       "    .dataframe tbody tr th {\n",
       "        vertical-align: top;\n",
       "    }\n",
       "\n",
       "    .dataframe thead th {\n",
       "        text-align: right;\n",
       "    }\n",
       "</style>\n",
       "<table border=\"1\" class=\"dataframe\">\n",
       "  <thead>\n",
       "    <tr style=\"text-align: right;\">\n",
       "      <th></th>\n",
       "      <th>Team_TeamID</th>\n",
       "      <th>Season</th>\n",
       "      <th>ConfAdjNetRtg</th>\n",
       "      <th>TeamNameSpelling</th>\n",
       "    </tr>\n",
       "  </thead>\n",
       "  <tbody>\n",
       "    <tr>\n",
       "      <th>0</th>\n",
       "      <td>3101</td>\n",
       "      <td>2025</td>\n",
       "      <td>10.141688</td>\n",
       "      <td>abilene chr</td>\n",
       "    </tr>\n",
       "    <tr>\n",
       "      <th>1</th>\n",
       "      <td>3102</td>\n",
       "      <td>2025</td>\n",
       "      <td>5.151964</td>\n",
       "      <td>air force</td>\n",
       "    </tr>\n",
       "    <tr>\n",
       "      <th>2</th>\n",
       "      <td>3103</td>\n",
       "      <td>2025</td>\n",
       "      <td>-25.052788</td>\n",
       "      <td>akron</td>\n",
       "    </tr>\n",
       "    <tr>\n",
       "      <th>3</th>\n",
       "      <td>3104</td>\n",
       "      <td>2025</td>\n",
       "      <td>67.876138</td>\n",
       "      <td>alabama</td>\n",
       "    </tr>\n",
       "    <tr>\n",
       "      <th>4</th>\n",
       "      <td>3105</td>\n",
       "      <td>2025</td>\n",
       "      <td>-2.995359</td>\n",
       "      <td>alabama a&amp;m</td>\n",
       "    </tr>\n",
       "  </tbody>\n",
       "</table>\n",
       "</div>"
      ],
      "text/plain": [
       "   Team_TeamID  Season  ConfAdjNetRtg TeamNameSpelling\n",
       "0         3101    2025      10.141688      abilene chr\n",
       "1         3102    2025       5.151964        air force\n",
       "2         3103    2025     -25.052788            akron\n",
       "3         3104    2025      67.876138          alabama\n",
       "4         3105    2025      -2.995359      alabama a&m"
      ]
     },
     "execution_count": 260,
     "metadata": {},
     "output_type": "execute_result"
    }
   ],
   "source": [
    "# W2025Stats = (WTeamGroupedStats[WTeamGroupedStats[\"Season\"] == 2025].loc[:,[\"Season\",\"Team_TeamID\",\"ConfAdjNetRtg\"]]\n",
    "#               .reset_index()\n",
    "#               .drop([\"index\"], axis = 1)\n",
    "#               .merge(WTeamSpellings, left_on = [\"Team_TeamID\"], right_on = [\"TeamID\"])\n",
    "#               .drop([\"TeamID\"], axis = 1)\n",
    "#               .groupby([\"Team_TeamID\"]).first()\n",
    "#               .reset_index())\n",
    "# W2025Stats.head()"
   ]
  },
  {
   "cell_type": "code",
   "execution_count": 77,
   "metadata": {},
   "outputs": [],
   "source": [
    "W2025Pred = pd.DataFrame(columns = [\"Team1\",\"Team2\",\"Home\",\"Away\",\"Neutral\"])\n",
    "W2025Stats[\"Team_Home\"] = 0\n",
    "W2025Stats[\"Team_Away\"] = 0\n",
    "W2025Stats[\"Team_Neutral\"] = 0\n",
    "\n",
    "WHomeTeams = {\n",
    "    1: {16, 8, 9},\n",
    "    2: {15, 7, 10},\n",
    "    3: {14, 11, 6},\n",
    "    4: {13, 12, 5}\n",
    "}\n",
    "\n",
    "for i in range(0,len(W2025Stats[\"Team_TeamID\"])):\n",
    "    Team1 = W2025Stats.loc[i,\"Team_TeamID\"] \n",
    "    Team1Seed = W2025Stats.loc[i,\"Seed\"]\n",
    "    for j in range(0,len(W2025Stats[\"Team_TeamID\"])):\n",
    "        Team2 = W2025Stats.loc[j,\"Team_TeamID\"] \n",
    "        Team2Seed = W2025Stats.loc[j,\"Seed\"]\n",
    "        if Team1 == Team2:\n",
    "            continue\n",
    "        elif Team1 > Team2:\n",
    "            continue\n",
    "        elif W2025Stats.loc[i,\"Seed\"] in WHomeTeams and W2025Stats.loc[j,\"Seed\"] in WHomeTeams[Team1Seed]:\n",
    "            Home = 1\n",
    "            Away = 0\n",
    "            Neutral = 0\n",
    "        elif W2025Stats.loc[j,\"Seed\"] in WHomeTeams and W2025Stats.loc[i,\"Seed\"] in WHomeTeams[Team2Seed]:\n",
    "            Away = 1\n",
    "            Home = 0\n",
    "            Neutral = 0\n",
    "        else:\n",
    "            Neutral = 1\n",
    "            Home = 0\n",
    "            Away = 0\n",
    "            winperc = logit2prob(log_reg_model,[W2025Stats.loc[i,\"ConfAdjNetRtg\"],\n",
    "                                                 W2025Stats.loc[j,\"ConfAdjNetRtg\"],\n",
    "                                                 W2025Stats.loc[i,\"Seed\"],\n",
    "                                                 W2025Stats.loc[j,\"Seed\"],\n",
    "                                                 Home,\n",
    "                                                 Away,\n",
    "                                                 Neutral])\n",
    "        res = pd.DataFrame({\"Team1\": Team1,\n",
    "                            \"Team2\": Team2,\n",
    "                            \"Home\": Home,\n",
    "                            \"Away\": Away,\n",
    "                            \"Neutral\": Neutral,\n",
    "                            \"Pred\": winperc},\n",
    "                            index = [0])\n",
    "        W2025Pred = pd.concat([W2025Pred, res], ignore_index=True, axis = 0)\n",
    "\n",
    "            "
   ]
  },
  {
   "cell_type": "code",
   "execution_count": 93,
   "metadata": {},
   "outputs": [],
   "source": [
    "WPredFinal = W2025Pred.loc[:,[\"Team1\",\"Team2\",\"Pred\"]]\n",
    "WPredFinal[\"ID\"] = \"2025_\" + WPredFinal[\"Team1\"].astype('str') + \"_\" + WPredFinal[\"Team2\"].astype('str')\n",
    "WPredFinal.drop([\"Team1\",\"Team2\"], axis = 1,inplace = True)\n",
    "WPredFinal.set_index([\"ID\"], inplace = True)\n",
    "\n",
    "MPredFinal = M2025Pred.copy()\n",
    "MPredFinal[\"ID\"] = \"2025_\" + MPredFinal[\"Team1\"].astype('str') + \"_\" + MPredFinal[\"Team2\"].astype('str')\n",
    "MPredFinal.drop([\"Team1\",\"Team2\"], axis = 1,inplace = True)\n",
    "MPredFinal.set_index([\"ID\"], inplace = True)"
   ]
  },
  {
   "cell_type": "code",
   "execution_count": 94,
   "metadata": {},
   "outputs": [
    {
     "data": {
      "application/vnd.microsoft.datawrangler.viewer.v0+json": {
       "columns": [
        {
         "name": "ID",
         "rawType": "object",
         "type": "string"
        },
        {
         "name": "Pred",
         "rawType": "float64",
         "type": "float"
        }
       ],
       "conversionMethod": "pd.DataFrame",
       "ref": "31dce26e-b6b2-4ecf-b068-a5869421cc7a",
       "rows": [
        [
         "2025_1101_1102",
         "0.6228253036219595"
        ],
        [
         "2025_1101_1103",
         "0.2188493904978539"
        ],
        [
         "2025_1101_1104",
         "0.041282996475370495"
        ],
        [
         "2025_1101_1105",
         "0.7236527320759205"
        ],
        [
         "2025_1101_1106",
         "0.5262346873466652"
        ]
       ],
       "shape": {
        "columns": 1,
        "rows": 5
       }
      },
      "text/html": [
       "<div>\n",
       "<style scoped>\n",
       "    .dataframe tbody tr th:only-of-type {\n",
       "        vertical-align: middle;\n",
       "    }\n",
       "\n",
       "    .dataframe tbody tr th {\n",
       "        vertical-align: top;\n",
       "    }\n",
       "\n",
       "    .dataframe thead th {\n",
       "        text-align: right;\n",
       "    }\n",
       "</style>\n",
       "<table border=\"1\" class=\"dataframe\">\n",
       "  <thead>\n",
       "    <tr style=\"text-align: right;\">\n",
       "      <th></th>\n",
       "      <th>Pred</th>\n",
       "    </tr>\n",
       "    <tr>\n",
       "      <th>ID</th>\n",
       "      <th></th>\n",
       "    </tr>\n",
       "  </thead>\n",
       "  <tbody>\n",
       "    <tr>\n",
       "      <th>2025_1101_1102</th>\n",
       "      <td>0.622825</td>\n",
       "    </tr>\n",
       "    <tr>\n",
       "      <th>2025_1101_1103</th>\n",
       "      <td>0.218849</td>\n",
       "    </tr>\n",
       "    <tr>\n",
       "      <th>2025_1101_1104</th>\n",
       "      <td>0.041283</td>\n",
       "    </tr>\n",
       "    <tr>\n",
       "      <th>2025_1101_1105</th>\n",
       "      <td>0.723653</td>\n",
       "    </tr>\n",
       "    <tr>\n",
       "      <th>2025_1101_1106</th>\n",
       "      <td>0.526235</td>\n",
       "    </tr>\n",
       "  </tbody>\n",
       "</table>\n",
       "</div>"
      ],
      "text/plain": [
       "                    Pred\n",
       "ID                      \n",
       "2025_1101_1102  0.622825\n",
       "2025_1101_1103  0.218849\n",
       "2025_1101_1104  0.041283\n",
       "2025_1101_1105  0.723653\n",
       "2025_1101_1106  0.526235"
      ]
     },
     "execution_count": 94,
     "metadata": {},
     "output_type": "execute_result"
    }
   ],
   "source": [
    "FinalPreds = pd.concat([MPredFinal,WPredFinal])\n",
    "FinalPreds.head()"
   ]
  }
 ],
 "metadata": {
  "kernelspec": {
   "display_name": "base",
   "language": "python",
   "name": "python3"
  },
  "language_info": {
   "codemirror_mode": {
    "name": "ipython",
    "version": 3
   },
   "file_extension": ".py",
   "mimetype": "text/x-python",
   "name": "python",
   "nbconvert_exporter": "python",
   "pygments_lexer": "ipython3",
   "version": "3.11.7"
  }
 },
 "nbformat": 4,
 "nbformat_minor": 2
}
