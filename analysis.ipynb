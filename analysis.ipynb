{
 "cells": [
  {
   "cell_type": "code",
   "execution_count": 124,
   "metadata": {},
   "outputs": [],
   "source": [
    "import pandas as pd \n",
    "import numpy as np \n",
    "import math \n",
    "from sklearn.linear_model import LinearRegression\n",
    "import sklearn.metrics\n",
    "from sklearn.preprocessing import StandardScaler"
   ]
  },
  {
   "cell_type": "markdown",
   "metadata": {},
   "source": [
    "# MEN'S ANALYSIS"
   ]
  },
  {
   "cell_type": "markdown",
   "metadata": {},
   "source": [
    "## Reading in the data"
   ]
  },
  {
   "cell_type": "code",
   "execution_count": 118,
   "metadata": {},
   "outputs": [],
   "source": [
    "# Men's regular season detailed stats\n",
    "MRegStats = pd.read_csv(\"Data/MRegularSeasonDetailedResults.csv\")\n",
    "\n",
    "# Men's regular season compact stats\n",
    "MCompStats = pd.read_csv(\"Data/MRegularSeasonCompactResults.csv\")\n",
    "\n",
    "# Men's NCAA tournament detailed stats\n",
    "MTournStats = pd.read_csv(\"Data/MNCAATourneyDetailedResults.csv\")\n",
    "\n",
    "# Men's NCAA tournament compact stats\n",
    "MCompTournStats = pd.read_csv(\"Data/MNCAATourneyCompactResults.csv\")\n",
    "\n",
    "# Men's Conference tournament stats\n",
    "MConfTournStats = pd.read_csv(\"Data/MConferenceTourneyGames.csv\")\n",
    "\n",
    "# Men's Team names\n",
    "MTeams = pd.read_csv(\"Data/MTeams.csv\")\n",
    "MTeamSpellings = pd.read_csv(\"Data/MTeamSpellings.csv\", encoding='unicode_escape')\n",
    "\n",
    "# Men's Massey Ordinals\n",
    "MOridinals = pd.read_csv(\"Data/MMasseyOrdinals.csv\")\n",
    "\n",
    "# Men's Tournament Seeds\n",
    "MSeeds = pd.read_csv(\"Data/MNCAATourneySeeds.csv\")\n",
    "\n",
    "# Men's Coaches\n",
    "MCoaches = pd.read_csv(\"Data/MTeamCoaches.csv\")\n",
    "\n",
    "# Men's Conferences\n",
    "MConferences = pd.read_csv(\"Data/MTeamConferences.csv\")\n",
    "\n",
    "# Cities\n",
    "Cities = pd.read_csv(\"Data/Cities.csv\")\n",
    "MGameCities = pd.read_csv(\"Data/MGameCities.csv\")"
   ]
  },
  {
   "cell_type": "code",
   "execution_count": 119,
   "metadata": {},
   "outputs": [],
   "source": [
    "# Basic Percentage Stats\n",
    "# FG Perc\n",
    "MRegStats[\"WFGPerc\"] = MRegStats[\"WFGM\"] / MRegStats[\"WFGA\"]\n",
    "MRegStats[\"LFGPerc\"] = MRegStats[\"LFGM\"] / MRegStats[\"LFGA\"]\n",
    "\n",
    "# 3PT Perc\n",
    "MRegStats[\"WFG3Perc\"] = MRegStats[\"WFGM3\"] / MRegStats[\"WFGA3\"]\n",
    "MRegStats[\"LFG3Perc\"] = MRegStats[\"LFGM3\"] / MRegStats[\"LFGA3\"]\n",
    "\n",
    "# 3PT Rate\n",
    "MRegStats[\"W3Rate\"] = MRegStats[\"WFGA3\"] / MRegStats[\"WFGA\"]\n",
    "MRegStats[\"L3Rate\"] = MRegStats[\"LFGA3\"] / MRegStats[\"LFGA\"]\n",
    "\n",
    "# FT Perc\n",
    "#MRegStats[\"WFTPerc\"] = MRegStats[\"WFTM\"] / MRegStats[\"WFTA\"]\n",
    "#MRegStats[\"LFTPerc\"] = MRegStats[\"LFTM\"] / MRegStats[\"LFTA\"]\n",
    "\n",
    "# 2PT Perc\n",
    "MRegStats[\"WFG2Perc\"] = (MRegStats[\"WFGM\"] - MRegStats[\"WFGM3\"]) / (MRegStats[\"WFGA\"] - MRegStats[\"WFGA3\"])\n",
    "MRegStats[\"LFG2Perc\"] = (MRegStats[\"LFGM\"] - MRegStats[\"LFGM3\"]) / (MRegStats[\"LFGA\"] - MRegStats[\"LFGA3\"])\n",
    "\n",
    "# 2PT Rate\n",
    "MRegStats[\"W2Rate\"] = (MRegStats[\"WFGA\"] - MRegStats[\"WFGA3\"]) / MRegStats[\"WFGA\"]\n",
    "MRegStats[\"L2Rate\"] = (MRegStats[\"LFGA\"] - MRegStats[\"LFGA3\"]) / MRegStats[\"LFGA\"]\n"
   ]
  },
  {
   "cell_type": "code",
   "execution_count": 120,
   "metadata": {},
   "outputs": [],
   "source": [
    "# Tempo\n",
    "# This is how the NET rankings calculate tempo so we will emulate it\n",
    "MRegStats[\"WTempo\"] = MRegStats[\"WFGA\"] - MRegStats[\"WOR\"] + MRegStats[\"WTO\"] + 0.475 * MRegStats[\"WFTA\"]\n",
    "MRegStats[\"LTempo\"] = MRegStats[\"LFGA\"] - MRegStats[\"LOR\"] + MRegStats[\"LTO\"] + 0.475 * MRegStats[\"LFTA\"]\n",
    "\n",
    "# Four Factors\n",
    "# eFG%\n",
    "MRegStats[\"WeFG\"] = (MRegStats[\"WFGM\"] + 0.5 * MRegStats[\"WFGM3\"]) / MRegStats[\"WFGA\"]\n",
    "MRegStats[\"LeFG\"] = (MRegStats[\"LFGM\"] + 0.5 * MRegStats[\"LFGM3\"]) / MRegStats[\"LFGA\"]\n",
    "\n",
    "# OR%\n",
    "MRegStats[\"WORPerc\"] = MRegStats[\"WOR\"] / (MRegStats[\"WOR\"] + MRegStats[\"LDR\"])\n",
    "MRegStats[\"LORPerc\"] = MRegStats[\"LOR\"] / (MRegStats[\"LOR\"] + MRegStats[\"WDR\"])\n",
    "\n",
    "# TO%\n",
    "MRegStats[\"WTOPerc\"] = (MRegStats[\"WTO\"] / MRegStats[\"WTempo\"]) * 100\n",
    "MRegStats[\"LTOPerc\"] = (MRegStats[\"LTO\"] / MRegStats[\"LTempo\"]) * 100\n",
    "\n",
    "# FTR\n",
    "MRegStats[\"WFTR\"] = MRegStats[\"WFTA\"] / MRegStats[\"WFGA\"]\n",
    "MRegStats[\"LFTR\"] = MRegStats[\"LFTA\"] / MRegStats[\"LFGA\"]"
   ]
  },
  {
   "cell_type": "code",
   "execution_count": 121,
   "metadata": {},
   "outputs": [],
   "source": [
    "# Net Rating Stats\n",
    "\n",
    "# \"uORTG\" is unadjusted Offensive Rating. This will be used to adjust later.\n",
    "MRegStats[\"WuORTG\"] = (MRegStats[\"WScore\"] / MRegStats[\"WTempo\"]) * 100\n",
    "MRegStats[\"LuORTG\"] = (MRegStats[\"LScore\"] / MRegStats[\"LTempo\"]) * 100\n",
    "\n",
    "# The same goes for defensive rating. \"uDRTG\" is the unadjusted defensive rating\n",
    "MRegStats[\"WuDRTG\"] = (MRegStats[\"LScore\"] / MRegStats[\"LTempo\"]) * 100\n",
    "MRegStats[\"LuDRTG\"] = (MRegStats[\"WScore\"] / MRegStats[\"WTempo\"]) * 100\n",
    "\n",
    "# And now Net Rating is just Offensive Rating - Defensive Rating\n",
    "MRegStats[\"WuNetRtg\"] = MRegStats[\"WuORTG\"] - MRegStats[\"WuDRTG\"]\n",
    "MRegStats[\"LuNetRtg\"] = MRegStats[\"LuORTG\"] - MRegStats[\"LuDRTG\"]\n"
   ]
  },
  {
   "cell_type": "markdown",
   "metadata": {},
   "source": [
    "Adjusting the data to be longer instead of wider. Twice as long but groupable by team now."
   ]
  },
  {
   "cell_type": "code",
   "execution_count": 122,
   "metadata": {},
   "outputs": [],
   "source": [
    "# Making two dataframes so that they can be added to each other when they change\n",
    "MWTeamStats = MRegStats.copy()\n",
    "MLTeamStats = MRegStats.copy()\n",
    "# Changing location of teams between wins and losses\n",
    "MLTeamStats[\"WLoc\"] = MLTeamStats[\"WLoc\"].map(lambda x: \"H\" if x == \"A\" else \"A\" if x == \"H\" else x)\n",
    "MLTeamStats[\"LLoc\"] = MLTeamStats[\"WLoc\"]\n",
    "MLTeamStats.drop(\"WLoc\",axis = 1, inplace = True)\n",
    "\n",
    "\n",
    "# Rename columns for MWTeamStats (Team perspective)\n",
    "MWTeamStats.rename(columns={col: col.replace(\"W\", \"Team_\", 1) for col in MWTeamStats.columns if col.startswith(\"W\")}, inplace=True)\n",
    "MWTeamStats.rename(columns={col: col.replace(\"L\", \"Opp_\", 1) for col in MWTeamStats.columns if col.startswith(\"L\")}, inplace=True)\n",
    "\n",
    "# Rename columns for MLTeamStats (Opponent perspective)\n",
    "MLTeamStats.rename(columns={col: col.replace(\"W\", \"Opp_\", 1) for col in MLTeamStats.columns if col.startswith(\"W\")}, inplace=True)\n",
    "MLTeamStats.rename(columns={col: col.replace(\"L\", \"Team_\", 1) for col in MLTeamStats.columns if col.startswith(\"L\")}, inplace=True)\n",
    "\n",
    "# Final Team Stats dataframe\n",
    "MTeamStats = pd.concat([MWTeamStats, MLTeamStats], ignore_index=True)"
   ]
  },
  {
   "cell_type": "markdown",
   "metadata": {},
   "source": [
    "Additional Stats Added - Conference (Name and Record), Coach, Wins, City (later)"
   ]
  },
  {
   "cell_type": "code",
   "execution_count": null,
   "metadata": {},
   "outputs": [
    {
     "data": {
      "application/vnd.microsoft.datawrangler.viewer.v0+json": {
       "columns": [
        {
         "name": "index",
         "rawType": "int64",
         "type": "integer"
        },
        {
         "name": "Season",
         "rawType": "int64",
         "type": "integer"
        },
        {
         "name": "DayNum",
         "rawType": "int64",
         "type": "integer"
        },
        {
         "name": "Team_TeamID",
         "rawType": "int64",
         "type": "integer"
        },
        {
         "name": "Team_Score",
         "rawType": "int64",
         "type": "integer"
        },
        {
         "name": "Opp_TeamID",
         "rawType": "int64",
         "type": "integer"
        },
        {
         "name": "Opp_Score",
         "rawType": "int64",
         "type": "integer"
        },
        {
         "name": "Team_Loc",
         "rawType": "object",
         "type": "string"
        },
        {
         "name": "NumOT",
         "rawType": "int64",
         "type": "integer"
        },
        {
         "name": "Team_FGM",
         "rawType": "int64",
         "type": "integer"
        },
        {
         "name": "Team_FGA",
         "rawType": "int64",
         "type": "integer"
        },
        {
         "name": "Team_FGM3",
         "rawType": "int64",
         "type": "integer"
        },
        {
         "name": "Team_FGA3",
         "rawType": "int64",
         "type": "integer"
        },
        {
         "name": "Team_FTM",
         "rawType": "int64",
         "type": "integer"
        },
        {
         "name": "Team_FTA",
         "rawType": "int64",
         "type": "integer"
        },
        {
         "name": "Team_OR",
         "rawType": "int64",
         "type": "integer"
        },
        {
         "name": "Team_DR",
         "rawType": "int64",
         "type": "integer"
        },
        {
         "name": "Team_Ast",
         "rawType": "int64",
         "type": "integer"
        },
        {
         "name": "Team_TO",
         "rawType": "int64",
         "type": "integer"
        },
        {
         "name": "Team_Stl",
         "rawType": "int64",
         "type": "integer"
        },
        {
         "name": "Team_Blk",
         "rawType": "int64",
         "type": "integer"
        },
        {
         "name": "Team_PF",
         "rawType": "int64",
         "type": "integer"
        },
        {
         "name": "Opp_FGM",
         "rawType": "int64",
         "type": "integer"
        },
        {
         "name": "Opp_FGA",
         "rawType": "int64",
         "type": "integer"
        },
        {
         "name": "Opp_FGM3",
         "rawType": "int64",
         "type": "integer"
        },
        {
         "name": "Opp_FGA3",
         "rawType": "int64",
         "type": "integer"
        },
        {
         "name": "Opp_FTM",
         "rawType": "int64",
         "type": "integer"
        },
        {
         "name": "Opp_FTA",
         "rawType": "int64",
         "type": "integer"
        },
        {
         "name": "Opp_OR",
         "rawType": "int64",
         "type": "integer"
        },
        {
         "name": "Opp_DR",
         "rawType": "int64",
         "type": "integer"
        },
        {
         "name": "Opp_Ast",
         "rawType": "int64",
         "type": "integer"
        },
        {
         "name": "Opp_TO",
         "rawType": "int64",
         "type": "integer"
        },
        {
         "name": "Opp_Stl",
         "rawType": "int64",
         "type": "integer"
        },
        {
         "name": "Opp_Blk",
         "rawType": "int64",
         "type": "integer"
        },
        {
         "name": "Opp_PF",
         "rawType": "int64",
         "type": "integer"
        },
        {
         "name": "Team_FGPerc",
         "rawType": "float64",
         "type": "float"
        },
        {
         "name": "Opp_FGPerc",
         "rawType": "float64",
         "type": "float"
        },
        {
         "name": "Team_FG3Perc",
         "rawType": "float64",
         "type": "float"
        },
        {
         "name": "Opp_FG3Perc",
         "rawType": "float64",
         "type": "float"
        },
        {
         "name": "Team_3Rate",
         "rawType": "float64",
         "type": "float"
        },
        {
         "name": "Opp_3Rate",
         "rawType": "float64",
         "type": "float"
        },
        {
         "name": "Team_FG2Perc",
         "rawType": "float64",
         "type": "float"
        },
        {
         "name": "Opp_FG2Perc",
         "rawType": "float64",
         "type": "float"
        },
        {
         "name": "Team_2Rate",
         "rawType": "float64",
         "type": "float"
        },
        {
         "name": "Opp_2Rate",
         "rawType": "float64",
         "type": "float"
        },
        {
         "name": "Team_Tempo",
         "rawType": "float64",
         "type": "float"
        },
        {
         "name": "Opp_Tempo",
         "rawType": "float64",
         "type": "float"
        },
        {
         "name": "Team_eFG",
         "rawType": "float64",
         "type": "float"
        },
        {
         "name": "Opp_eFG",
         "rawType": "float64",
         "type": "float"
        },
        {
         "name": "Team_ORPerc",
         "rawType": "float64",
         "type": "float"
        },
        {
         "name": "Opp_ORPerc",
         "rawType": "float64",
         "type": "float"
        },
        {
         "name": "Team_TOPerc",
         "rawType": "float64",
         "type": "float"
        },
        {
         "name": "Opp_TOPerc",
         "rawType": "float64",
         "type": "float"
        },
        {
         "name": "Team_FTR",
         "rawType": "float64",
         "type": "float"
        },
        {
         "name": "Opp_FTR",
         "rawType": "float64",
         "type": "float"
        },
        {
         "name": "Team_uORTG",
         "rawType": "float64",
         "type": "float"
        },
        {
         "name": "Opp_uORTG",
         "rawType": "float64",
         "type": "float"
        },
        {
         "name": "Team_uDRTG",
         "rawType": "float64",
         "type": "float"
        },
        {
         "name": "Opp_uDRTG",
         "rawType": "float64",
         "type": "float"
        },
        {
         "name": "Team_uNetRtg",
         "rawType": "float64",
         "type": "float"
        },
        {
         "name": "Opp_uNetRtg",
         "rawType": "float64",
         "type": "float"
        },
        {
         "name": "TeamID_x",
         "rawType": "int64",
         "type": "integer"
        },
        {
         "name": "Team_Conf",
         "rawType": "object",
         "type": "string"
        },
        {
         "name": "TeamID_y",
         "rawType": "int64",
         "type": "integer"
        },
        {
         "name": "Opp_Conf",
         "rawType": "object",
         "type": "string"
        },
        {
         "name": "ConfGame",
         "rawType": "int32",
         "type": "integer"
        }
       ],
       "conversionMethod": "pd.DataFrame",
       "ref": "71bc7f93-41bb-4d28-9fa4-2a9ea0ee7f2b",
       "rows": [
        [
         "0",
         "2003",
         "10",
         "1104",
         "68",
         "1328",
         "62",
         "N",
         "0",
         "27",
         "58",
         "3",
         "14",
         "11",
         "18",
         "14",
         "24",
         "13",
         "23",
         "7",
         "1",
         "22",
         "22",
         "53",
         "2",
         "10",
         "16",
         "22",
         "10",
         "22",
         "8",
         "18",
         "9",
         "2",
         "20",
         "0.46551724137931033",
         "0.41509433962264153",
         "0.21428571428571427",
         "0.2",
         "0.2413793103448276",
         "0.18867924528301888",
         "0.5454545454545454",
         "0.46511627906976744",
         "0.7586206896551724",
         "0.8113207547169812",
         "75.55",
         "71.45",
         "0.49137931034482757",
         "0.4339622641509434",
         "0.3888888888888889",
         "0.29411764705882354",
         "30.443414956982135",
         "25.192442267319805",
         "0.3103448275862069",
         "0.41509433962264153",
         "90.0066181336863",
         "86.77396780965711",
         "86.77396780965711",
         "90.0066181336863",
         "3.232650324029194",
         "-3.232650324029194",
         "1104",
         "sec",
         "1328",
         "big_twelve",
         "0"
        ],
        [
         "1",
         "2003",
         "98",
         "1400",
         "67",
         "1328",
         "61",
         "H",
         "0",
         "25",
         "64",
         "5",
         "14",
         "12",
         "20",
         "18",
         "24",
         "10",
         "10",
         "5",
         "4",
         "16",
         "22",
         "52",
         "7",
         "14",
         "10",
         "15",
         "9",
         "25",
         "5",
         "14",
         "5",
         "3",
         "20",
         "0.390625",
         "0.4230769230769231",
         "0.35714285714285715",
         "0.5",
         "0.21875",
         "0.2692307692307692",
         "0.4",
         "0.39473684210526316",
         "0.78125",
         "0.7307692307692307",
         "65.5",
         "64.125",
         "0.4296875",
         "0.49038461538461536",
         "0.4186046511627907",
         "0.2727272727272727",
         "15.267175572519085",
         "21.832358674463936",
         "0.3125",
         "0.28846153846153844",
         "102.29007633587786",
         "95.12670565302143",
         "95.12670565302143",
         "102.29007633587786",
         "7.163370682856424",
         "-7.163370682856424",
         "1400",
         "big_twelve",
         "1328",
         "big_twelve",
         "1"
        ],
        [
         "2",
         "2003",
         "124",
         "1400",
         "76",
         "1328",
         "71",
         "A",
         "0",
         "27",
         "50",
         "6",
         "11",
         "16",
         "25",
         "9",
         "28",
         "13",
         "13",
         "5",
         "0",
         "21",
         "25",
         "60",
         "8",
         "21",
         "13",
         "23",
         "15",
         "19",
         "16",
         "9",
         "8",
         "6",
         "23",
         "0.54",
         "0.4166666666666667",
         "0.5454545454545454",
         "0.38095238095238093",
         "0.22",
         "0.35",
         "0.5384615384615384",
         "0.4358974358974359",
         "0.78",
         "0.65",
         "65.875",
         "64.925",
         "0.6",
         "0.48333333333333334",
         "0.32142857142857145",
         "0.3488372093023256",
         "19.734345351043643",
         "13.862148633038121",
         "0.5",
         "0.38333333333333336",
         "115.37001897533207",
         "109.35695032730072",
         "109.35695032730072",
         "115.37001897533207",
         "6.01306864803135",
         "-6.01306864803135",
         "1400",
         "big_twelve",
         "1328",
         "big_twelve",
         "1"
        ],
        [
         "3",
         "2003",
         "111",
         "1242",
         "70",
         "1328",
         "77",
         "A",
         "0",
         "21",
         "61",
         "5",
         "14",
         "23",
         "33",
         "16",
         "27",
         "12",
         "12",
         "6",
         "3",
         "26",
         "25",
         "52",
         "9",
         "16",
         "18",
         "31",
         "8",
         "29",
         "9",
         "13",
         "6",
         "6",
         "26",
         "0.3442622950819672",
         "0.4807692307692308",
         "0.35714285714285715",
         "0.5625",
         "0.22950819672131148",
         "0.3076923076923077",
         "0.3404255319148936",
         "0.4444444444444444",
         "0.7704918032786885",
         "0.6923076923076923",
         "72.675",
         "71.725",
         "0.38524590163934425",
         "0.5673076923076923",
         "0.35555555555555557",
         "0.22857142857142856",
         "16.51186790505676",
         "18.12478215406065",
         "0.5409836065573771",
         "0.5961538461538461",
         "96.31922944616443",
         "107.35447891251309",
         "107.35447891251309",
         "96.31922944616443",
         "-11.03524946634866",
         "11.03524946634866",
         "1242",
         "big_twelve",
         "1328",
         "big_twelve",
         "1"
        ],
        [
         "4",
         "2003",
         "120",
         "1304",
         "51",
         "1328",
         "76",
         "A",
         "0",
         "21",
         "53",
         "1",
         "12",
         "8",
         "16",
         "10",
         "26",
         "7",
         "20",
         "5",
         "2",
         "17",
         "27",
         "62",
         "8",
         "19",
         "14",
         "17",
         "12",
         "28",
         "19",
         "12",
         "7",
         "7",
         "15",
         "0.39622641509433965",
         "0.43548387096774194",
         "0.08333333333333333",
         "0.42105263157894735",
         "0.22641509433962265",
         "0.3064516129032258",
         "0.4878048780487805",
         "0.4418604651162791",
         "0.7735849056603774",
         "0.6935483870967742",
         "70.6",
         "70.075",
         "0.4056603773584906",
         "0.5",
         "0.2631578947368421",
         "0.3157894736842105",
         "28.328611898016998",
         "17.12450945415626",
         "0.3018867924528302",
         "0.27419354838709675",
         "72.23796033994336",
         "108.45522654298965",
         "108.45522654298965",
         "72.23796033994336",
         "-36.21726620304629",
         "36.21726620304629",
         "1304",
         "big_twelve",
         "1328",
         "big_twelve",
         "1"
        ]
       ],
       "shape": {
        "columns": 65,
        "rows": 5
       }
      },
      "text/html": [
       "<div>\n",
       "<style scoped>\n",
       "    .dataframe tbody tr th:only-of-type {\n",
       "        vertical-align: middle;\n",
       "    }\n",
       "\n",
       "    .dataframe tbody tr th {\n",
       "        vertical-align: top;\n",
       "    }\n",
       "\n",
       "    .dataframe thead th {\n",
       "        text-align: right;\n",
       "    }\n",
       "</style>\n",
       "<table border=\"1\" class=\"dataframe\">\n",
       "  <thead>\n",
       "    <tr style=\"text-align: right;\">\n",
       "      <th></th>\n",
       "      <th>Season</th>\n",
       "      <th>DayNum</th>\n",
       "      <th>Team_TeamID</th>\n",
       "      <th>Team_Score</th>\n",
       "      <th>Opp_TeamID</th>\n",
       "      <th>Opp_Score</th>\n",
       "      <th>Team_Loc</th>\n",
       "      <th>NumOT</th>\n",
       "      <th>Team_FGM</th>\n",
       "      <th>Team_FGA</th>\n",
       "      <th>...</th>\n",
       "      <th>Opp_uORTG</th>\n",
       "      <th>Team_uDRTG</th>\n",
       "      <th>Opp_uDRTG</th>\n",
       "      <th>Team_uNetRtg</th>\n",
       "      <th>Opp_uNetRtg</th>\n",
       "      <th>TeamID_x</th>\n",
       "      <th>Team_Conf</th>\n",
       "      <th>TeamID_y</th>\n",
       "      <th>Opp_Conf</th>\n",
       "      <th>ConfGame</th>\n",
       "    </tr>\n",
       "  </thead>\n",
       "  <tbody>\n",
       "    <tr>\n",
       "      <th>0</th>\n",
       "      <td>2003</td>\n",
       "      <td>10</td>\n",
       "      <td>1104</td>\n",
       "      <td>68</td>\n",
       "      <td>1328</td>\n",
       "      <td>62</td>\n",
       "      <td>N</td>\n",
       "      <td>0</td>\n",
       "      <td>27</td>\n",
       "      <td>58</td>\n",
       "      <td>...</td>\n",
       "      <td>86.773968</td>\n",
       "      <td>86.773968</td>\n",
       "      <td>90.006618</td>\n",
       "      <td>3.232650</td>\n",
       "      <td>-3.232650</td>\n",
       "      <td>1104</td>\n",
       "      <td>sec</td>\n",
       "      <td>1328</td>\n",
       "      <td>big_twelve</td>\n",
       "      <td>0</td>\n",
       "    </tr>\n",
       "    <tr>\n",
       "      <th>1</th>\n",
       "      <td>2003</td>\n",
       "      <td>98</td>\n",
       "      <td>1400</td>\n",
       "      <td>67</td>\n",
       "      <td>1328</td>\n",
       "      <td>61</td>\n",
       "      <td>H</td>\n",
       "      <td>0</td>\n",
       "      <td>25</td>\n",
       "      <td>64</td>\n",
       "      <td>...</td>\n",
       "      <td>95.126706</td>\n",
       "      <td>95.126706</td>\n",
       "      <td>102.290076</td>\n",
       "      <td>7.163371</td>\n",
       "      <td>-7.163371</td>\n",
       "      <td>1400</td>\n",
       "      <td>big_twelve</td>\n",
       "      <td>1328</td>\n",
       "      <td>big_twelve</td>\n",
       "      <td>1</td>\n",
       "    </tr>\n",
       "    <tr>\n",
       "      <th>2</th>\n",
       "      <td>2003</td>\n",
       "      <td>124</td>\n",
       "      <td>1400</td>\n",
       "      <td>76</td>\n",
       "      <td>1328</td>\n",
       "      <td>71</td>\n",
       "      <td>A</td>\n",
       "      <td>0</td>\n",
       "      <td>27</td>\n",
       "      <td>50</td>\n",
       "      <td>...</td>\n",
       "      <td>109.356950</td>\n",
       "      <td>109.356950</td>\n",
       "      <td>115.370019</td>\n",
       "      <td>6.013069</td>\n",
       "      <td>-6.013069</td>\n",
       "      <td>1400</td>\n",
       "      <td>big_twelve</td>\n",
       "      <td>1328</td>\n",
       "      <td>big_twelve</td>\n",
       "      <td>1</td>\n",
       "    </tr>\n",
       "    <tr>\n",
       "      <th>3</th>\n",
       "      <td>2003</td>\n",
       "      <td>111</td>\n",
       "      <td>1242</td>\n",
       "      <td>70</td>\n",
       "      <td>1328</td>\n",
       "      <td>77</td>\n",
       "      <td>A</td>\n",
       "      <td>0</td>\n",
       "      <td>21</td>\n",
       "      <td>61</td>\n",
       "      <td>...</td>\n",
       "      <td>107.354479</td>\n",
       "      <td>107.354479</td>\n",
       "      <td>96.319229</td>\n",
       "      <td>-11.035249</td>\n",
       "      <td>11.035249</td>\n",
       "      <td>1242</td>\n",
       "      <td>big_twelve</td>\n",
       "      <td>1328</td>\n",
       "      <td>big_twelve</td>\n",
       "      <td>1</td>\n",
       "    </tr>\n",
       "    <tr>\n",
       "      <th>4</th>\n",
       "      <td>2003</td>\n",
       "      <td>120</td>\n",
       "      <td>1304</td>\n",
       "      <td>51</td>\n",
       "      <td>1328</td>\n",
       "      <td>76</td>\n",
       "      <td>A</td>\n",
       "      <td>0</td>\n",
       "      <td>21</td>\n",
       "      <td>53</td>\n",
       "      <td>...</td>\n",
       "      <td>108.455227</td>\n",
       "      <td>108.455227</td>\n",
       "      <td>72.237960</td>\n",
       "      <td>-36.217266</td>\n",
       "      <td>36.217266</td>\n",
       "      <td>1304</td>\n",
       "      <td>big_twelve</td>\n",
       "      <td>1328</td>\n",
       "      <td>big_twelve</td>\n",
       "      <td>1</td>\n",
       "    </tr>\n",
       "  </tbody>\n",
       "</table>\n",
       "<p>5 rows × 65 columns</p>\n",
       "</div>"
      ],
      "text/plain": [
       "   Season  DayNum  Team_TeamID  Team_Score  Opp_TeamID  Opp_Score Team_Loc  \\\n",
       "0    2003      10         1104          68        1328         62        N   \n",
       "1    2003      98         1400          67        1328         61        H   \n",
       "2    2003     124         1400          76        1328         71        A   \n",
       "3    2003     111         1242          70        1328         77        A   \n",
       "4    2003     120         1304          51        1328         76        A   \n",
       "\n",
       "   NumOT  Team_FGM  Team_FGA  ...   Opp_uORTG  Team_uDRTG   Opp_uDRTG  \\\n",
       "0      0        27        58  ...   86.773968   86.773968   90.006618   \n",
       "1      0        25        64  ...   95.126706   95.126706  102.290076   \n",
       "2      0        27        50  ...  109.356950  109.356950  115.370019   \n",
       "3      0        21        61  ...  107.354479  107.354479   96.319229   \n",
       "4      0        21        53  ...  108.455227  108.455227   72.237960   \n",
       "\n",
       "   Team_uNetRtg  Opp_uNetRtg  TeamID_x   Team_Conf  TeamID_y    Opp_Conf  \\\n",
       "0      3.232650    -3.232650      1104         sec      1328  big_twelve   \n",
       "1      7.163371    -7.163371      1400  big_twelve      1328  big_twelve   \n",
       "2      6.013069    -6.013069      1400  big_twelve      1328  big_twelve   \n",
       "3    -11.035249    11.035249      1242  big_twelve      1328  big_twelve   \n",
       "4    -36.217266    36.217266      1304  big_twelve      1328  big_twelve   \n",
       "\n",
       "   ConfGame  \n",
       "0         0  \n",
       "1         1  \n",
       "2         1  \n",
       "3         1  \n",
       "4         1  \n",
       "\n",
       "[5 rows x 65 columns]"
      ]
     },
     "execution_count": 123,
     "metadata": {},
     "output_type": "execute_result"
    }
   ],
   "source": [
    "# Merge conference names for conference bias later in the analysis\n",
    "MTeamStats = MTeamStats.merge(MConferences,left_on = [\"Season\",\"Team_TeamID\"],right_on = [\"Season\",\"TeamID\"]).rename(columns = {\"ConfAbbrev\": \"Team_Conf\"})\n",
    "MTeamStats = MTeamStats.merge(MConferences, left_on = [\"Season\",\"Opp_TeamID\"], right_on = [\"Season\",\"TeamID\"]).rename(columns = {\"ConfAbbrev\": \"Opp_Conf\"})\n",
    "MTeamStats[\"ConfGame\"] = (MTeamStats[\"Team_Conf\"] == MTeamStats[\"Opp_Conf\"]).astype(int)\n",
    "\n",
    "MTeamStats.head()"
   ]
  },
  {
   "cell_type": "code",
   "execution_count": null,
   "metadata": {},
   "outputs": [],
   "source": [
    "# Add a result to see if a team won or not; this will be used for win percentage later\n",
    "MTeamStats[\"Result\"] = (MTeamStats[\"Team_Score\"] > MTeamStats[\"Opp_Score\"]).astype(int)"
   ]
  },
  {
   "cell_type": "markdown",
   "metadata": {},
   "source": [
    "Instead of looking at just net rating, we want to adjust based on the offensive and defensive ratings as well. We normalize the offense and defensive ratings in order to get an adjustment for later."
   ]
  },
  {
   "cell_type": "code",
   "execution_count": 142,
   "metadata": {},
   "outputs": [],
   "source": [
    "# Select only numerical columns in the MTeamStats dataframe\n",
    "TeamStatsNumericCols = MTeamStats.select_dtypes(include = ['number']).columns.difference([\"Season\",\"Team_TeamID\",\"Opp_TeamID\"])\n",
    "\n",
    "# Use the numerical columns to then get the mean of all of the columns\n",
    "MTeamGroupedStats = MTeamStats.groupby([\"Season\",\"Team_TeamID\",\"Team_Conf\"])[TeamStatsNumericCols].mean().reset_index()\n",
    "\n",
    "# Group by conference to get conference adjustments\n",
    "MConfNetStats = MTeamStats.groupby([\"Season\",\"Team_Conf\"])[[\"Team_uORTG\",\"Team_uDRTG\",\"Team_uNetRtg\"]].mean().reset_index()\n",
    "MConfNetStats[\"Team_uORTGweight\"] = MConfNetStats[\"Team_uORTG\"] / MConfNetStats[\"Team_uORTG\"].mean()\n",
    "MConfNetStats[\"Team_uDRTGweight\"] = MConfNetStats[\"Team_uDRTG\"] / MConfNetStats[\"Team_uDRTG\"].mean()"
   ]
  },
  {
   "cell_type": "code",
   "execution_count": null,
   "metadata": {},
   "outputs": [],
   "source": [
    "# Merging the conference weights back into the original dataframe\n",
    "MTeamGroupedStats = MTeamGroupedStats.merge(MConfNetStats[[\"Season\",\"Team_Conf\",\"Team_uORTGweight\",\"Team_uDRTGweight\"]],on = [\"Season\",\"Team_Conf\"])"
   ]
  },
  {
   "cell_type": "code",
   "execution_count": 150,
   "metadata": {},
   "outputs": [],
   "source": [
    "# Creating the conference-adjusted team weights\n",
    "MTeamGroupedStats[\"ConfAdjORTG\"] = MTeamGroupedStats[\"Team_uORTG\"] * MTeamGroupedStats[\"Team_uORTGweight\"]\n",
    "MTeamGroupedStats[\"ConfAdjDRTG\"] = MTeamGroupedStats[\"Team_uDRTG\"] * MTeamGroupedStats[\"Team_uDRTGweight\"]\n",
    "MTeamGroupedStats[\"ConfAdjNetRtg\"] = MTeamGroupedStats[\"ConfAdjORTG\"] - MTeamGroupedStats[\"ConfAdjDRTG\"]"
   ]
  },
  {
   "cell_type": "code",
   "execution_count": 184,
   "metadata": {},
   "outputs": [
    {
     "data": {
      "text/plain": [
       "Team_TeamID\n",
       "1101    -6.302463\n",
       "1102     1.651105\n",
       "1103     7.152810\n",
       "1104    13.362988\n",
       "1105   -17.258504\n",
       "          ...    \n",
       "1476   -14.526650\n",
       "1477   -16.790496\n",
       "1478   -14.347080\n",
       "1479   -18.395853\n",
       "1480   -21.491918\n",
       "Name: ConfAdjNetRtg, Length: 371, dtype: float64"
      ]
     },
     "execution_count": 184,
     "metadata": {},
     "output_type": "execute_result"
    }
   ],
   "source": [
    "MTeamGroupedStats.groupby([\"Team_TeamID\"])[\"ConfAdjNetRtg\"].mean()"
   ]
  },
  {
   "cell_type": "markdown",
   "metadata": {},
   "source": [
    "#### Linear Regression\n",
    "\n",
    "Now we will look at linear regression for the offensive side and defensive side to see what other adjustments need to be made. Sometimes, irregardless of conference, some teams just outperform or underperform their peers, and should be rewarded or punished respectively."
   ]
  },
  {
   "cell_type": "code",
   "execution_count": 185,
   "metadata": {},
   "outputs": [
    {
     "name": "stdout",
     "output_type": "stream",
     "text": [
      "[1200.83311642]\n"
     ]
    },
    {
     "name": "stderr",
     "output_type": "stream",
     "text": [
      "c:\\Users\\mattd\\anaconda3\\Lib\\site-packages\\sklearn\\base.py:439: UserWarning: X does not have valid feature names, but LinearRegression was fitted with feature names\n",
      "  warnings.warn(\n"
     ]
    }
   ],
   "source": [
    "from sklearn.preprocessing import PolynomialFeatures\n",
    "\n",
    "lreg = LinearRegression()\n",
    "MRegDF = MTeamGroupedStats.copy()\n",
    "MRegDF[\"Team_TeamID\"].astype('category')\n",
    "lreg_teams = MRegDF[[\"Team_TeamID\",\"Season\"]]\n",
    "lreg_netrtg = MRegDF[\"ConfAdjNetRtg\"]\n",
    "lreg.fit(lreg_teams,lreg_netrtg)\n",
    "\n",
    "print(lreg.predict([[140000,2024]]))"
   ]
  }
 ],
 "metadata": {
  "kernelspec": {
   "display_name": "base",
   "language": "python",
   "name": "python3"
  },
  "language_info": {
   "codemirror_mode": {
    "name": "ipython",
    "version": 3
   },
   "file_extension": ".py",
   "mimetype": "text/x-python",
   "name": "python",
   "nbconvert_exporter": "python",
   "pygments_lexer": "ipython3",
   "version": "3.11.7"
  }
 },
 "nbformat": 4,
 "nbformat_minor": 2
}
